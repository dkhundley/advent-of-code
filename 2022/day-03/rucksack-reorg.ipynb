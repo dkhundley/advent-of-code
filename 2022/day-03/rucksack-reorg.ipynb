{
 "cells": [
  {
   "cell_type": "markdown",
   "id": "73689c4a",
   "metadata": {},
   "source": [
    "# Day 3 - Rucksack Reorganization\n",
    "One Elf has the important job of loading all of the rucksacks with supplies for the jungle journey. Unfortunately, that Elf didn't quite follow the packing instructions, and so a few items now need to be rearranged.\n",
    "\n",
    "Each rucksack has two large compartments. All items of a given type are meant to go into exactly one of the two compartments. The Elf that did the packing failed to follow this rule for exactly one item type per rucksack.\n",
    "\n",
    "The Elves have made a list of all of the items currently in each rucksack (your puzzle input), but they need your help finding the errors. Every item type is identified by a single lowercase or uppercase letter (that is, a and A refer to different types of items).\n",
    "\n",
    "The list of items for each rucksack is given as characters all on a single line. A given rucksack always has the same number of items in each of its two compartments, so the first half of the characters represent items in the first compartment, while the second half of the characters represent items in the second compartment.\n",
    "\n",
    "For example, suppose you have the following list of contents from six rucksacks:\n",
    "\n",
    "```\n",
    "vJrwpWtwJgWrhcsFMMfFFhFp\n",
    "jqHRNqRjqzjGDLGLrsFMfFZSrLrFZsSL\n",
    "PmmdzqPrVvPwwTWBwg\n",
    "wMqvLMZHhHMvwLHjbvcjnnSBnvTQFn\n",
    "ttgJtRGJQctTZtZT\n",
    "CrZsJsPPZsGzwwsLwLmpwMDw\n",
    "```\n",
    "\n",
    "- The first rucksack contains the items `vJrwpWtwJgWrhcsFMMfFFhFp`, which means its first compartment contains the items vJrwpWtwJgWr, while the second compartment contains the items `hcsFMMfFFhFp`. The only item type that appears in both compartments is lowercase p.\n",
    "- The second rucksack's compartments contain `jqHRNqRjqzjGDLGL` and `rsFMfFZSrLrFZsSL`. The only item type that appears in both compartments is uppercase L.\n",
    "- The third rucksack's compartments contain `PmmdzqPrV` and `vPwwTWBwg`; the only common item type is uppercase P.\n",
    "- The fourth rucksack's compartments only share item type v.\n",
    "- The fifth rucksack's compartments only share item type t.\n",
    "- The sixth rucksack's compartments only share item type s.\n",
    "\n",
    "To help prioritize item rearrangement, every item type can be converted to a priority:\n",
    "\n",
    "Lowercase item types a through z have priorities 1 through 26.\n",
    "Uppercase item types A through Z have priorities 27 through 52.\n",
    "In the above example, the priority of the item type that appears in both compartments of each rucksack is 16 (p), 38 (L), 42 (P), 22 (v), 20 (t), and 19 (s); the sum of these is 157.\n",
    "\n",
    "Find the item type that appears in both compartments of each rucksack. What is the sum of the priorities of those item types?"
   ]
  },
  {
   "cell_type": "code",
   "execution_count": 1,
   "id": "25e6448c",
   "metadata": {},
   "outputs": [],
   "source": [
    "# Loading the input data (rucksacks) from file\n",
    "with open('input.txt', 'r') as f:\n",
    "    rucksacks = f.read().splitlines()"
   ]
  },
  {
   "cell_type": "code",
   "execution_count": 2,
   "id": "44f3ad11",
   "metadata": {},
   "outputs": [
    {
     "name": "stdout",
     "output_type": "stream",
     "text": [
      "Sum of the priority items: 7875\n"
     ]
    }
   ],
   "source": [
    "# Instantiating an integer that represents the total sum of the priority items\n",
    "priority_sum = 0\n",
    "\n",
    "# Iterating through all the rucksacks\n",
    "for rucksack in rucksacks:\n",
    "    \n",
    "    # Getting each compartment from each rucksack\n",
    "    compartment1 = rucksack[:int((len(rucksack) / 2))]\n",
    "    compartment2 = rucksack[int((len(rucksack) / 2)):]\n",
    "    \n",
    "    # Converting each of the compartment strings into list of their own items (represented by characters)\n",
    "    compartment1_items = list(compartment1)\n",
    "    compartment2_items = list(compartment2)\n",
    "    \n",
    "    # Iterating through all the items in compartment 1\n",
    "    for item in compartment1_items:\n",
    "\n",
    "        # Checking to see if there is a match for the given item in compartment 1 with an item in compartment 2\n",
    "        if item in compartment2_items:\n",
    "\n",
    "            # Incrementing the priority sum with the appropriate value of the match found\n",
    "            if str.islower(item):\n",
    "                priority_sum += (ord(item) - 96)\n",
    "            elif str.isupper(item):\n",
    "                priority_sum += (ord(item) - 38)\n",
    "                \n",
    "            # Breaking the loop to stop duplicates from surfacing\n",
    "            break\n",
    "                \n",
    "# Printing out the final results\n",
    "print(f'Sum of the priority items: {priority_sum}')"
   ]
  },
  {
   "cell_type": "markdown",
   "id": "18d74c30",
   "metadata": {},
   "source": [
    "## Part 2\n",
    "\n",
    "As you finish identifying the misplaced items, the Elves come to you with another issue.\n",
    "\n",
    "For safety, the Elves are divided into groups of three. Every Elf carries a badge that identifies their group. For efficiency, within each group of three Elves, the badge is the only item type carried by all three Elves. That is, if a group's badge is item type B, then all three Elves will have item type B somewhere in their rucksack, and at most two of the Elves will be carrying any other item type.\n",
    "\n",
    "The problem is that someone forgot to put this year's updated authenticity sticker on the badges. All of the badges need to be pulled out of the rucksacks so the new authenticity stickers can be attached.\n",
    "\n",
    "Additionally, nobody wrote down which item type corresponds to each group's badges. The only way to tell which item type is the right one is by finding the one item type that is common between all three Elves in each group.\n",
    "\n",
    "Every set of three lines in your list corresponds to a single group, but each group can have a different badge item type. So, in the above example, the first group's rucksacks are the first three lines:\n",
    "\n",
    "```\n",
    "vJrwpWtwJgWrhcsFMMfFFhFp\n",
    "jqHRNqRjqzjGDLGLrsFMfFZSrLrFZsSL\n",
    "PmmdzqPrVvPwwTWBwg\n",
    "```\n",
    "\n",
    "And the second group's rucksacks are the next three lines:\n",
    "\n",
    "```\n",
    "wMqvLMZHhHMvwLHjbvcjnnSBnvTQFn\n",
    "ttgJtRGJQctTZtZT\n",
    "CrZsJsPPZsGzwwsLwLmpwMDw\n",
    "```\n",
    "\n",
    "In the first group, the only item type that appears in all three rucksacks is lowercase r; this must be their badges. In the second group, their badge item type must be Z.\n",
    "\n",
    "Priorities for these items must still be found to organize the sticker attachment efforts: here, they are 18 (r) for the first group and 52 (Z) for the second group. The sum of these is 70.\n",
    "\n",
    "Find the item type that corresponds to the badges of each three-Elf group. What is the sum of the priorities of those item types?"
   ]
  },
  {
   "cell_type": "code",
   "execution_count": 3,
   "id": "8b3ebc6a",
   "metadata": {},
   "outputs": [],
   "source": [
    "# Instantiating a new list that will hold our rucksack groups, grouped in groups of 3\n",
    "rucksack_groups = []\n",
    "rucksack_group = []\n",
    "\n",
    "# Instantiating a rucksack counter to know when we've hit groups of 3\n",
    "rucksack_counter = 0\n",
    "\n",
    "# Iterating through the all the rucksacks to group them all appropriately\n",
    "for rucksack in rucksacks:\n",
    "    \n",
    "    # Adding the first two rucksacks to the rucksack group\n",
    "    if rucksack_counter != 2:\n",
    "        \n",
    "        # Appending the rucksack to the rucksack group\n",
    "        rucksack_group.append(rucksack)\n",
    "        \n",
    "        # Incrementing the rucksack counter\n",
    "        rucksack_counter += 1\n",
    "        \n",
    "    # Adding the third rucksack to the rucksack group\n",
    "    elif rucksack_counter == 2:\n",
    "        \n",
    "        # Appending the last rucksack to the rucksack group\n",
    "        rucksack_group.append(rucksack)\n",
    "        \n",
    "        # Appending the completed rucksack group to the collective rucksack groups\n",
    "        rucksack_groups.append(rucksack_group)\n",
    "        \n",
    "        # Emptying the rucksack group for the next wave and resetting the counter\n",
    "        rucksack_group = []\n",
    "        rucksack_counter = 0"
   ]
  },
  {
   "cell_type": "code",
   "execution_count": 4,
   "id": "9ec3bd44",
   "metadata": {},
   "outputs": [
    {
     "name": "stdout",
     "output_type": "stream",
     "text": [
      "Sum of the priority items: 2479\n"
     ]
    }
   ],
   "source": [
    "# Instantiating an integer that represents the total sum of the priority items\n",
    "priority_sum = 0\n",
    "\n",
    "# Iterating through all the rucksack groups\n",
    "for rucksack_group in rucksack_groups:\n",
    "    \n",
    "    # Extracting the rucksacks from the rucksack group as individual items (represented as characters)\n",
    "    rucksack1_items = list(rucksack_group[0])\n",
    "    rucksack2_items = list(rucksack_group[1])\n",
    "    rucksack3_items = list(rucksack_group[2])\n",
    "    \n",
    "    # Iterating through all the items in rucksack 1\n",
    "    for item in rucksack1_items:\n",
    "\n",
    "        # Checking through all the items in rucksack 1 to see if they match in both rucksacks 2 and 3\n",
    "        if item in rucksack2_items and item in rucksack3_items:\n",
    "\n",
    "            # Incrementing the priority sum with the appropriate value of the match found\n",
    "            if str.islower(item):\n",
    "                priority_sum += (ord(item) - 96)\n",
    "            elif str.isupper(item):\n",
    "                priority_sum += (ord(item) - 38)\n",
    "\n",
    "            # Breaking the loop to stop duplicates from surfacing\n",
    "            break\n",
    "            \n",
    "# Printing out the final results\n",
    "print(f'Sum of the priority items: {priority_sum}')"
   ]
  },
  {
   "cell_type": "code",
   "execution_count": null,
   "id": "36905461",
   "metadata": {},
   "outputs": [],
   "source": []
  }
 ],
 "metadata": {
  "kernelspec": {
   "display_name": "Python 3 (ipykernel)",
   "language": "python",
   "name": "python3"
  },
  "language_info": {
   "codemirror_mode": {
    "name": "ipython",
    "version": 3
   },
   "file_extension": ".py",
   "mimetype": "text/x-python",
   "name": "python",
   "nbconvert_exporter": "python",
   "pygments_lexer": "ipython3",
   "version": "3.10.1"
  }
 },
 "nbformat": 4,
 "nbformat_minor": 5
}
