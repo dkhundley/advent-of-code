{
 "cells": [
  {
   "cell_type": "markdown",
   "id": "ead0323b",
   "metadata": {},
   "source": [
    "# Day 5: Supply Stacks"
   ]
  },
  {
   "cell_type": "markdown",
   "id": "570cd727",
   "metadata": {},
   "source": [
    "## Part 1\n",
    "\n",
    "The expedition can depart as soon as the final supplies have been unloaded from the ships. Supplies are stored in stacks of marked crates, but because the needed supplies are buried under many other crates, the crates need to be rearranged.\n",
    "\n",
    "The ship has a giant cargo crane capable of moving crates between stacks. To ensure none of the crates get crushed or fall over, the crane operator will rearrange them in a series of carefully-planned steps. After the crates are rearranged, the desired crates will be at the top of each stack.\n",
    "\n",
    "The Elves don't want to interrupt the crane operator during this delicate procedure, but they forgot to ask her which crate will end up where, and they want to be ready to unload them as soon as possible so they can embark.\n",
    "\n",
    "They do, however, have a drawing of the starting stacks of crates and the rearrangement procedure (your puzzle input). For example:\n",
    "\n",
    "```\n",
    "    [D]    \n",
    "[N] [C]    \n",
    "[Z] [M] [P]\n",
    " 1   2   3 \n",
    "\n",
    "move 1 from 2 to 1\n",
    "move 3 from 1 to 3\n",
    "move 2 from 2 to 1\n",
    "move 1 from 1 to 2\n",
    "```\n",
    "\n",
    "In this example, there are three stacks of crates. Stack 1 contains two crates: crate Z is on the bottom, and crate N is on top. Stack 2 contains three crates; from bottom to top, they are crates M, C, and D. Finally, stack 3 contains a single crate, P.\n",
    "\n",
    "Then, the rearrangement procedure is given. In each step of the procedure, a quantity of crates is moved from one stack to a different stack. In the first step of the above rearrangement procedure, one crate is moved from stack 2 to stack 1, resulting in this configuration:\n",
    "\n",
    "```\n",
    "[D]        \n",
    "[N] [C]    \n",
    "[Z] [M] [P]\n",
    " 1   2   3 \n",
    " ```\n",
    " \n",
    "In the second step, three crates are moved from stack 1 to stack 3. Crates are moved one at a time, so the first crate to be moved (D) ends up below the second and third crates:\n",
    "\n",
    "```\n",
    "        [Z]\n",
    "        [N]\n",
    "    [C] [D]\n",
    "    [M] [P]\n",
    " 1   2   3\n",
    "```\n",
    "\n",
    "Then, both crates are moved from stack 2 to stack 1. Again, because crates are moved one at a time, crate C ends up below crate M:\n",
    "\n",
    "```\n",
    "        [Z]\n",
    "        [N]\n",
    "[M]     [D]\n",
    "[C]     [P]\n",
    " 1   2   3\n",
    "```\n",
    "\n",
    "Finally, one crate is moved from stack 1 to stack 2:\n",
    "\n",
    "```\n",
    "        [Z]\n",
    "        [N]\n",
    "        [D]\n",
    "[C] [M] [P]\n",
    " 1   2   3\n",
    "```\n",
    "\n",
    "The Elves just need to know which crate will end up on top of each stack; in this example, the top crates are C in stack 1, M in stack 2, and Z in stack 3, so you should combine these together and give the Elves the message CMZ.\n",
    "\n",
    "After the rearrangement procedure completes, what crate ends up on top of each stack?"
   ]
  },
  {
   "cell_type": "code",
   "execution_count": 1,
   "id": "959dedb8",
   "metadata": {},
   "outputs": [],
   "source": [
    "# Loading the full input from file\n",
    "with open('input.txt', 'r') as f:\n",
    "    full_input = f.read().splitlines()"
   ]
  },
  {
   "cell_type": "code",
   "execution_count": 2,
   "id": "ea9767b6",
   "metadata": {},
   "outputs": [
    {
     "data": {
      "text/plain": [
       "['            [G] [W]         [Q]    ',\n",
       " '[Z]         [Q] [M]     [J] [F]    ',\n",
       " '[V]         [V] [S] [F] [N] [R]    ',\n",
       " '[T]         [F] [C] [H] [F] [W] [P]',\n",
       " '[B] [L]     [L] [J] [C] [V] [D] [V]',\n",
       " '[J] [V] [F] [N] [T] [T] [C] [Z] [W]',\n",
       " '[G] [R] [Q] [H] [Q] [W] [Z] [G] [B]',\n",
       " '[R] [J] [S] [Z] [R] [S] [D] [L] [J]',\n",
       " ' 1   2   3   4   5   6   7   8   9 ']"
      ]
     },
     "execution_count": 2,
     "metadata": {},
     "output_type": "execute_result"
    }
   ],
   "source": [
    "# Extracting the crate stacks from the full input\n",
    "crate_stacks = full_input[:9]\n",
    "crate_stacks"
   ]
  },
  {
   "cell_type": "code",
   "execution_count": 3,
   "id": "54105915",
   "metadata": {},
   "outputs": [],
   "source": [
    "# Extracting the crate actions from the full input\n",
    "crate_actions = full_input[10:]"
   ]
  },
  {
   "cell_type": "code",
   "execution_count": 4,
   "id": "15b58de5",
   "metadata": {},
   "outputs": [],
   "source": [
    "# Manually creating the stacks as a dictionary\n",
    "crate_stacks = {\n",
    "    1: ['R', 'G', 'J', 'B', 'T', 'V', 'Z'],\n",
    "    2: ['J', 'R', 'V', 'L'],\n",
    "    3: ['S', 'Q', 'F'],\n",
    "    4: ['Z', 'H', 'N', 'L', 'F', 'V', 'Q', 'G'],\n",
    "    5: ['R', 'Q', 'T', 'J', 'C', 'S', 'M', 'W'],\n",
    "    6: ['S', 'W', 'T', 'C', 'H', 'F'],\n",
    "    7: ['D', 'Z', 'C', 'V', 'F', 'N', 'J'],\n",
    "    8: ['L', 'G', 'Z', 'D', 'W', 'R', 'F', 'Q'],\n",
    "    9: ['J', 'B', 'W', 'V', 'P']\n",
    "}"
   ]
  },
  {
   "cell_type": "code",
   "execution_count": 5,
   "id": "7a93d199",
   "metadata": {},
   "outputs": [],
   "source": [
    "# Iterating through all the crate actions\n",
    "for action in crate_actions:\n",
    "    \n",
    "    # Splitting the action into individual words\n",
    "    words = action.split()\n",
    "    \n",
    "    # Getting the number of crates to move, stack origin, and stack destination from the individual words\n",
    "    num_crates = int(words[1])\n",
    "    origin = int(words[3])\n",
    "    dest = int(words[5])\n",
    "    \n",
    "    # Grabbing the crates from the destination stack\n",
    "    crates_to_move = crate_stacks[origin][-num_crates:]\n",
    "    \n",
    "    # Reversing the order of the stacks to move\n",
    "    crates_to_move.reverse()\n",
    "    \n",
    "    # Removing the crates from the origin stack\n",
    "    del(crate_stacks[origin][-num_crates:])\n",
    "    \n",
    "    # Adding the crates to move to the destination stack\n",
    "    for crate in crates_to_move:\n",
    "        crate_stacks[dest].append(crate)"
   ]
  },
  {
   "cell_type": "code",
   "execution_count": 6,
   "id": "e9d6ff78",
   "metadata": {},
   "outputs": [
    {
     "name": "stdout",
     "output_type": "stream",
     "text": [
      "Crates at the top of each stack: ZSQVCCJLL\n"
     ]
    }
   ],
   "source": [
    "# Instantiating a list to hold the crate at the top of each stack\n",
    "top_of_stack = []\n",
    "\n",
    "# Iterating through the crate stacks to grab the top crate\n",
    "for stack, crates in crate_stacks.items():\n",
    "    top_of_stack.append(crates[-1])\n",
    "\n",
    "# Joining all the crates as a single string\n",
    "top_crates = ''.join(top_of_stack)\n",
    "\n",
    "# Printing out the final result\n",
    "print(f'Crates at the top of each stack: {top_crates}')"
   ]
  },
  {
   "cell_type": "markdown",
   "id": "5ae21c07",
   "metadata": {},
   "source": [
    "## Part 2\n",
    "\n",
    "As you watch the crane operator expertly rearrange the crates, you notice the process isn't following your prediction.\n",
    "\n",
    "Some mud was covering the writing on the side of the crane, and you quickly wipe it away. The crane isn't a CrateMover 9000 - it's a CrateMover 9001.\n",
    "\n",
    "The CrateMover 9001 is notable for many new and exciting features: air conditioning, leather seats, an extra cup holder, and the ability to pick up and move multiple crates at once.\n",
    "\n",
    "Again considering the example above, the crates begin in the same configuration:\n",
    "\n",
    "```\n",
    "    [D]    \n",
    "[N] [C]    \n",
    "[Z] [M] [P]\n",
    " 1   2   3 \n",
    "```\n",
    "\n",
    "Moving a single crate from stack 2 to stack 1 behaves the same as before:\n",
    "\n",
    "```\n",
    "[D]        \n",
    "[N] [C]    \n",
    "[Z] [M] [P]\n",
    " 1   2   3 \n",
    "```\n",
    "\n",
    "However, the action of moving three crates from stack 1 to stack 3 means that those three moved crates stay in the same order, resulting in this new configuration:\n",
    "\n",
    "```\n",
    "        [D]\n",
    "        [N]\n",
    "    [C] [Z]\n",
    "    [M] [P]\n",
    " 1   2   3\n",
    "```\n",
    "\n",
    "Next, as both crates are moved from stack 2 to stack 1, they retain their order as well:\n",
    "\n",
    "```\n",
    "        [D]\n",
    "        [N]\n",
    "[C]     [Z]\n",
    "[M]     [P]\n",
    " 1   2   3\n",
    "```\n",
    "\n",
    "Finally, a single crate is still moved from stack 1 to stack 2, but now it's crate C that gets moved:\n",
    "\n",
    "```\n",
    "        [D]\n",
    "        [N]\n",
    "        [Z]\n",
    "[M] [C] [P]\n",
    " 1   2   3\n",
    "```\n",
    "\n",
    "In this example, the CrateMover 9001 has put the crates in a totally different order: MCD.\n",
    "\n",
    "Before the rearrangement process finishes, update your simulation so that the Elves know where they should stand to be ready to unload the final supplies. After the rearrangement procedure completes, what crate ends up on top of each stack?"
   ]
  },
  {
   "cell_type": "code",
   "execution_count": 7,
   "id": "5f84af1b",
   "metadata": {},
   "outputs": [],
   "source": [
    "# Manually creating the stacks as a dictionary\n",
    "crate_stacks = {\n",
    "    1: ['R', 'G', 'J', 'B', 'T', 'V', 'Z'],\n",
    "    2: ['J', 'R', 'V', 'L'],\n",
    "    3: ['S', 'Q', 'F'],\n",
    "    4: ['Z', 'H', 'N', 'L', 'F', 'V', 'Q', 'G'],\n",
    "    5: ['R', 'Q', 'T', 'J', 'C', 'S', 'M', 'W'],\n",
    "    6: ['S', 'W', 'T', 'C', 'H', 'F'],\n",
    "    7: ['D', 'Z', 'C', 'V', 'F', 'N', 'J'],\n",
    "    8: ['L', 'G', 'Z', 'D', 'W', 'R', 'F', 'Q'],\n",
    "    9: ['J', 'B', 'W', 'V', 'P']\n",
    "}"
   ]
  },
  {
   "cell_type": "code",
   "execution_count": 8,
   "id": "3ca5dc69",
   "metadata": {},
   "outputs": [],
   "source": [
    "# Iterating through all the crate actions\n",
    "for action in crate_actions:\n",
    "    \n",
    "    # Splitting the action into individual words\n",
    "    words = action.split()\n",
    "    \n",
    "    # Getting the number of crates to move, stack origin, and stack destination from the individual words\n",
    "    num_crates = int(words[1])\n",
    "    origin = int(words[3])\n",
    "    dest = int(words[5])\n",
    "    \n",
    "    # Grabbing the crates from the destination stack\n",
    "    crates_to_move = crate_stacks[origin][-num_crates:]\n",
    "    \n",
    "    # Removing the crates from the origin stack\n",
    "    del(crate_stacks[origin][-num_crates:])\n",
    "    \n",
    "    # Adding the crates to move to the destination stack\n",
    "    for crate in crates_to_move:\n",
    "        crate_stacks[dest].append(crate)"
   ]
  },
  {
   "cell_type": "code",
   "execution_count": 9,
   "id": "147e2c16",
   "metadata": {},
   "outputs": [
    {
     "name": "stdout",
     "output_type": "stream",
     "text": [
      "Crates at the top of each stack: QZFJRWHGS\n"
     ]
    }
   ],
   "source": [
    "# Instantiating a list to hold the crate at the top of each stack\n",
    "top_of_stack = []\n",
    "\n",
    "# Iterating through the crate stacks to grab the top crate\n",
    "for stack, crates in crate_stacks.items():\n",
    "    top_of_stack.append(crates[-1])\n",
    "\n",
    "# Joining all the crates as a single string\n",
    "top_crates = ''.join(top_of_stack)\n",
    "\n",
    "# Printing out the final result\n",
    "print(f'Crates at the top of each stack: {top_crates}')"
   ]
  },
  {
   "cell_type": "code",
   "execution_count": null,
   "id": "3b2db4d9",
   "metadata": {},
   "outputs": [],
   "source": []
  }
 ],
 "metadata": {
  "kernelspec": {
   "display_name": "Python 3 (ipykernel)",
   "language": "python",
   "name": "python3"
  },
  "language_info": {
   "codemirror_mode": {
    "name": "ipython",
    "version": 3
   },
   "file_extension": ".py",
   "mimetype": "text/x-python",
   "name": "python",
   "nbconvert_exporter": "python",
   "pygments_lexer": "ipython3",
   "version": "3.10.7"
  }
 },
 "nbformat": 4,
 "nbformat_minor": 5
}
