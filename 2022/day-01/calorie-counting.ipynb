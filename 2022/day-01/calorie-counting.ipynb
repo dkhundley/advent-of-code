{
 "cells": [
  {
   "cell_type": "markdown",
   "id": "cbdcc0be",
   "metadata": {},
   "source": [
    "# Day 1: Calorie Counting"
   ]
  },
  {
   "cell_type": "markdown",
   "id": "bcab80c5",
   "metadata": {},
   "source": [
    "## Part 1\n",
    "The jungle must be too overgrown and difficult to navigate in vehicles or access from the air; the Elves' expedition traditionally goes on foot. As your boats approach land, the Elves begin taking inventory of their supplies. One important consideration is food - in particular, the number of Calories each Elf is carrying (your puzzle input).\n",
    "\n",
    "The Elves take turns writing down the number of Calories contained by the various meals, snacks, rations, etc. that they've brought with them, one item per line. Each Elf separates their own inventory from the previous Elf's inventory (if any) by a blank line.\n",
    "\n",
    "For example, suppose the Elves finish writing their items' Calories and end up with the following list:\n",
    "\n",
    "```\n",
    "1000\n",
    "2000\n",
    "3000\n",
    "---\n",
    "4000\n",
    "---\n",
    "5000\n",
    "6000\n",
    "---\n",
    "7000\n",
    "8000\n",
    "9000\n",
    "---\n",
    "10000\n",
    "```\n",
    "\n",
    "This list represents the Calories of the food carried by five Elves:\n",
    "\n",
    "- The first Elf is carrying food with 1000, 2000, and 3000 Calories, a total of 6000 Calories.\n",
    "- The second Elf is carrying one food item with 4000 Calories.\n",
    "- The third Elf is carrying food with 5000 and 6000 Calories, a total of 11000 Calories.\n",
    "- The fourth Elf is carrying food with 7000, 8000, and 9000 Calories, a total of 24000 Calories.\n",
    "- The fifth Elf is carrying one food item with 10000 Calories.\n",
    "\n",
    "In case the Elves get hungry and need extra snacks, they need to know which Elf to ask: they'd like to know how many Calories are being carried by the Elf carrying the most Calories. In the example above, this is 24000 (carried by the fourth Elf).\n",
    "\n",
    "Find the Elf carrying the most Calories. How many total Calories is that Elf carrying?"
   ]
  },
  {
   "cell_type": "code",
   "execution_count": 1,
   "id": "8c26155e",
   "metadata": {},
   "outputs": [],
   "source": [
    "# Importing the \"elf calorie\" input data\n",
    "with open('input.txt', 'r') as f:\n",
    "    elf_calories = f.read().splitlines()"
   ]
  },
  {
   "cell_type": "code",
   "execution_count": 2,
   "id": "839d41c1",
   "metadata": {},
   "outputs": [],
   "source": [
    "# Filling empty strings with a zero value\n",
    "for i, calories in enumerate(elf_calories):\n",
    "    \n",
    "    if calories == '':\n",
    "        elf_calories[i] = '0'"
   ]
  },
  {
   "cell_type": "code",
   "execution_count": 3,
   "id": "7294f2a4",
   "metadata": {},
   "outputs": [],
   "source": [
    "# Converting the string values to integers\n",
    "elf_calories = list(map(int, elf_calories))"
   ]
  },
  {
   "cell_type": "code",
   "execution_count": 4,
   "id": "f477d6b9",
   "metadata": {},
   "outputs": [],
   "source": [
    "# Adding a final zero value to the calories list to make the code cleanly work\n",
    "elf_calories.append(0)"
   ]
  },
  {
   "cell_type": "code",
   "execution_count": 5,
   "id": "fa7e6871",
   "metadata": {},
   "outputs": [],
   "source": [
    "# Instantiating a list to hold all the elves\n",
    "elves = []\n",
    "\n",
    "# Instantiating a placeholder to count how many calories are being held so far\n",
    "calories_held = 0\n",
    "\n",
    "# Iterating through the elf calories to combine their packs together appropriately\n",
    "for calorie in elf_calories:\n",
    "    \n",
    "    # If value is not 0, adding the number of calories to calories_held\n",
    "    if calorie != 0:\n",
    "        calories_held += calorie\n",
    "        \n",
    "    # If value is 0, appending the currently held calorie to \"elves\" list and resetting \"calories_held\" to 0\n",
    "    elif calorie == 0:\n",
    "        elves.append(calories_held)\n",
    "        calories_held = 0"
   ]
  },
  {
   "cell_type": "code",
   "execution_count": 6,
   "id": "c689b13c",
   "metadata": {},
   "outputs": [
    {
     "name": "stdout",
     "output_type": "stream",
     "text": [
      "Calories held by the elf doing the most: 69528\n"
     ]
    }
   ],
   "source": [
    "# Getting the max value of the elves list\n",
    "max_elf = max(elves)\n",
    "\n",
    "# Printing out the final result\n",
    "print(f'Calories held by the elf doing the most: {max_elf}')"
   ]
  },
  {
   "cell_type": "markdown",
   "id": "967b8df3",
   "metadata": {},
   "source": [
    "## Part 2\n",
    "\n",
    "By the time you calculate the answer to the Elves' question, they've already realized that the Elf carrying the most Calories of food might eventually run out of snacks.\n",
    "\n",
    "To avoid this unacceptable situation, the Elves would instead like to know the total Calories carried by the top three Elves carrying the most Calories. That way, even if one of those Elves runs out of snacks, they still have two backups.\n",
    "\n",
    "In the example above, the top three Elves are the fourth Elf (with 24000 Calories), then the third Elf (with 11000 Calories), then the fifth Elf (with 10000 Calories). The sum of the Calories carried by these three elves is 45000.\n",
    "\n",
    "Find the top three Elves carrying the most Calories. How many Calories are those Elves carrying in total?"
   ]
  },
  {
   "cell_type": "code",
   "execution_count": 7,
   "id": "4600081b",
   "metadata": {},
   "outputs": [],
   "source": [
    "# Sorting the list of our elves\n",
    "sorted_elves = sorted(elves, reverse = True)"
   ]
  },
  {
   "cell_type": "code",
   "execution_count": 8,
   "id": "321c9146",
   "metadata": {},
   "outputs": [],
   "source": [
    "# Grabbing just the top 3 elves\n",
    "top_3_elves = sorted_elves[:3]"
   ]
  },
  {
   "cell_type": "code",
   "execution_count": 9,
   "id": "c160a67b",
   "metadata": {},
   "outputs": [
    {
     "name": "stdout",
     "output_type": "stream",
     "text": [
      "Calories held by the 3 beefiest elves: 206152\n"
     ]
    }
   ],
   "source": [
    "# Adding up the values the top 3 elves are carrying\n",
    "top_3_elves_sum = sum(top_3_elves)\n",
    "\n",
    "# Printing out the final result\n",
    "print(f'Calories held by the 3 beefiest elves: {top_3_elves_sum}')"
   ]
  },
  {
   "cell_type": "code",
   "execution_count": null,
   "id": "05e5d25a",
   "metadata": {},
   "outputs": [],
   "source": []
  }
 ],
 "metadata": {
  "kernelspec": {
   "display_name": "Python 3 (ipykernel)",
   "language": "python",
   "name": "python3"
  },
  "language_info": {
   "codemirror_mode": {
    "name": "ipython",
    "version": 3
   },
   "file_extension": ".py",
   "mimetype": "text/x-python",
   "name": "python",
   "nbconvert_exporter": "python",
   "pygments_lexer": "ipython3",
   "version": "3.10.7"
  }
 },
 "nbformat": 4,
 "nbformat_minor": 5
}
