{
 "cells": [
  {
   "cell_type": "markdown",
   "id": "a799ece4",
   "metadata": {},
   "source": [
    "# Day 6: Tuning Trouble"
   ]
  },
  {
   "cell_type": "markdown",
   "id": "692f13c6",
   "metadata": {},
   "source": [
    "## Part 1\n",
    "\n",
    "The preparations are finally complete; you and the Elves leave camp on foot and begin to make your way toward the star fruit grove.\n",
    "\n",
    "As you move through the dense undergrowth, one of the Elves gives you a handheld device. He says that it has many fancy features, but the most important one to set up right now is the communication system.\n",
    "\n",
    "However, because he's heard you have significant experience dealing with signal-based systems, he convinced the other Elves that it would be okay to give you their one malfunctioning device - surely you'll have no problem fixing it.\n",
    "\n",
    "As if inspired by comedic timing, the device emits a few colorful sparks.\n",
    "\n",
    "To be able to communicate with the Elves, the device needs to lock on to their signal. The signal is a series of seemingly-random characters that the device receives one at a time.\n",
    "\n",
    "To fix the communication system, you need to add a subroutine to the device that detects a start-of-packet marker in the datastream. In the protocol being used by the Elves, the start of a packet is indicated by a sequence of four characters that are all different.\n",
    "\n",
    "The device will send your subroutine a datastream buffer (your puzzle input); your subroutine needs to identify the first position where the four most recently received characters were all different. Specifically, it needs to report the number of characters from the beginning of the buffer to the end of the first such four-character marker.\n",
    "\n",
    "For example, suppose you receive the following datastream buffer:\n",
    "\n",
    "```\n",
    "mjqjpqmgbljsphdztnvjfqwrcgsmlb\n",
    "```\n",
    "\n",
    "After the first three characters (mjq) have been received, there haven't been enough characters received yet to find the marker. The first time a marker could occur is after the fourth character is received, making the most recent four characters mjqj. Because j is repeated, this isn't a marker.\n",
    "\n",
    "The first time a marker appears is after the seventh character arrives. Once it does, the last four characters received are jpqm, which are all different. In this case, your subroutine should report the value 7, because the first start-of-packet marker is complete after 7 characters have been processed.\n",
    "\n",
    "Here are a few more examples:\n",
    "\n",
    "* `bvwbjplbgvbhsrlpgdmjqwftvncz`: first marker after character 5\n",
    "* `nppdvjthqldpwncqszvftbrmjlhg`: first marker after character 6\n",
    "* `nznrnfrfntjfmvfwmzdfjlvtqnbhcprsg`: first marker after character 10\n",
    "* `zcfzfwzzqfrljwzlrfnpqdbhtmscgvjw`: first marker after character 11\n",
    "\n",
    "How many characters need to be processed before the first start-of-packet marker is detected?"
   ]
  },
  {
   "cell_type": "code",
   "execution_count": 1,
   "id": "3cc804f9",
   "metadata": {},
   "outputs": [],
   "source": [
    "# Loading in the elf datastreams from the input file\n",
    "with open('input.txt', 'r') as f:\n",
    "    elf_datastreams = f.read().splitlines()"
   ]
  },
  {
   "cell_type": "code",
   "execution_count": 2,
   "id": "7e1265a8",
   "metadata": {},
   "outputs": [],
   "source": [
    "# Creating a helper function that serves as a sliding window\n",
    "def sliding_window(elf_datastream, window_size):\n",
    "    '''\n",
    "    Iterates over an elf's datastream to produce a sliding window of a specific size\n",
    "    \n",
    "    Inputs:\n",
    "        - elf_datastream (str): The elf's datastream\n",
    "        - window_size (int): The size of the sliding window\n",
    "    '''\n",
    "    \n",
    "    # Producing the sliding window\n",
    "    for i in range(len(elf_datastream) - window_size + 1):\n",
    "        yield elf_datastream[i: i + window_size]"
   ]
  },
  {
   "cell_type": "code",
   "execution_count": 3,
   "id": "72cdc5ff",
   "metadata": {},
   "outputs": [
    {
     "name": "stdout",
     "output_type": "stream",
     "text": [
      "Total number of characters processed: 1850\n"
     ]
    }
   ],
   "source": [
    "# Instatiating a value that represents the total number of characters to be processed\n",
    "total_chars_processed = 0\n",
    "\n",
    "# Iterating through all elf datastreams\n",
    "for elf_datastream in elf_datastreams:\n",
    "\n",
    "    # Instantiating a value to represent the starting position where the true signal starts\n",
    "    starting_pos = 0\n",
    "\n",
    "    # Producing a sliding window that may or may not represent the true signal beginning\n",
    "    for window in sliding_window(elf_datastream, 4):\n",
    "        \n",
    "        # Checking to see if all the values in the sliding window are unique\n",
    "        if len(set(window)) == len(window):\n",
    "            \n",
    "            # Incrementing the starting position\n",
    "            starting_pos += 4\n",
    "            \n",
    "            # Adding starting position to the total number of characters processed\n",
    "            total_chars_processed += starting_pos\n",
    "            break\n",
    "            \n",
    "        else:\n",
    "            \n",
    "            # Incrementing the starting position\n",
    "            starting_pos += 1\n",
    "            \n",
    "# Printing out the final result\n",
    "print(f'Total number of characters processed: {total_chars_processed}')"
   ]
  },
  {
   "cell_type": "markdown",
   "id": "5d9da043",
   "metadata": {},
   "source": [
    "## Part 2\n",
    "\n",
    "Your device's communication system is correctly detecting packets, but still isn't working. It looks like it also needs to look for messages.\n",
    "\n",
    "A start-of-message marker is just like a start-of-packet marker, except it consists of 14 distinct characters rather than 4.\n",
    "\n",
    "Here are the first positions of start-of-message markers for all of the above examples:\n",
    "\n",
    "- mjqjpqmgbljsphdztnvjfqwrcgsmlb: first marker after character 19\n",
    "- bvwbjplbgvbhsrlpgdmjqwftvncz: first marker after character 23\n",
    "- nppdvjthqldpwncqszvftbrmjlhg: first marker after character 23\n",
    "- nznrnfrfntjfmvfwmzdfjlvtqnbhcprsg: first marker after character 29\n",
    "- zcfzfwzzqfrljwzlrfnpqdbhtmscgvjw: first marker after character 26\n",
    "\n",
    "How many characters need to be processed before the first start-of-message marker is detected?"
   ]
  },
  {
   "cell_type": "code",
   "execution_count": 4,
   "id": "5e8373e3",
   "metadata": {},
   "outputs": [
    {
     "name": "stdout",
     "output_type": "stream",
     "text": [
      "Total number of characters processed: 2823\n"
     ]
    }
   ],
   "source": [
    "# Instatiating a value that represents the total number of characters to be processed\n",
    "total_chars_processed = 0\n",
    "\n",
    "# Iterating through all elf datastreams\n",
    "for elf_datastream in elf_datastreams:\n",
    "\n",
    "    # Instantiating a value to represent the starting position where the true signal starts\n",
    "    starting_pos = 0\n",
    "\n",
    "    # Producing a sliding window that may or may not represent the true signal beginning\n",
    "    for window in sliding_window(elf_datastream, 14):\n",
    "        \n",
    "        # Checking to see if all the values in the sliding window are unique\n",
    "        if len(set(window)) == len(window):\n",
    "            \n",
    "            # Incrementing the starting position\n",
    "            starting_pos += 14\n",
    "            \n",
    "            # Adding starting position to the total number of characters processed\n",
    "            total_chars_processed += starting_pos\n",
    "            break\n",
    "            \n",
    "        else:\n",
    "            \n",
    "            # Incrementing the starting position\n",
    "            starting_pos += 1\n",
    "            \n",
    "# Printing out the final result\n",
    "print(f'Total number of characters processed: {total_chars_processed}')"
   ]
  },
  {
   "cell_type": "code",
   "execution_count": null,
   "id": "0df3d9d7",
   "metadata": {},
   "outputs": [],
   "source": []
  }
 ],
 "metadata": {
  "kernelspec": {
   "display_name": "Python 3 (ipykernel)",
   "language": "python",
   "name": "python3"
  },
  "language_info": {
   "codemirror_mode": {
    "name": "ipython",
    "version": 3
   },
   "file_extension": ".py",
   "mimetype": "text/x-python",
   "name": "python",
   "nbconvert_exporter": "python",
   "pygments_lexer": "ipython3",
   "version": "3.10.7"
  }
 },
 "nbformat": 4,
 "nbformat_minor": 5
}
