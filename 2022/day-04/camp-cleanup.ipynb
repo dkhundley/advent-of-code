{
 "cells": [
  {
   "cell_type": "markdown",
   "id": "9c509ce8",
   "metadata": {},
   "source": [
    "# Day 4: Camp Cleanup"
   ]
  },
  {
   "cell_type": "markdown",
   "id": "cd64c70a",
   "metadata": {},
   "source": [
    "## Part 1\n",
    "\n",
    "Space needs to be cleared before the last supplies can be unloaded from the ships, and so several Elves have been assigned the job of cleaning up sections of the camp. Every section has a unique ID number, and each Elf is assigned a range of section IDs.\n",
    "\n",
    "However, as some of the Elves compare their section assignments with each other, they've noticed that many of the assignments overlap. To try to quickly find overlaps and reduce duplicated effort, the Elves pair up and make a big list of the section assignments for each pair (your puzzle input).\n",
    "\n",
    "For example, consider the following list of section assignment pairs:\n",
    "\n",
    "```\n",
    "2-4,6-8\n",
    "2-3,4-5\n",
    "5-7,7-9\n",
    "2-8,3-7\n",
    "6-6,4-6\n",
    "2-6,4-8\n",
    "```\n",
    "For the first few pairs, this list means:\n",
    "\n",
    "* Within the first pair of Elves, the first Elf was assigned sections 2-4 (sections 2, 3, and 4), while the second Elf was assigned sections 6-8 (sections 6, 7, 8).\n",
    "* The Elves in the second pair were each assigned two sections.\n",
    "* The Elves in the third pair were each assigned three sections: one got sections 5, 6, and 7, while the other also got 7, plus 8 and 9.\n",
    "\n",
    "This example list uses single-digit section IDs to make it easier to draw; your actual list might contain larger numbers. Visually, these pairs of section assignments look like this:\n",
    "\n",
    "```\n",
    ".234.....  2-4\n",
    ".....678.  6-8\n",
    "\n",
    ".23......  2-3\n",
    "...45....  4-5\n",
    "\n",
    "....567..  5-7\n",
    "......789  7-9\n",
    "\n",
    ".2345678.  2-8\n",
    "..34567..  3-7\n",
    "\n",
    ".....6...  6-6\n",
    "...456...  4-6\n",
    "\n",
    ".23456...  2-6\n",
    "...45678.  4-8\n",
    "```\n",
    "\n",
    "Some of the pairs have noticed that one of their assignments fully contains the other. For example, 2-8 fully contains 3-7, and 6-6 is fully contained by 4-6. In pairs where one assignment fully contains the other, one Elf in the pair would be exclusively cleaning sections their partner will already be cleaning, so these seem like the most in need of reconsideration. In this example, there are 2 such pairs.\n",
    "\n",
    "In how many assignment pairs does one range fully contain the other?"
   ]
  },
  {
   "cell_type": "code",
   "execution_count": 1,
   "id": "0c144b19",
   "metadata": {},
   "outputs": [],
   "source": [
    "# Loading in the campsite pairs from file\n",
    "with open('input.txt', 'r') as f:\n",
    "    campsite_pairs = f.read().splitlines()"
   ]
  },
  {
   "cell_type": "code",
   "execution_count": 2,
   "id": "0f426fcc",
   "metadata": {},
   "outputs": [
    {
     "name": "stdout",
     "output_type": "stream",
     "text": [
      "Total number of overlaps: 498\n"
     ]
    }
   ],
   "source": [
    "# Instantiating a variable that will count the number of total overlaps\n",
    "total_overlaps = 0\n",
    "\n",
    "# Iterating through all the campsite pairs\n",
    "for campsite_pair in campsite_pairs:\n",
    "    \n",
    "    # Splitting the campsite sites\n",
    "    campsite1, campsite2 = campsite_pair.split(',')\n",
    "    \n",
    "    # Extracting the lower and upper section IDs from each campsite\n",
    "    campsite1_lower, campsite1_upper = campsite1.split('-')\n",
    "    campsite2_lower, campsite2_upper = campsite2.split('-')\n",
    "\n",
    "    # Converting the current string datatypes to integers\n",
    "    campsite1_lower = int(campsite1_lower)\n",
    "    campsite1_upper = int(campsite1_upper)\n",
    "    campsite2_lower = int(campsite2_lower)\n",
    "    campsite2_upper = int(campsite2_upper)\n",
    "    \n",
    "    # Creating lists of integers representing all section IDs for each campsite\n",
    "    campsite1_ids = list(range(campsite1_lower, campsite1_upper + 1))\n",
    "    campsite2_ids = list(range(campsite2_lower, campsite2_upper + 1))\n",
    "    \n",
    "    # Checking to see if there is a total overlap\n",
    "    if (all(campsite_id in campsite2_ids for campsite_id in campsite1_ids)) or (all(campsite_id in campsite1_ids for campsite_id in campsite2_ids)):\n",
    "        total_overlaps += 1\n",
    "        \n",
    "# Printing the final result\n",
    "print(f'Total number of overlaps: {total_overlaps}')"
   ]
  },
  {
   "cell_type": "markdown",
   "id": "9f305fef",
   "metadata": {},
   "source": [
    "## Part 2\n",
    "\n",
    "It seems like there is still quite a bit of duplicate work planned. Instead, the Elves would like to know the number of pairs that overlap at all.\n",
    "\n",
    "In the above example, the first two pairs (2-4,6-8 and 2-3,4-5) don't overlap, while the remaining four pairs (5-7,7-9, 2-8,3-7, 6-6,4-6, and 2-6,4-8) do overlap:\n",
    "\n",
    "- 5-7,7-9 overlaps in a single section, 7.\n",
    "- 2-8,3-7 overlaps all of the sections 3 through 7.\n",
    "- 6-6,4-6 overlaps in a single section, 6.\n",
    "- 2-6,4-8 overlaps in sections 4, 5, and 6.\n",
    "\n",
    "So, in this example, the number of overlapping assignment pairs is 4."
   ]
  },
  {
   "cell_type": "code",
   "execution_count": 5,
   "id": "46d878d0",
   "metadata": {},
   "outputs": [
    {
     "name": "stdout",
     "output_type": "stream",
     "text": [
      "Total number of overlaps: 38913\n"
     ]
    }
   ],
   "source": [
    "# Instantiating a variable that will count the number of total overlaps\n",
    "total_overlaps = 0\n",
    "\n",
    "# Iterating through all the campsite pairs\n",
    "for campsite_pair in campsite_pairs:\n",
    "    \n",
    "    # Splitting the campsite sites\n",
    "    campsite1, campsite2 = campsite_pair.split(',')\n",
    "    \n",
    "    # Extracting the lower and upper section IDs from each campsite\n",
    "    campsite1_lower, campsite1_upper = campsite1.split('-')\n",
    "    campsite2_lower, campsite2_upper = campsite2.split('-')\n",
    "\n",
    "    # Converting the current string datatypes to integers\n",
    "    campsite1_lower = int(campsite1_lower)\n",
    "    campsite1_upper = int(campsite1_upper)\n",
    "    campsite2_lower = int(campsite2_lower)\n",
    "    campsite2_upper = int(campsite2_upper)\n",
    "    \n",
    "    # Creating lists of integers representing all section IDs for each campsite\n",
    "    campsite1_ids = list(range(campsite1_lower, campsite1_upper + 1))\n",
    "    campsite2_ids = list(range(campsite2_lower, campsite2_upper + 1))\n",
    "    \n",
    "    # Checking to see if there is any overlap between the campsites\n",
    "    for campsite_id in campsite1_ids:\n",
    "        total_overlaps += 1\n",
    "\n",
    "# Printing the final result\n",
    "print(f'Total number of overlaps: {total_overlaps}')"
   ]
  },
  {
   "cell_type": "code",
   "execution_count": null,
   "id": "79232bc1",
   "metadata": {},
   "outputs": [],
   "source": []
  }
 ],
 "metadata": {
  "kernelspec": {
   "display_name": "Python 3 (ipykernel)",
   "language": "python",
   "name": "python3"
  },
  "language_info": {
   "codemirror_mode": {
    "name": "ipython",
    "version": 3
   },
   "file_extension": ".py",
   "mimetype": "text/x-python",
   "name": "python",
   "nbconvert_exporter": "python",
   "pygments_lexer": "ipython3",
   "version": "3.10.7"
  }
 },
 "nbformat": 4,
 "nbformat_minor": 5
}
