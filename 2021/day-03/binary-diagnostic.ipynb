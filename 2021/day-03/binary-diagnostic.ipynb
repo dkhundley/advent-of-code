{
 "cells": [
  {
   "cell_type": "markdown",
   "metadata": {},
   "source": [
    "# Day 3: Binary Diagnostic!\n",
    "What could it be? Advent of Code 2021... day 3! ([Link](https://adventofcode.com/2021/day/3))"
   ]
  },
  {
   "cell_type": "markdown",
   "metadata": {},
   "source": [
    "## Part 1"
   ]
  },
  {
   "cell_type": "code",
   "execution_count": 1,
   "metadata": {},
   "outputs": [],
   "source": [
    "# Loading in the diagnostic report with the binary values\n",
    "with open('aoc-day3.txt') as f:\n",
    "    diag_report = f.read().splitlines()"
   ]
  },
  {
   "cell_type": "code",
   "execution_count": 2,
   "metadata": {},
   "outputs": [],
   "source": [
    "# Instantiating a list with 12 spots\n",
    "results = [0] * 12"
   ]
  },
  {
   "cell_type": "code",
   "execution_count": 3,
   "metadata": {},
   "outputs": [],
   "source": [
    "# Iterating through all entries in the diagnostic report\n",
    "for entry in diag_report:\n",
    "    \n",
    "    # Iterating through each number in each entry\n",
    "    for i in range(12):\n",
    "        \n",
    "        # Incrementing the result space if entry is 1\n",
    "        if entry[i] == '1':\n",
    "            results[i] += 1"
   ]
  },
  {
   "cell_type": "code",
   "execution_count": 4,
   "metadata": {},
   "outputs": [],
   "source": [
    "# Instantiating lists to hold gamma rate and epsilon rate\n",
    "gamma_rate = [0] * 12\n",
    "epsilon_rate = [0] * 12"
   ]
  },
  {
   "cell_type": "code",
   "execution_count": 5,
   "metadata": {},
   "outputs": [],
   "source": [
    "# Instantiating a variable to be used for bit position\n",
    "bit_position = 0"
   ]
  },
  {
   "cell_type": "code",
   "execution_count": 6,
   "metadata": {},
   "outputs": [],
   "source": [
    "# Iterating through results to determine gamma and epsilon rates\n",
    "for i in results:\n",
    "    if i > (len(diag_report) / 2):\n",
    "        gamma_rate[bit_position] += 1\n",
    "    else:\n",
    "        epsilon_rate[bit_position] += 1\n",
    "    \n",
    "    # Incrementing \n",
    "    bit_position += 1"
   ]
  },
  {
   "cell_type": "code",
   "execution_count": 7,
   "metadata": {},
   "outputs": [],
   "source": [
    "# Converting list results into binary numbers\n",
    "gamma_binary = ''.join(map(str, gamma_rate))\n",
    "epsilon_binary = ''.join(map(str, epsilon_rate))"
   ]
  },
  {
   "cell_type": "code",
   "execution_count": 8,
   "metadata": {},
   "outputs": [],
   "source": [
    "# Converting binary to decimal values\n",
    "gamma_decimal = int(gamma_binary, 2)\n",
    "epsilon_decimal = int(epsilon_binary, 2)"
   ]
  },
  {
   "cell_type": "code",
   "execution_count": 9,
   "metadata": {},
   "outputs": [
    {
     "name": "stdout",
     "output_type": "stream",
     "text": [
      "The power consumption rate of the submarine: 852500\n"
     ]
    }
   ],
   "source": [
    "# Printing out the final result\n",
    "print(f'The power consumption rate of the submarine: {gamma_decimal * epsilon_decimal}')"
   ]
  },
  {
   "cell_type": "markdown",
   "metadata": {},
   "source": [
    "## Part 2"
   ]
  },
  {
   "cell_type": "code",
   "execution_count": 10,
   "metadata": {},
   "outputs": [],
   "source": [
    "# Loading in the diagnostic report with the binary values\n",
    "with open('aoc-day3.txt') as f:\n",
    "    diag_report = f.read().splitlines()"
   ]
  },
  {
   "cell_type": "code",
   "execution_count": 11,
   "metadata": {},
   "outputs": [],
   "source": [
    "# Making separate copies of the diag_report for the O2 and CO2 ratings\n",
    "o2_ratings = diag_report\n",
    "co2_ratings = diag_report"
   ]
  },
  {
   "cell_type": "code",
   "execution_count": 12,
   "metadata": {},
   "outputs": [
    {
     "name": "stdout",
     "output_type": "stream",
     "text": [
      "Counter: 524\n",
      "Length after Round 0: 524\n",
      "Counter: 257\n",
      "Length after Round 1: 267\n",
      "Counter: 130\n",
      "Length after Round 2: 137\n",
      "Counter: 68\n",
      "Length after Round 3: 69\n",
      "Counter: 39\n",
      "Length after Round 4: 39\n",
      "Counter: 18\n",
      "Length after Round 5: 21\n",
      "Counter: 11\n",
      "Length after Round 6: 11\n",
      "Counter: 6\n",
      "Length after Round 7: 6\n",
      "Counter: 3\n",
      "Length after Round 8: 3\n",
      "Counter: 1\n",
      "Length after Round 9: 2\n",
      "Counter: 1\n",
      "Length after Round 10: 1\n"
     ]
    }
   ],
   "source": [
    "# Instantiating a value that will hold the bit position\n",
    "bit_position = 0\n",
    "\n",
    "# Continuing iterations through o2_ratings until only a single bit rating is remaining\n",
    "while len(o2_ratings) != 1:\n",
    "    \n",
    "    # Restarting the counter at 0\n",
    "    counter = 0\n",
    "    \n",
    "    # Iterating through all current entries in o2_ratings\n",
    "    for entry in o2_ratings:\n",
    "        if int(entry[bit_position]) == 1:\n",
    "            counter += 1\n",
    "            \n",
    "    print(f'Counter: {counter}')\n",
    "    \n",
    "    # Keeping only relevant entries on if bit was found to be more common than not\n",
    "    if counter >= (len(o2_ratings) / 2):\n",
    "        o2_ratings = [i for i in o2_ratings if int(i[bit_position]) == 1]\n",
    "    else:\n",
    "        o2_ratings = [i for i in o2_ratings if int(i[bit_position]) == 0]\n",
    "        \n",
    "    print(f'Length after Round {bit_position}: {len(o2_ratings)}')\n",
    "        \n",
    "    # Incrementing the bit position\n",
    "    bit_position += 1"
   ]
  },
  {
   "cell_type": "code",
   "execution_count": 13,
   "metadata": {},
   "outputs": [
    {
     "name": "stdout",
     "output_type": "stream",
     "text": [
      "Counter: 524\n",
      "Length after Round 0: 476\n",
      "Counter: 255\n",
      "Length after Round 1: 221\n",
      "Counter: 112\n",
      "Length after Round 2: 109\n",
      "Counter: 54\n",
      "Length after Round 3: 54\n",
      "Counter: 24\n",
      "Length after Round 4: 24\n",
      "Counter: 11\n",
      "Length after Round 5: 11\n",
      "Counter: 6\n",
      "Length after Round 6: 5\n",
      "Counter: 3\n",
      "Length after Round 7: 2\n",
      "Counter: 1\n",
      "Length after Round 8: 1\n"
     ]
    }
   ],
   "source": [
    "# Instantiating a value that will hold the bit position\n",
    "bit_position = 0\n",
    "\n",
    "# Continuing iterations through co2_ratings until only a single bit rating is remaining\n",
    "while len(co2_ratings) != 1:\n",
    "    \n",
    "    # Restarting the counter at 0\n",
    "    counter = 0\n",
    "    \n",
    "    # Iterating through all current entries in co2_ratings\n",
    "    for entry in co2_ratings:\n",
    "        if int(entry[bit_position]) == 1:\n",
    "            counter += 1\n",
    "            \n",
    "    print(f'Counter: {counter}')\n",
    "    \n",
    "    # Keeping only relevant entries on if bit was found to be less common than not\n",
    "    if counter < (len(co2_ratings) / 2):\n",
    "        co2_ratings = [i for i in co2_ratings if int(i[bit_position]) == 1]\n",
    "    else:\n",
    "        co2_ratings = [i for i in co2_ratings if int(i[bit_position]) == 0]\n",
    "        \n",
    "    print(f'Length after Round {bit_position}: {len(co2_ratings)}')\n",
    "        \n",
    "    # Incrementing the bit position\n",
    "    bit_position += 1"
   ]
  },
  {
   "cell_type": "code",
   "execution_count": 14,
   "metadata": {},
   "outputs": [
    {
     "name": "stdout",
     "output_type": "stream",
     "text": [
      "O2 Binary: 100010111011\n",
      "CO2 Binary: 000111000011\n"
     ]
    }
   ],
   "source": [
    "# Extracting the final results from the search above\n",
    "o2_binary = o2_ratings[0]\n",
    "co2_binary = co2_ratings[0]\n",
    "print(f'O2 Binary: {o2_binary}')\n",
    "print(f'CO2 Binary: {co2_binary}')"
   ]
  },
  {
   "cell_type": "code",
   "execution_count": 15,
   "metadata": {},
   "outputs": [
    {
     "name": "stdout",
     "output_type": "stream",
     "text": [
      "O2 Rating: 2235\n",
      "CO2 Rating: 451\n"
     ]
    }
   ],
   "source": [
    "# Converting binary to decimal values\n",
    "o2_rating = int(o2_binary, 2)\n",
    "co2_rating = int(co2_binary, 2)\n",
    "print(f'O2 Rating: {o2_rating}')\n",
    "print(f'CO2 Rating: {co2_rating}')"
   ]
  },
  {
   "cell_type": "code",
   "execution_count": 16,
   "metadata": {},
   "outputs": [
    {
     "name": "stdout",
     "output_type": "stream",
     "text": [
      "The life support rating of the submarine: 1007985\n"
     ]
    }
   ],
   "source": [
    "# Printing out the final result\n",
    "print(f'The life support rating of the submarine: {o2_rating * co2_rating}')"
   ]
  }
 ],
 "metadata": {
  "kernelspec": {
   "display_name": "Python 3",
   "language": "python",
   "name": "python3"
  },
  "language_info": {
   "codemirror_mode": {
    "name": "ipython",
    "version": 3
   },
   "file_extension": ".py",
   "mimetype": "text/x-python",
   "name": "python",
   "nbconvert_exporter": "python",
   "pygments_lexer": "ipython3",
   "version": "3.8.8"
  }
 },
 "nbformat": 4,
 "nbformat_minor": 2
}
