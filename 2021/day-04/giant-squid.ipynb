{
 "cells": [
  {
   "cell_type": "markdown",
   "metadata": {},
   "source": [
    "# Day 4: Giant Squid\n",
    "What's that knocking at the door? It's Advent of Code day 4! ([Link](https://adventofcode.com/2021/day/4))"
   ]
  },
  {
   "cell_type": "markdown",
   "metadata": {},
   "source": [
    "## Part 1"
   ]
  },
  {
   "cell_type": "code",
   "execution_count": 1,
   "metadata": {},
   "outputs": [],
   "source": [
    "# Importing the necessary Python libraries\n",
    "import numpy as np"
   ]
  },
  {
   "cell_type": "code",
   "execution_count": 2,
   "metadata": {},
   "outputs": [],
   "source": [
    "# Loading in the input from the file\n",
    "with open('aoc-day4.txt') as f:\n",
    "    # Getting the first line as the \"bingo balls\"\n",
    "    bingo_balls = f.readline()\n",
    "    \n",
    "    # Getting the remaining lines as the \"bingo boards\"\n",
    "    bingo_boards = f.readlines()"
   ]
  },
  {
   "cell_type": "code",
   "execution_count": 3,
   "metadata": {},
   "outputs": [],
   "source": [
    "# Crafting bingo balls into integer array\n",
    "bingo_balls = list(map(int, (bingo_balls.replace('\\n', '').split(','))))"
   ]
  },
  {
   "cell_type": "code",
   "execution_count": 4,
   "metadata": {},
   "outputs": [],
   "source": [
    "# Refactoring boards into integer arrays\n",
    "bingo_boards = [list(map(int, board.replace('\\n', '').split())) for board in bingo_boards]"
   ]
  },
  {
   "cell_type": "code",
   "execution_count": 5,
   "metadata": {},
   "outputs": [],
   "source": [
    "# Removing empty entries from boards list\n",
    "bingo_boards = [board for board in bingo_boards if board != []]"
   ]
  },
  {
   "cell_type": "code",
   "execution_count": 6,
   "metadata": {},
   "outputs": [],
   "source": [
    "# Segmenting the bingo boards appropriately\n",
    "bingo_boards = [bingo_boards[line:line+5] for line in range(0, len(bingo_boards), 5)]"
   ]
  },
  {
   "cell_type": "code",
   "execution_count": 7,
   "metadata": {},
   "outputs": [],
   "source": [
    "# Changing bingo boards into matrices\n",
    "for i in range(len(bingo_boards)):\n",
    "    bingo_boards[i] = np.matrix(bingo_boards[i])"
   ]
  },
  {
   "cell_type": "code",
   "execution_count": 8,
   "metadata": {},
   "outputs": [],
   "source": [
    "# Instantiating a variable that indicates if there is a winner to break out of nested for loops\n",
    "winner = False"
   ]
  },
  {
   "cell_type": "code",
   "execution_count": 9,
   "metadata": {},
   "outputs": [],
   "source": [
    "# Drawing a new bingo ball\n",
    "for bingo_ball in bingo_balls:\n",
    "    \n",
    "    # Breaking the loop if winner is found\n",
    "    if winner:\n",
    "        break\n",
    "    \n",
    "    # Iterating through all bingo boards\n",
    "    for board in bingo_boards:\n",
    "\n",
    "        # Marking the bingo board if bingo ball is pulled\n",
    "        for x, y in np.ndindex(board.shape):\n",
    "            if board[x, y] == bingo_ball:\n",
    "                board[x, y] = -1\n",
    "                \n",
    "    # Iterating through all bingo boards\n",
    "    for board in bingo_boards:\n",
    "        \n",
    "        # Breaking the loop if winner is found\n",
    "        if winner:\n",
    "            break\n",
    "            \n",
    "        # Checking vertically or horizontally for any bingos\n",
    "        for i in range(5):\n",
    "            \n",
    "            # Breaking the loop if winner is found\n",
    "            if winner:\n",
    "                break\n",
    "                \n",
    "            # Checking vertical columns for any bingos\n",
    "            if board[:, i].sum() == -5:\n",
    "                latest_ball = bingo_ball\n",
    "                winning_board = board\n",
    "                winner = True\n",
    "                break\n",
    "\n",
    "            # Checking horizontal rows for any bingos\n",
    "            if board[i, :].sum() == -5:\n",
    "                latest_ball = bingo_ball\n",
    "                winning_board = board\n",
    "                winner = True\n",
    "                break\n",
    "\n",
    "        # Checking top-left to bottom-right diagonal for bingo\n",
    "        if np.diag(board).sum() == -5:\n",
    "            latest_ball = bingo_ball\n",
    "            winning_board = board\n",
    "            winner = True\n",
    "            break\n",
    "\n",
    "        # Checking bottom-left to top-right diagonal for bingo\n",
    "        if np.fliplr(board).diagonal().sum() == -5:\n",
    "            latest_ball = bingo_ball\n",
    "            winning_board = board\n",
    "            winner = True\n",
    "            break"
   ]
  },
  {
   "cell_type": "code",
   "execution_count": 10,
   "metadata": {},
   "outputs": [],
   "source": [
    "# Changing the marked values of the winning board from -1 to 0\n",
    "for x, y in np.ndindex(winning_board.shape):\n",
    "    if winning_board[x, y] == -1:\n",
    "        winning_board[x, y] = 0"
   ]
  },
  {
   "cell_type": "code",
   "execution_count": 11,
   "metadata": {},
   "outputs": [
    {
     "name": "stdout",
     "output_type": "stream",
     "text": [
      "The final score is: 41668\n"
     ]
    }
   ],
   "source": [
    "# Printing out the final score\n",
    "print(f'The final score is: {(winning_board.sum() * latest_ball)}')"
   ]
  },
  {
   "cell_type": "markdown",
   "metadata": {},
   "source": [
    "## Part 2"
   ]
  },
  {
   "cell_type": "code",
   "execution_count": 12,
   "metadata": {},
   "outputs": [],
   "source": [
    "# Importing the necessary Python libraries\n",
    "import numpy as np"
   ]
  },
  {
   "cell_type": "code",
   "execution_count": 13,
   "metadata": {},
   "outputs": [],
   "source": [
    "# Loading in the input from the file\n",
    "with open('aoc-day4.txt') as f:\n",
    "    # Getting the first line as the \"bingo balls\"\n",
    "    bingo_balls = f.readline()\n",
    "    \n",
    "    # Getting the remaining lines as the \"bingo boards\"\n",
    "    bingo_boards = f.readlines()\n",
    "    \n",
    "# Crafting bingo balls into integer array\n",
    "bingo_balls = list(map(int, (bingo_balls.replace('\\n', '').split(','))))\n",
    "\n",
    "# Refactoring boards into integer arrays\n",
    "bingo_boards = [list(map(int, board.replace('\\n', '').split())) for board in bingo_boards]\n",
    "\n",
    "# Removing empty entries from boards list\n",
    "bingo_boards = [board for board in bingo_boards if board != []]\n",
    "\n",
    "# Segmenting the bingo boards appropriately\n",
    "bingo_boards = [bingo_boards[line:line+5] for line in range(0, len(bingo_boards), 5)]\n",
    "\n",
    "# Changing bingo boards into matrices\n",
    "for i in range(len(bingo_boards)):\n",
    "    bingo_boards[i] = np.matrix(bingo_boards[i])\n",
    "    \n",
    "# Instantiating a variable that indicates if there is a winner to break out of nested for loops\n",
    "winner = False\n",
    "num_winning_boards = 0"
   ]
  },
  {
   "cell_type": "code",
   "execution_count": 14,
   "metadata": {},
   "outputs": [],
   "source": [
    "# Drawing a new bingo ball\n",
    "for bingo_ball in bingo_balls:\n",
    "        \n",
    "    # Breaking the loop if winner is found\n",
    "    if winner:\n",
    "        break\n",
    "                \n",
    "    # Iterating through all bingo boards\n",
    "    for index_pos in range(len(bingo_boards)):\n",
    "        \n",
    "        # Breaking the loop if winner is found\n",
    "        if winner:\n",
    "            break\n",
    "        \n",
    "        # Skipping over any boards marked with 'X'\n",
    "        if type(bingo_boards[index_pos]) != np.matrix:\n",
    "            continue\n",
    "            \n",
    "        # Marking the bingo board if bingo ball is pulled\n",
    "        for x, y in np.ndindex(bingo_boards[index_pos].shape):\n",
    "            if bingo_boards[index_pos][x, y] == bingo_ball:\n",
    "                bingo_boards[index_pos][x, y] = -1\n",
    "        \n",
    "        # Instantiating a variable to break vertical / horizontal loop\n",
    "        segment_winner = False\n",
    "        \n",
    "        # Checking vertically or horizontally for any bingos\n",
    "        for i in range(5):\n",
    "            \n",
    "            # Breaking the loop if winner is found\n",
    "            if winner:\n",
    "                break\n",
    "                \n",
    "            # Checking vertical columns for any bingos\n",
    "            if bingo_boards[index_pos][:, i].sum() == -5:\n",
    "                # Incrementing the winning board count\n",
    "                num_winning_boards += 1\n",
    "                \n",
    "                # Removing winning board from list by marking it with an X\n",
    "                if num_winning_boards != 100:\n",
    "                    bingo_boards[index_pos] = 'X'\n",
    "                    segment_winner = True\n",
    "                    break\n",
    "                # Declaring winner if last board\n",
    "                else:\n",
    "                    latest_ball = bingo_ball\n",
    "                    winning_board = bingo_boards[index_pos]\n",
    "                    winner = True\n",
    "                    break\n",
    "\n",
    "            # Checking horizontal rows for any bingos\n",
    "            if bingo_boards[index_pos][i, :].sum() == -5:\n",
    "                # Incrementing the winning board count\n",
    "                num_winning_boards += 1\n",
    "                \n",
    "                # Removing winning board from list by marking it with an X\n",
    "                if num_winning_boards != 100:\n",
    "                    bingo_boards[index_pos] = 'X'\n",
    "                    segment_winner = True\n",
    "                    break\n",
    "                # Declaring winner if last board\n",
    "                else:\n",
    "                    latest_ball = bingo_ball\n",
    "                    winning_board = bingo_boards[index_pos]\n",
    "                    winner = True\n",
    "                    break\n",
    "\n",
    "        # Continuing loop if segment winner was found\n",
    "        if segment_winner:\n",
    "            continue\n",
    "\n",
    "        # Checking top-left to bottom-right diagonal for bingo\n",
    "        if np.diag(bingo_boards[index_pos]).sum() == -5:\n",
    "            # Incrementing the winning board count\n",
    "            num_winning_boards += 1\n",
    "                \n",
    "            # Removing winning board from list by marking it with an X\n",
    "            if num_winning_boards != 100:\n",
    "                bingo_boards[index_pos] = 'X'\n",
    "                continue\n",
    "            # Declaring winner if last board\n",
    "            else:\n",
    "                latest_ball = bingo_ball\n",
    "                winning_board = bingo_boards[index_pos]\n",
    "                winner = True\n",
    "                break\n",
    "\n",
    "        # Checking bottom-left to top-right diagonal for bingo\n",
    "        if np.fliplr(bingo_boards[index_pos]).diagonal().sum() == -5:\n",
    "            # Incrementing the winning board count\n",
    "            num_winning_boards += 1\n",
    "                \n",
    "            # Removing winning board from list by marking it with an X\n",
    "            if num_winning_boards != 100:\n",
    "                bingo_boards[index_pos] = 'X'\n",
    "                continue\n",
    "            # Declaring winner if last board\n",
    "            else:\n",
    "                latest_ball = bingo_ball\n",
    "                winning_board = bingo_boards[index_pos]\n",
    "                winner = True\n",
    "                break"
   ]
  },
  {
   "cell_type": "code",
   "execution_count": 15,
   "metadata": {},
   "outputs": [],
   "source": [
    "# Changing the marked values of the winning board from -1 to 0\n",
    "for x, y in np.ndindex(winning_board.shape):\n",
    "    if winning_board[x, y] == -1:\n",
    "        winning_board[x, y] = 0"
   ]
  },
  {
   "cell_type": "code",
   "execution_count": 16,
   "metadata": {},
   "outputs": [
    {
     "name": "stdout",
     "output_type": "stream",
     "text": [
      "The final score is: 10478\n"
     ]
    }
   ],
   "source": [
    "# Printing out the final score\n",
    "print(f'The final score is: {(winning_board.sum() * latest_ball)}')"
   ]
  },
  {
   "cell_type": "code",
   "execution_count": null,
   "metadata": {},
   "outputs": [],
   "source": []
  }
 ],
 "metadata": {
  "kernelspec": {
   "display_name": "Python 3",
   "language": "python",
   "name": "python3"
  },
  "language_info": {
   "codemirror_mode": {
    "name": "ipython",
    "version": 3
   },
   "file_extension": ".py",
   "mimetype": "text/x-python",
   "name": "python",
   "nbconvert_exporter": "python",
   "pygments_lexer": "ipython3",
   "version": "3.6.6+"
  }
 },
 "nbformat": 4,
 "nbformat_minor": 2
}
