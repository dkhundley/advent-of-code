{
 "cells": [
  {
   "cell_type": "markdown",
   "id": "88b9d6f7",
   "metadata": {},
   "source": [
    "# Day 1: Sonar Sweep!\n",
    "In this notebook, we'll be taking on the very first challenge in the Advent of Code 2021 challenge: [Sonar Sweep](https://adventofcode.com/2021/day/1)!"
   ]
  },
  {
   "cell_type": "markdown",
   "id": "de7b8a78",
   "metadata": {},
   "source": [
    "## Part 1"
   ]
  },
  {
   "cell_type": "code",
   "execution_count": 1,
   "id": "f04a9bc1",
   "metadata": {},
   "outputs": [],
   "source": [
    "# Importing the input dataset\n",
    "with open('input.txt', 'r') as f:\n",
    "    inputs = f.read()"
   ]
  },
  {
   "cell_type": "code",
   "execution_count": 2,
   "id": "bb724576",
   "metadata": {},
   "outputs": [],
   "source": [
    "# Splitting the input with splitlines()\n",
    "measurements = inputs.splitlines()"
   ]
  },
  {
   "cell_type": "code",
   "execution_count": 3,
   "id": "eb4956a7",
   "metadata": {},
   "outputs": [],
   "source": [
    "# Instantiating a counter that will note each time a number goes up\n",
    "counter = 0"
   ]
  },
  {
   "cell_type": "code",
   "execution_count": 4,
   "id": "adef432e",
   "metadata": {},
   "outputs": [],
   "source": [
    "# Getting the first measurement from measurements\n",
    "prev_measurement = measurements.pop(0)"
   ]
  },
  {
   "cell_type": "code",
   "execution_count": 5,
   "id": "d2e5cbe7",
   "metadata": {},
   "outputs": [],
   "source": [
    "# Iterating through measurements and increasing counter when the measurements increase\n",
    "for i in measurements:\n",
    "    if int(i) > int(prev_measurement):\n",
    "        counter += 1\n",
    "    \n",
    "    prev_measurement = i"
   ]
  },
  {
   "cell_type": "code",
   "execution_count": 6,
   "id": "6f6077cc",
   "metadata": {},
   "outputs": [
    {
     "name": "stdout",
     "output_type": "stream",
     "text": [
      "The number of times the measurements increased: 1715\n"
     ]
    }
   ],
   "source": [
    "# Printing the final result\n",
    "print(f'The number of times the measurements increased: {counter}')"
   ]
  },
  {
   "cell_type": "markdown",
   "id": "87ae6c5f",
   "metadata": {},
   "source": [
    "## Part 2"
   ]
  },
  {
   "cell_type": "code",
   "execution_count": 7,
   "id": "26fff43b",
   "metadata": {},
   "outputs": [],
   "source": [
    "# Importing the input dataset\n",
    "with open('input.txt', 'r') as f:\n",
    "    inputs = f.read()"
   ]
  },
  {
   "cell_type": "code",
   "execution_count": 8,
   "id": "a76d064e",
   "metadata": {},
   "outputs": [],
   "source": [
    "# Splitting the input with splitlines()\n",
    "measurements = inputs.splitlines()"
   ]
  },
  {
   "cell_type": "code",
   "execution_count": 9,
   "id": "94ac77c9",
   "metadata": {},
   "outputs": [],
   "source": [
    "# Instantiating a counter that will note each time a set of numbers goes up\n",
    "counter = 0"
   ]
  },
  {
   "cell_type": "code",
   "execution_count": 18,
   "id": "92aceb40",
   "metadata": {},
   "outputs": [],
   "source": [
    "# Changing data type from string to int\n",
    "measurements = list(map(int, measurements))"
   ]
  },
  {
   "cell_type": "code",
   "execution_count": 19,
   "id": "46912540",
   "metadata": {},
   "outputs": [],
   "source": [
    "# Getting the sum of the first 3 numbers\n",
    "prev_sum = sum(measurements[:3])\n",
    "window_sum = prev_sum"
   ]
  },
  {
   "cell_type": "code",
   "execution_count": 20,
   "id": "c860cb55",
   "metadata": {},
   "outputs": [],
   "source": [
    "# Iterating through the windowed elements\n",
    "for i in range(len(measurements) - 3):\n",
    "    window_sum = window_sum - measurements[i] + measurements[i + 3]\n",
    "    if window_sum > prev_sum:\n",
    "        counter += 1\n",
    "    prev_sum = window_sum"
   ]
  },
  {
   "cell_type": "code",
   "execution_count": 22,
   "id": "f5ca763f",
   "metadata": {},
   "outputs": [
    {
     "name": "stdout",
     "output_type": "stream",
     "text": [
      "The number of times the measurements increased: 1739\n"
     ]
    }
   ],
   "source": [
    "# Printing the final result\n",
    "print(f'The number of times the measurements increased: {counter}')"
   ]
  },
  {
   "cell_type": "code",
   "execution_count": null,
   "id": "5711a63e",
   "metadata": {},
   "outputs": [],
   "source": []
  }
 ],
 "metadata": {
  "kernelspec": {
   "display_name": "Python 3",
   "language": "python",
   "name": "python3"
  },
  "language_info": {
   "codemirror_mode": {
    "name": "ipython",
    "version": 3
   },
   "file_extension": ".py",
   "mimetype": "text/x-python",
   "name": "python",
   "nbconvert_exporter": "python",
   "pygments_lexer": "ipython3",
   "version": "3.6.6+"
  }
 },
 "nbformat": 4,
 "nbformat_minor": 5
}
