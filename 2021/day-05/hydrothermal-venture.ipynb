{
 "cells": [
  {
   "cell_type": "markdown",
   "metadata": {},
   "source": [
    "# Day 5: Hydrothermal Venture!\n",
    "Want to feel alive? Let's do the Advent of Code day 5! ([Link](https://adventofcode.com/2021/day/5))"
   ]
  },
  {
   "cell_type": "markdown",
   "metadata": {},
   "source": [
    "## Part 1"
   ]
  },
  {
   "cell_type": "code",
   "execution_count": 1,
   "metadata": {},
   "outputs": [],
   "source": [
    "# Importing the necessary Python libaries\n",
    "import numpy as np"
   ]
  },
  {
   "cell_type": "code",
   "execution_count": 2,
   "metadata": {},
   "outputs": [],
   "source": [
    "# Loading in the data from the input file\n",
    "with open('aoc-day5.txt') as f:\n",
    "    data = f.readlines()"
   ]
  },
  {
   "cell_type": "code",
   "execution_count": 3,
   "metadata": {},
   "outputs": [],
   "source": [
    "# Removing any newline characters from coords\n",
    "data = [datum.replace('\\n', '').split(' -> ') for datum in data]"
   ]
  },
  {
   "cell_type": "code",
   "execution_count": 4,
   "metadata": {},
   "outputs": [],
   "source": [
    "# Creating a new list to hold all the coordinates\n",
    "coords = []"
   ]
  },
  {
   "cell_type": "code",
   "execution_count": 5,
   "metadata": {},
   "outputs": [],
   "source": [
    "# Generating new coordinates as lists of integer values\n",
    "for datum in data:\n",
    "    start = list(map(int, (datum[0].split(','))))\n",
    "    end = list(map(int, (datum[1].split(','))))\n",
    "    new_coords = [start, end]\n",
    "    coords.append(new_coords)"
   ]
  },
  {
   "cell_type": "code",
   "execution_count": 6,
   "metadata": {},
   "outputs": [],
   "source": [
    "# Marking any lines that produce a diagonal with the letter 'X'\n",
    "for index_pos in range(len(coords)):\n",
    "    if (coords[index_pos][0][0] != coords[index_pos][1][0]) and (coords[index_pos][0][1] != coords[index_pos][1][1]):\n",
    "        coords[index_pos] = 'X'"
   ]
  },
  {
   "cell_type": "code",
   "execution_count": 7,
   "metadata": {},
   "outputs": [],
   "source": [
    "# Keeping only horizontal and vertical lines\n",
    "coords = [coord for coord in coords if coord != 'X']"
   ]
  },
  {
   "cell_type": "code",
   "execution_count": 8,
   "metadata": {},
   "outputs": [],
   "source": [
    "# Instantiating a coordinate grid of zeroes\n",
    "coord_grid = np.zeros(shape = (1000,1000), dtype = np.int8)"
   ]
  },
  {
   "cell_type": "code",
   "execution_count": 9,
   "metadata": {},
   "outputs": [],
   "source": [
    "# Iterating through all coordinates and \"graphing\" them to coordinate grid\n",
    "for coord in coords:\n",
    "\n",
    "    # Creating an empty container to hold all line coordinates\n",
    "    line_coords = []\n",
    "\n",
    "    # Generating all line coordinates for a horizontal line\n",
    "    if coord[0][0] == coord[1][0]:\n",
    "        # Saving the x position\n",
    "        x_pos = coord[0][0]\n",
    "    \n",
    "        # Getting the starting position of the y coordinate\n",
    "        if coord[0][1] < coord[1][1]:\n",
    "            y_pos = coord[0][1]\n",
    "            end_pos = coord[1][1]\n",
    "        else:\n",
    "            y_pos = coord[1][1]\n",
    "            end_pos = coord[0][1]\n",
    "        \n",
    "        # Generating coordinates for the horizontal line\n",
    "        while y_pos <= end_pos:\n",
    "            line_coord = [x_pos, y_pos]\n",
    "            line_coords.append(line_coord)\n",
    "            y_pos += 1\n",
    "    \n",
    "    # Generating all line coordinates for a vertical line\n",
    "    elif coord[0][1] == coord[1][1]:\n",
    "        # Saving the y position\n",
    "        y_pos = coord[0][1]\n",
    "    \n",
    "        # Getting the starting position of the x coordinate\n",
    "        if coord[0][0] < coord[1][0]:\n",
    "            x_pos = coord[0][0]\n",
    "            end_pos = coord[1][0]\n",
    "        else:\n",
    "            x_pos = coord[1][0]\n",
    "            end_pos = coord[0][0]\n",
    "    \n",
    "        # Generating coordinates for the vertical line\n",
    "        while x_pos <= end_pos:\n",
    "            line_coord = [x_pos, y_pos]\n",
    "            line_coords.append(line_coord)\n",
    "            x_pos += 1\n",
    "    \n",
    "    for line in line_coords:\n",
    "        x_pos = line[0]\n",
    "        y_pos = line[1]\n",
    "        coord_grid[x_pos][y_pos] += 1"
   ]
  },
  {
   "cell_type": "code",
   "execution_count": 10,
   "metadata": {},
   "outputs": [],
   "source": [
    "# Instantiating number of intersection points\n",
    "num_intersections = 0"
   ]
  },
  {
   "cell_type": "code",
   "execution_count": 11,
   "metadata": {},
   "outputs": [],
   "source": [
    "# Transforming coordinate grid into matrix\n",
    "coord_grid_matrix = np.matrix(coord_grid)"
   ]
  },
  {
   "cell_type": "code",
   "execution_count": 12,
   "metadata": {},
   "outputs": [],
   "source": [
    "# Flattening coordinate grid as single array of values\n",
    "intersections = coord_grid_matrix.A1"
   ]
  },
  {
   "cell_type": "code",
   "execution_count": 13,
   "metadata": {},
   "outputs": [],
   "source": [
    "# Incrementing number of intersections if value greater than or equal to 2\n",
    "for intersection in intersections:\n",
    "    if intersection >= 2:\n",
    "        num_intersections += 1"
   ]
  },
  {
   "cell_type": "code",
   "execution_count": 14,
   "metadata": {},
   "outputs": [
    {
     "name": "stdout",
     "output_type": "stream",
     "text": [
      "The total number of intersections: 7085\n"
     ]
    }
   ],
   "source": [
    "# Printing the final result\n",
    "print(f'The total number of intersections: {num_intersections}')"
   ]
  },
  {
   "cell_type": "markdown",
   "metadata": {},
   "source": [
    "## Part 2"
   ]
  },
  {
   "cell_type": "code",
   "execution_count": 15,
   "metadata": {},
   "outputs": [],
   "source": [
    "# Importing the necessary Python libaries\n",
    "import numpy as np"
   ]
  },
  {
   "cell_type": "code",
   "execution_count": 16,
   "metadata": {},
   "outputs": [],
   "source": [
    "# Loading in the data from the input file\n",
    "with open('aoc-day5.txt') as f:\n",
    "    data = f.readlines()\n",
    "    \n",
    "# Removing any newline characters from coords\n",
    "data = [datum.replace('\\n', '').split(' -> ') for datum in data]\n",
    "\n",
    "# Creating a new list to hold all the coordinates\n",
    "coords = []\n",
    "\n",
    "# Generating new coordinates as lists of integer values\n",
    "for datum in data:\n",
    "    start = list(map(int, (datum[0].split(','))))\n",
    "    end = list(map(int, (datum[1].split(','))))\n",
    "    new_coords = [start, end]\n",
    "    coords.append(new_coords)\n",
    "\n",
    "# Instantiating a coordinate grid of zeroes\n",
    "coord_grid = np.zeros(shape = (1000,1000), dtype = np.int8)"
   ]
  },
  {
   "cell_type": "code",
   "execution_count": 17,
   "metadata": {},
   "outputs": [],
   "source": [
    "# Iterating through all coordinates and \"graphing\" them to coordinate grid\n",
    "for coord in coords:\n",
    "\n",
    "    # Creating an empty container to hold all line coordinates\n",
    "    line_coords = []\n",
    "\n",
    "    # Generating all line coordinates for a horizontal line\n",
    "    if coord[0][0] == coord[1][0]:\n",
    "        # Saving the x position\n",
    "        x_pos = coord[0][0]\n",
    "    \n",
    "        # Getting the starting position of the y coordinate\n",
    "        if coord[0][1] < coord[1][1]:\n",
    "            y_pos = coord[0][1]\n",
    "            end_pos = coord[1][1]\n",
    "        else:\n",
    "            y_pos = coord[1][1]\n",
    "            end_pos = coord[0][1]\n",
    "        \n",
    "        # Generating coordinates for the horizontal line\n",
    "        while y_pos <= end_pos:\n",
    "            line_coord = [x_pos, y_pos]\n",
    "            line_coords.append(line_coord)\n",
    "            y_pos += 1\n",
    "    \n",
    "    # Generating all line coordinates for a vertical line\n",
    "    elif coord[0][1] == coord[1][1]:\n",
    "        # Saving the y position\n",
    "        y_pos = coord[0][1]\n",
    "    \n",
    "        # Getting the starting position of the x coordinate\n",
    "        if coord[0][0] < coord[1][0]:\n",
    "            x_pos = coord[0][0]\n",
    "            end_pos = coord[1][0]\n",
    "        else:\n",
    "            x_pos = coord[1][0]\n",
    "            end_pos = coord[0][0]\n",
    "    \n",
    "        # Generating coordinates for the vertical line\n",
    "        while x_pos <= end_pos:\n",
    "            line_coord = [x_pos, y_pos]\n",
    "            line_coords.append(line_coord)\n",
    "            x_pos += 1\n",
    "\n",
    "    # Handling scenario where line moves up and right\n",
    "    elif (coord[0][0] < coord[1][0]) and (coord[0][1] > coord[1][1]):\n",
    "        # Getting the starting positions from the first coordinate\n",
    "        x_pos = coord[0][0]\n",
    "        y_pos = coord[0][1]\n",
    "    \n",
    "        # Getting the ending positions from the second coordinate\n",
    "        x_end_pos = coord[1][0]\n",
    "        y_end_pos = coord[1][1]\n",
    "    \n",
    "        # Continuing to add line coordinates until condition is satisfied\n",
    "        while (x_pos <= x_end_pos) and (y_pos >= y_end_pos):\n",
    "            line_coord = [x_pos, y_pos]\n",
    "            line_coords.append(line_coord)\n",
    "            x_pos += 1\n",
    "            y_pos -= 1\n",
    "        \n",
    "    # Handling scenarios where line goes up and left\n",
    "    elif (coord[0][0] > coord[1][0]) and (coord[0][1] > coord[1][1]):\n",
    "        # Getting the starting positions from the first coordinate\n",
    "        x_pos = coord[0][0]\n",
    "        y_pos = coord[0][1]\n",
    "    \n",
    "        # Getting the ending positions from the second coordinate\n",
    "        x_end_pos = coord[1][0]\n",
    "        y_end_pos = coord[1][1]\n",
    "    \n",
    "        # Continuing to add line coordinates until condition is satisfied\n",
    "        while (x_pos >= x_end_pos) and (y_pos >= y_end_pos):\n",
    "            line_coord = [x_pos, y_pos]\n",
    "            line_coords.append(line_coord)\n",
    "            x_pos -= 1\n",
    "            y_pos -= 1\n",
    "        \n",
    "    # Handling scenarios where line goes down and right\n",
    "    elif (coord[0][0] < coord[1][0]) and (coord[0][1] < coord[1][1]):\n",
    "        # Getting the starting positions from the first coordinate\n",
    "        x_pos = coord[0][0]\n",
    "        y_pos = coord[0][1]\n",
    "    \n",
    "        # Getting the ending positions from the second coordinate\n",
    "        x_end_pos = coord[1][0]\n",
    "        y_end_pos = coord[1][1]\n",
    "    \n",
    "        # Continuing to add line coordinates until condition is satisfied\n",
    "        while (x_pos <= x_end_pos) and (y_pos <= y_end_pos):\n",
    "            line_coord = [x_pos, y_pos]\n",
    "            line_coords.append(line_coord)\n",
    "            x_pos += 1\n",
    "            y_pos += 1\n",
    "\n",
    "    # Handling scenarios where line goes down and left\n",
    "    elif (coord[0][0] > coord[1][0]) and (coord[0][1] < coord[1][1]):\n",
    "        # Getting the starting positions from the first coordinate\n",
    "        x_pos = coord[0][0]\n",
    "        y_pos = coord[0][1]\n",
    "    \n",
    "        # Getting the ending positions from the second coordinate\n",
    "        x_end_pos = coord[1][0]\n",
    "        y_end_pos = coord[1][1]\n",
    "    \n",
    "        # Continuing to add line coordinates until condition is satisfied\n",
    "        while (x_pos >= x_end_pos) and (y_pos <= y_end_pos):\n",
    "            line_coord = [x_pos, y_pos]\n",
    "            line_coords.append(line_coord)\n",
    "            x_pos -= 1\n",
    "            y_pos += 1\n",
    "    \n",
    "    \n",
    "    for line in line_coords:\n",
    "        x_pos = line[0]\n",
    "        y_pos = line[1]\n",
    "        coord_grid[x_pos][y_pos] += 1"
   ]
  },
  {
   "cell_type": "code",
   "execution_count": 18,
   "metadata": {},
   "outputs": [],
   "source": [
    "# Instantiating number of intersection points\n",
    "num_intersections = 0\n",
    "\n",
    "# Transforming coordinate grid into matrix\n",
    "coord_grid_matrix = np.matrix(coord_grid)\n",
    "\n",
    "# Flattening coordinate grid as single array of values\n",
    "intersections = coord_grid_matrix.A1\n",
    "\n",
    "# Incrementing number of intersections if value greater than or equal to 2\n",
    "for intersection in intersections:\n",
    "    if intersection >= 2:\n",
    "        num_intersections += 1"
   ]
  },
  {
   "cell_type": "code",
   "execution_count": 19,
   "metadata": {},
   "outputs": [
    {
     "name": "stdout",
     "output_type": "stream",
     "text": [
      "The total number of intersections: 20271\n"
     ]
    }
   ],
   "source": [
    "# Printing the final result\n",
    "print(f'The total number of intersections: {num_intersections}')"
   ]
  },
  {
   "cell_type": "code",
   "execution_count": null,
   "metadata": {},
   "outputs": [],
   "source": []
  }
 ],
 "metadata": {
  "kernelspec": {
   "display_name": "Python 3",
   "language": "python",
   "name": "python3"
  },
  "language_info": {
   "codemirror_mode": {
    "name": "ipython",
    "version": 3
   },
   "file_extension": ".py",
   "mimetype": "text/x-python",
   "name": "python",
   "nbconvert_exporter": "python",
   "pygments_lexer": "ipython3",
   "version": "3.6.6+"
  }
 },
 "nbformat": 4,
 "nbformat_minor": 2
}
