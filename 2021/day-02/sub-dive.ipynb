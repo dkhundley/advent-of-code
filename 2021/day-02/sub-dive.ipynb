{
 "cells": [
  {
   "cell_type": "markdown",
   "metadata": {},
   "source": [
    "# Day 2: Submarine Dive!\n",
    "Moving on to day 2 of the 2021 Advent of Code! ([Link](https://adventofcode.com/2021/day/2))"
   ]
  },
  {
   "cell_type": "markdown",
   "metadata": {},
   "source": [
    "## Part 1"
   ]
  },
  {
   "cell_type": "code",
   "execution_count": 4,
   "metadata": {},
   "outputs": [],
   "source": [
    "# Loading in the input set\n",
    "with open('aoc-day2.txt') as f:\n",
    "    dive_cmds = f.read().splitlines()"
   ]
  },
  {
   "cell_type": "code",
   "execution_count": 7,
   "metadata": {},
   "outputs": [],
   "source": [
    "# Initializing horizontal and vertical steps\n",
    "horizontal_steps = 0\n",
    "vertical_steps = 0"
   ]
  },
  {
   "cell_type": "code",
   "execution_count": 13,
   "metadata": {},
   "outputs": [],
   "source": [
    "# Iterating through the dive commands to determine submarine location\n",
    "for i in dive_cmds:\n",
    "    # Splitting the direction from the units\n",
    "    direction = i.split()[0]\n",
    "    units = int(i.split()[1])\n",
    "    \n",
    "    # Incrementing units appropriately per the direction\n",
    "    if direction == 'forward':\n",
    "        horizontal_steps += units\n",
    "    elif direction == 'down':\n",
    "        vertical_steps += units\n",
    "    elif direction == 'up':\n",
    "        vertical_steps -= units"
   ]
  },
  {
   "cell_type": "code",
   "execution_count": 14,
   "metadata": {},
   "outputs": [
    {
     "name": "stdout",
     "output_type": "stream",
     "text": [
      "Horizontal units: 1817\n",
      "Vertical units: 1072\n",
      "Final solution: 1947824\n"
     ]
    }
   ],
   "source": [
    "# Printing the final results\n",
    "print(f'Horizontal units: {horizontal_steps}')\n",
    "print(f'Vertical units: {vertical_steps}')\n",
    "print(f'Final solution: {horizontal_steps * vertical_steps}')"
   ]
  },
  {
   "cell_type": "markdown",
   "metadata": {},
   "source": [
    "## Part 2"
   ]
  },
  {
   "cell_type": "code",
   "execution_count": 15,
   "metadata": {},
   "outputs": [],
   "source": [
    "# Loading in the input set\n",
    "with open('aoc-day2.txt') as f:\n",
    "    dive_cmds = f.read().splitlines()"
   ]
  },
  {
   "cell_type": "code",
   "execution_count": 16,
   "metadata": {},
   "outputs": [],
   "source": [
    "# Initializing horizontal steps, vertical steps, and aim\n",
    "horizontal_steps = 0\n",
    "vertical_steps = 0\n",
    "total_aim = 0"
   ]
  },
  {
   "cell_type": "code",
   "execution_count": 17,
   "metadata": {},
   "outputs": [],
   "source": [
    "# Iterating through the dive commands to determine submarine location\n",
    "for i in dive_cmds:\n",
    "    # Splitting the direction from the units\n",
    "    direction = i.split()[0]\n",
    "    units = int(i.split()[1])\n",
    "    \n",
    "    # Incrementing units appropriately per the direction\n",
    "    if direction == 'forward':\n",
    "        horizontal_steps += units\n",
    "        vertical_steps += total_aim * units\n",
    "    elif direction == 'down':\n",
    "        total_aim += units\n",
    "    elif direction == 'up':\n",
    "        total_aim -= units"
   ]
  },
  {
   "cell_type": "code",
   "execution_count": 21,
   "metadata": {},
   "outputs": [
    {
     "name": "stdout",
     "output_type": "stream",
     "text": [
      "Horizontal units: 1817\n",
      "Vertical units: 997833\n",
      "Final aim: 1072\n",
      "Final solution: 1813062561\n"
     ]
    }
   ],
   "source": [
    "# Printing the final results\n",
    "print(f'Horizontal units: {horizontal_steps}')\n",
    "print(f'Vertical units: {vertical_steps}')\n",
    "print(f'Final aim: {total_aim}')\n",
    "print(f'Final solution: {horizontal_steps * vertical_steps}')"
   ]
  }
 ],
 "metadata": {
  "kernelspec": {
   "display_name": "Python 3",
   "language": "python",
   "name": "python3"
  },
  "language_info": {
   "codemirror_mode": {
    "name": "ipython",
    "version": 3
   },
   "file_extension": ".py",
   "mimetype": "text/x-python",
   "name": "python",
   "nbconvert_exporter": "python",
   "pygments_lexer": "ipython3",
   "version": "3.6.6+"
  }
 },
 "nbformat": 4,
 "nbformat_minor": 2
}
