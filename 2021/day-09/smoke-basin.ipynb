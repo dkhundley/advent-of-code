{
 "cells": [
  {
   "cell_type": "markdown",
   "metadata": {},
   "source": [
    "# Day 9: Smoke Basin\n",
    "Is it a sign? Nope, it's Advent of Code Day 9! ([Link](https://adventofcode.com/2021/day/9))"
   ]
  },
  {
   "cell_type": "markdown",
   "metadata": {},
   "source": [
    "## Part 1"
   ]
  },
  {
   "cell_type": "code",
   "execution_count": 1,
   "metadata": {},
   "outputs": [],
   "source": [
    "# Loading in the \"height map\" of the lava tubes\n",
    "with open('aoc-day9.txt') as f:\n",
    "    lava_tubes = f.readlines()"
   ]
  },
  {
   "cell_type": "code",
   "execution_count": 2,
   "metadata": {},
   "outputs": [],
   "source": [
    "# Cleaning up the data by removing newline characters\n",
    "lava_tubes = [tube_row.replace('\\n', '') for tube_row in lava_tubes]"
   ]
  },
  {
   "cell_type": "code",
   "execution_count": 3,
   "metadata": {},
   "outputs": [],
   "source": [
    "# Instantiating a counter to note the number of lowpoints\n",
    "lowpoints = 0"
   ]
  },
  {
   "cell_type": "code",
   "execution_count": 4,
   "metadata": {},
   "outputs": [],
   "source": [
    "# Iterating through the tube rows in the lava tubes\n",
    "for tube_row in range(len(lava_tubes)):\n",
    "        \n",
    "    # Iterating through the  tubes in each tube row\n",
    "    for tube in range(len(lava_tubes[tube_row])):\n",
    "        \n",
    "        # Setting the value of the current tube\n",
    "        current_tube = int(lava_tubes[tube_row][tube])\n",
    "        \n",
    "        # Getting the index positions of the adjacent tubes\n",
    "        upper_tube = [(tube_row - 1), tube]\n",
    "        lower_tube = [(tube_row + 1), tube]\n",
    "        left_tube = [tube_row, (tube - 1)]\n",
    "        right_tube = [tube_row, (tube + 1)]\n",
    "        \n",
    "        # Collecting adjacent tube positions into single list\n",
    "        adjacent_tubes = [upper_tube, lower_tube, left_tube, right_tube]\n",
    "        \n",
    "        # Creating an empty list to get the adjacent values\n",
    "        adjacent_vals = []\n",
    "        \n",
    "        # Ensuring the adjacent tube position is within bounds\n",
    "        for tube in adjacent_tubes:\n",
    "            \n",
    "            # Appending adjacent value if found to be within bounds\n",
    "            if (0 <= tube[0] < len(lava_tubes)) and (0 <= tube[1] < len(lava_tubes[tube_row])):\n",
    "                adjacent_vals.append(int(lava_tubes[tube[0]][tube[1]]))\n",
    "            \n",
    "        # Adding current tube to lowpoint sum if indeed found to be a lowpoint\n",
    "        if current_tube < min(adjacent_vals):\n",
    "            lowpoints += current_tube + 1"
   ]
  },
  {
   "cell_type": "code",
   "execution_count": 5,
   "metadata": {},
   "outputs": [
    {
     "name": "stdout",
     "output_type": "stream",
     "text": [
      "Sum of the lowpoints in the height map: 458\n"
     ]
    }
   ],
   "source": [
    "# Printing the final result\n",
    "print(f'Sum of the lowpoints in the height map: {lowpoints}')"
   ]
  },
  {
   "cell_type": "markdown",
   "metadata": {},
   "source": [
    "## Part 2"
   ]
  },
  {
   "cell_type": "code",
   "execution_count": 6,
   "metadata": {},
   "outputs": [],
   "source": [
    "# Loading in the \"height map\" of the lava tubes\n",
    "with open('aoc-day9.txt') as f:\n",
    "    lava_tubes = f.readlines()\n",
    "    \n",
    "# Cleaning up the data by removing newline characters\n",
    "lava_tubes = [tube_row.replace('\\n', '') for tube_row in lava_tubes]"
   ]
  },
  {
   "cell_type": "code",
   "execution_count": 7,
   "metadata": {},
   "outputs": [],
   "source": [
    "# Creating a helper function to recursively check for tubes in a basin\n",
    "def get_basin_size(x, y):\n",
    "    \n",
    "    # Setting the coords as a list\n",
    "    coords = [x, y]\n",
    "    \n",
    "    # Returning a zero value if the index is out of bound\n",
    "    if not (0 <= x < 100 and 0 <= y < 100):\n",
    "        return 0\n",
    "    \n",
    "    # Returning a zero value if coordinates already seen\n",
    "    if already_analyzed[x][y]:\n",
    "        return 0\n",
    "    \n",
    "    # Adding tube to already_analyzed list\n",
    "    already_analyzed[x][y] = True\n",
    "        \n",
    "    # Returning a 0 value if the tube value is 9\n",
    "    if lava_tubes[x][y] == '9':\n",
    "        return 0\n",
    "        \n",
    "    # Instantiating the basin size\n",
    "    basin_size = 1\n",
    "    \n",
    "    # Getting the index positions of the adjacent tubes\n",
    "    upper_tube = [(x - 1), y]\n",
    "    lower_tube = [(x + 1), y]\n",
    "    left_tube = [x, (y - 1)]\n",
    "    right_tube = [x, (y + 1)]\n",
    "    \n",
    "    # Collecting adjacent tube positions into single list\n",
    "    adjacent_tubes = [upper_tube, lower_tube, left_tube, right_tube]\n",
    "    \n",
    "    # Recursively checking additional tubes if within bounds\n",
    "    for tube in adjacent_tubes:\n",
    "        if (0 <= tube[0] < 100 and 0 <= tube[1] < 100):\n",
    "            basin_size += get_basin_size(tube[0], tube[1])\n",
    "            \n",
    "    return basin_size"
   ]
  },
  {
   "cell_type": "code",
   "execution_count": 8,
   "metadata": {},
   "outputs": [],
   "source": [
    "# Creating a matrix of boolean values to note whether or not a tube had already been analyzed\n",
    "already_analyzed = [[False] * len(lava_tubes) for _ in range(len(lava_tubes))]"
   ]
  },
  {
   "cell_type": "code",
   "execution_count": 9,
   "metadata": {},
   "outputs": [],
   "source": [
    "# Instantiating a container to hold all basin sizes\n",
    "basin_sizes = []\n",
    "\n",
    "# Iterating through all the lava tube rows\n",
    "for tube_row in range(len(lava_tubes)):\n",
    "    \n",
    "    # Iterating through all the tubes in each tube row\n",
    "    for tube in range(len(lava_tubes[tube_row])):\n",
    "        \n",
    "        # Appending basin sizes recursively gained with function below\n",
    "        basin_sizes.append(get_basin_size(tube_row, tube))"
   ]
  },
  {
   "cell_type": "code",
   "execution_count": 10,
   "metadata": {},
   "outputs": [],
   "source": [
    "# Getting the largest basins\n",
    "largest_basins = sorted(basin_sizes)[-3:]"
   ]
  },
  {
   "cell_type": "code",
   "execution_count": 11,
   "metadata": {},
   "outputs": [],
   "source": [
    "# Getting the product of the largest basins\n",
    "final_product = 1\n",
    "for basin in largest_basins:\n",
    "    final_product *= basin"
   ]
  },
  {
   "cell_type": "code",
   "execution_count": 12,
   "metadata": {},
   "outputs": [
    {
     "name": "stdout",
     "output_type": "stream",
     "text": [
      "Final product of the largest 3 basins: 1391940\n"
     ]
    }
   ],
   "source": [
    "# Printing the final result\n",
    "print(f'Final product of the largest 3 basins: {final_product}')"
   ]
  },
  {
   "cell_type": "code",
   "execution_count": null,
   "metadata": {},
   "outputs": [],
   "source": []
  }
 ],
 "metadata": {
  "kernelspec": {
   "display_name": "Python 3",
   "language": "python",
   "name": "python3"
  },
  "language_info": {
   "codemirror_mode": {
    "name": "ipython",
    "version": 3
   },
   "file_extension": ".py",
   "mimetype": "text/x-python",
   "name": "python",
   "nbconvert_exporter": "python",
   "pygments_lexer": "ipython3",
   "version": "3.8.8"
  }
 },
 "nbformat": 4,
 "nbformat_minor": 2
}
