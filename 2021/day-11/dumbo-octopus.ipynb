{
 "cells": [
  {
   "cell_type": "markdown",
   "metadata": {},
   "source": [
    "# Day 11: Dumbo Octopus\n",
    "Oh thank heaven! It's Advent of Code Day 11! ([Link](https://adventofcode.com/2021/day/11))"
   ]
  },
  {
   "cell_type": "markdown",
   "metadata": {},
   "source": [
    "## Part 1"
   ]
  },
  {
   "cell_type": "code",
   "execution_count": 1,
   "metadata": {},
   "outputs": [],
   "source": [
    "# Loading in flashing octopi from input file\n",
    "with open('aoc-day11.txt') as f:\n",
    "    flashing_octopi = f.readlines()"
   ]
  },
  {
   "cell_type": "code",
   "execution_count": 2,
   "metadata": {},
   "outputs": [],
   "source": [
    "# Cleaning up data appropriately\n",
    "flashing_octopi = [list(map(int, octopi.replace('\\n', '')))for octopi in flashing_octopi]"
   ]
  },
  {
   "cell_type": "code",
   "execution_count": 3,
   "metadata": {},
   "outputs": [],
   "source": [
    "# Creating a function to check whether or not value is in bounds\n",
    "def is_in_bounds(coord):\n",
    "    \n",
    "    # Extracting the respective values\n",
    "    x = coord[0]\n",
    "    y = coord[1]\n",
    "    \n",
    "    # Returning true if coordinate is in bounds\n",
    "    if (0 <= x <= 9) and (0 <= y <= 9):\n",
    "        return True\n",
    "    \n",
    "    # Returning False if coordinate is out of bounds\n",
    "    else:\n",
    "        return False"
   ]
  },
  {
   "cell_type": "code",
   "execution_count": 4,
   "metadata": {},
   "outputs": [],
   "source": [
    "# Creating a function to check adjacent values\n",
    "def flash_that_octopus(x, y):\n",
    "    \n",
    "    # Incrementing total flash count\n",
    "    global total_flashes\n",
    "    total_flashes += 1\n",
    "\n",
    "    # Setting value of octopus to -1\n",
    "    flashing_octopi[x][y] = -1\n",
    "            \n",
    "    # Iterating through all adjacent values\n",
    "    for diff_x in [-1, 0, 1]:\n",
    "        for diff_y in [-1, 0, 1]:\n",
    "            \n",
    "            # Setting the new x and y values\n",
    "            new_x = x + diff_x\n",
    "            new_y = y + diff_y\n",
    "            coords = [new_x, new_y]\n",
    "            \n",
    "            # Checking to see if adjacent value is in bounds and has already been checked\n",
    "            if (is_in_bounds(coords)) and (flashing_octopi[new_x][new_y] != -1):\n",
    "                \n",
    "                # Incrementing adjacent octopus\n",
    "                flashing_octopi[new_x][new_y] += 1\n",
    "                \n",
    "                # Checking to see if octopus is ready to flash with recursion\n",
    "                if flashing_octopi[new_x][new_y] >= 10:\n",
    "                    flash_that_octopus(new_x, new_y)"
   ]
  },
  {
   "cell_type": "code",
   "execution_count": 5,
   "metadata": {},
   "outputs": [],
   "source": [
    "# Creating a variable to hold total number of flashes\n",
    "total_flashes = 0\n",
    "\n",
    "# Iterating through octopi for 100 steps\n",
    "for step in range(100):\n",
    "    \n",
    "    # Iterating through each octopi row to increment all octopi count\n",
    "    for x in range(len(flashing_octopi)):\n",
    "        for y in range(len(flashing_octopi[x])):\n",
    "            flashing_octopi[x][y] += 1\n",
    "    \n",
    "    # Iterating through octopi again to check if ready to flash\n",
    "    for x in range(len(flashing_octopi)):\n",
    "        for y in range(len(flashing_octopi[x])):\n",
    "\n",
    "            # Handling octopi that are ready to flash\n",
    "            if flashing_octopi[x][y] == 10:\n",
    "\n",
    "                # Passing current coordinate values into helper function\n",
    "                flash_that_octopus(x, y)\n",
    "                \n",
    "    # Iterating through octopi one last time to set -1 values back to 0\n",
    "    for x in range(len(flashing_octopi)):\n",
    "        for y in range(len(flashing_octopi[x])):\n",
    "            if flashing_octopi[x][y] == -1:\n",
    "                flashing_octopi[x][y] = 0"
   ]
  },
  {
   "cell_type": "code",
   "execution_count": 6,
   "metadata": {},
   "outputs": [
    {
     "name": "stdout",
     "output_type": "stream",
     "text": [
      "Total number of flashes: 1793\n"
     ]
    }
   ],
   "source": [
    "# Printing the final result\n",
    "print(f'Total number of flashes: {total_flashes}')"
   ]
  },
  {
   "cell_type": "markdown",
   "metadata": {},
   "source": [
    "## Part 2"
   ]
  },
  {
   "cell_type": "code",
   "execution_count": 7,
   "metadata": {},
   "outputs": [],
   "source": [
    "# Loading in flashing octopi from input file\n",
    "with open('aoc-day11.txt') as f:\n",
    "    flashing_octopi = f.readlines()\n",
    "    \n",
    "# Cleaning up data appropriately\n",
    "flashing_octopi = [list(map(int, octopi.replace('\\n', '')))for octopi in flashing_octopi]\n",
    "\n",
    "# Creating a function to check whether or not value is in bounds\n",
    "def is_in_bounds(coord):\n",
    "    \n",
    "    # Extracting the respective values\n",
    "    x = coord[0]\n",
    "    y = coord[1]\n",
    "    \n",
    "    # Returning true if coordinate is in bounds\n",
    "    if (0 <= x <= 9) and (0 <= y <= 9):\n",
    "        return True\n",
    "    \n",
    "    # Returning False if coordinate is out of bounds\n",
    "    else:\n",
    "        return False\n",
    "    \n",
    "# Creating a function to check adjacent values\n",
    "def flash_that_octopus(x, y):\n",
    "    \n",
    "    # Incrementing total flash count\n",
    "    global total_flashes\n",
    "    total_flashes += 1\n",
    "\n",
    "    # Setting value of octopus to -1\n",
    "    flashing_octopi[x][y] = -1\n",
    "            \n",
    "    # Iterating through all adjacent values\n",
    "    for diff_x in [-1, 0, 1]:\n",
    "        for diff_y in [-1, 0, 1]:\n",
    "            \n",
    "            # Setting the new x and y values\n",
    "            new_x = x + diff_x\n",
    "            new_y = y + diff_y\n",
    "            coords = [new_x, new_y]\n",
    "            \n",
    "            # Checking to see if adjacent value is in bounds and has already been checked\n",
    "            if (is_in_bounds(coords)) and (flashing_octopi[new_x][new_y] != -1):\n",
    "                \n",
    "                # Incrementing adjacent octopus\n",
    "                flashing_octopi[new_x][new_y] += 1\n",
    "                \n",
    "                # Checking to see if octopus is ready to flash with recursion\n",
    "                if flashing_octopi[new_x][new_y] >= 10:\n",
    "                    flash_that_octopus(new_x, new_y)"
   ]
  },
  {
   "cell_type": "code",
   "execution_count": 8,
   "metadata": {},
   "outputs": [],
   "source": [
    "# Instantiating a counter for number of rounds\n",
    "rounds = 0\n",
    "\n",
    "# Continuing to iterate through octopi until all are syncronized\n",
    "while True:\n",
    "    \n",
    "    # Incrementing the round number\n",
    "    rounds += 1\n",
    "    \n",
    "    # Creating a boolean value to note if synchronization is ready\n",
    "    sync_ready = True\n",
    "    \n",
    "    # Iterating through each octopi row to increment all octopi count\n",
    "    for x in range(len(flashing_octopi)):\n",
    "        for y in range(len(flashing_octopi[x])):\n",
    "            flashing_octopi[x][y] += 1\n",
    "    \n",
    "    # Iterating through octopi again to check if ready to flash\n",
    "    for x in range(len(flashing_octopi)):\n",
    "        for y in range(len(flashing_octopi[x])):\n",
    "\n",
    "            # Handling octopi that are ready to flash\n",
    "            if flashing_octopi[x][y] == 10:\n",
    "\n",
    "                # Passing current coordinate values into helper function\n",
    "                flash_that_octopus(x, y)\n",
    "                \n",
    "    # Iterating through octopi one last time to set -1 values back to 0\n",
    "    for x in range(len(flashing_octopi)):\n",
    "        for y in range(len(flashing_octopi[x])):\n",
    "            if flashing_octopi[x][y] == -1:\n",
    "                flashing_octopi[x][y] = 0\n",
    "            else:\n",
    "                sync_ready = False\n",
    "                \n",
    "    # Breaking loop when sync is ready\n",
    "    if sync_ready:\n",
    "        break"
   ]
  },
  {
   "cell_type": "code",
   "execution_count": 9,
   "metadata": {},
   "outputs": [
    {
     "name": "stdout",
     "output_type": "stream",
     "text": [
      "Number of rounds: 247\n"
     ]
    }
   ],
   "source": [
    "# Printing the final result\n",
    "print(f'Number of rounds: {rounds}')"
   ]
  },
  {
   "cell_type": "code",
   "execution_count": null,
   "metadata": {},
   "outputs": [],
   "source": []
  }
 ],
 "metadata": {
  "kernelspec": {
   "display_name": "Python 3",
   "language": "python",
   "name": "python3"
  },
  "language_info": {
   "codemirror_mode": {
    "name": "ipython",
    "version": 3
   },
   "file_extension": ".py",
   "mimetype": "text/x-python",
   "name": "python",
   "nbconvert_exporter": "python",
   "pygments_lexer": "ipython3",
   "version": "3.8.8"
  }
 },
 "nbformat": 4,
 "nbformat_minor": 2
}
