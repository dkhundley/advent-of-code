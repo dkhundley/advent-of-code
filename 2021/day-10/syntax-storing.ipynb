{
 "cells": [
  {
   "cell_type": "markdown",
   "metadata": {},
   "source": [
    "# Day 10: Syntax Scoring\n",
    "Is it the three wise men? Nope, it's Advent of Code - Day 10! ([Link](https://adventofcode.com/2021/day/10))"
   ]
  },
  {
   "cell_type": "markdown",
   "metadata": {},
   "source": [
    "## Part 1"
   ]
  },
  {
   "cell_type": "code",
   "execution_count": 1,
   "metadata": {},
   "outputs": [],
   "source": [
    "# Loading in the syntax inputs from the text file\n",
    "with open('aoc-day10.txt') as f:\n",
    "    syntax_chars = f.readlines()"
   ]
  },
  {
   "cell_type": "code",
   "execution_count": 2,
   "metadata": {},
   "outputs": [],
   "source": [
    "# Removing newline characters\n",
    "syntax_chars = [charline.replace('\\n', '') for charline in syntax_chars]"
   ]
  },
  {
   "cell_type": "code",
   "execution_count": 3,
   "metadata": {},
   "outputs": [],
   "source": [
    "# Creating a dictionary for truth values\n",
    "truth_vals = { '>': '<', '}': '{', ']': '[', ')': '(' }\n",
    "\n",
    "# Creating a list of closing characeters\n",
    "closing_chars = list(truth_vals.keys())\n",
    "\n",
    "# Creating a list of opening characters\n",
    "opening_chars = list(truth_vals.values())\n",
    "\n",
    "# Creating a dictionary to note the points of each illegal operation\n",
    "point_dict = { ')': 3, ']': 57, '}': 1197, '>': 25137 }"
   ]
  },
  {
   "cell_type": "code",
   "execution_count": 4,
   "metadata": {},
   "outputs": [],
   "source": [
    "# Instantiating a variable to hold the score\n",
    "score = 0\n",
    "\n",
    "# Iterating through all lines in syntax_cars\n",
    "for charline in syntax_chars:\n",
    "    \n",
    "    # Instantiating a container to hold any opening characters\n",
    "    remaining_openers = []\n",
    "    \n",
    "    # Iterating through all characters in each line\n",
    "    for char in charline:\n",
    "        \n",
    "        # Appending openers to opening_chars list\n",
    "        if char in opening_chars:\n",
    "            remaining_openers.append(char)\n",
    "            \n",
    "        # Checking to see if closer matches the first remaining opener\n",
    "        else:\n",
    "            closer = char\n",
    "            opener = remaining_openers.pop()\n",
    "            \n",
    "            # Incrementing score appropriately and breaking inner loop\n",
    "            if opener != truth_vals[closer]:\n",
    "                score += point_dict[closer]\n",
    "                break"
   ]
  },
  {
   "cell_type": "code",
   "execution_count": 5,
   "metadata": {},
   "outputs": [
    {
     "name": "stdout",
     "output_type": "stream",
     "text": [
      "Final score: 316851\n"
     ]
    }
   ],
   "source": [
    "# Printing the final score\n",
    "print(f'Final score: {score}')"
   ]
  },
  {
   "cell_type": "markdown",
   "metadata": {},
   "source": [
    "## Part 2"
   ]
  },
  {
   "cell_type": "code",
   "execution_count": 6,
   "metadata": {},
   "outputs": [],
   "source": [
    "# Loading in the syntax inputs from the text file\n",
    "with open('aoc-day10.txt') as f:\n",
    "    syntax_chars = f.readlines()\n",
    "    \n",
    "# Removing newline characters\n",
    "syntax_chars = [charline.replace('\\n', '') for charline in syntax_chars]\n",
    "\n",
    "# Creating a dictionary for truth values\n",
    "truth_vals = { '>': '<', '}': '{', ']': '[', ')': '(' }\n",
    "\n",
    "# Creating a list of closing characeters\n",
    "closing_chars = list(truth_vals.keys())\n",
    "\n",
    "# Creating a list of opening characters\n",
    "opening_chars = list(truth_vals.values())\n",
    "\n",
    "# Creating a dictionary to note the points of each illegal operation\n",
    "point_dict = { ')': 3, ']': 57, '}': 1197, '>': 25137 }\n",
    "\n",
    "# Creating a second dictionary to note the point values of closers that will need added\n",
    "point_dict2 = { '(': 1, '[': 2, '{': 3, '<': 4 }"
   ]
  },
  {
   "cell_type": "code",
   "execution_count": 7,
   "metadata": {},
   "outputs": [],
   "source": [
    "# Instantiating a variable to hold the score\n",
    "score = 0\n",
    "\n",
    "# Instantiating a container to hold scores for part 2\n",
    "part2_scores = []\n",
    "\n",
    "# Iterating through all lines in syntax_cars\n",
    "for charline in syntax_chars:\n",
    "    \n",
    "    # Instantiating a variable to hold the score for part 2\n",
    "    part2_score = 0\n",
    "    \n",
    "    # Instantiating a container to hold any opening characters\n",
    "    remaining_openers = []\n",
    "    \n",
    "    # Iterating through all characters in each line\n",
    "    for char in charline:\n",
    "        \n",
    "        # Appending openers to opening_chars list\n",
    "        if char in opening_chars:\n",
    "            remaining_openers.append(char)\n",
    "            \n",
    "        # Checking to see if closer matches the first remaining opener\n",
    "        else:\n",
    "            closer = char\n",
    "            opener = remaining_openers.pop()\n",
    "            \n",
    "            # Incrementing score appropriately and breaking inner loop\n",
    "            if opener != truth_vals[closer]:\n",
    "                score += point_dict[closer]\n",
    "                break\n",
    "    \n",
    "    # Continuing to iterate through remaining opening characters\n",
    "    else:\n",
    "        while len(remaining_openers):\n",
    "            # Multiplying score times 5 per instructions\n",
    "            part2_score *= 5\n",
    "            \n",
    "            # Adding the score per the closer value\n",
    "            part2_score += point_dict2[remaining_openers.pop()]\n",
    "        \n",
    "        # Appending scores to list of scores\n",
    "        part2_scores.append(part2_score)"
   ]
  },
  {
   "cell_type": "code",
   "execution_count": 8,
   "metadata": {},
   "outputs": [],
   "source": [
    "# Getting the median value as the final score\n",
    "part2_scores = sorted(part2_scores)\n",
    "median_val = part2_scores[(len(part2_scores) // 2)]"
   ]
  },
  {
   "cell_type": "code",
   "execution_count": 9,
   "metadata": {},
   "outputs": [
    {
     "name": "stdout",
     "output_type": "stream",
     "text": [
      "Final score for part 2: 2182912364\n"
     ]
    }
   ],
   "source": [
    "# Printing the final score for part 2\n",
    "print(f'Final score for part 2: {median_val}')"
   ]
  },
  {
   "cell_type": "code",
   "execution_count": null,
   "metadata": {},
   "outputs": [],
   "source": []
  }
 ],
 "metadata": {
  "kernelspec": {
   "display_name": "Python 3",
   "language": "python",
   "name": "python3"
  },
  "language_info": {
   "codemirror_mode": {
    "name": "ipython",
    "version": 3
   },
   "file_extension": ".py",
   "mimetype": "text/x-python",
   "name": "python",
   "nbconvert_exporter": "python",
   "pygments_lexer": "ipython3",
   "version": "3.6.6+"
  }
 },
 "nbformat": 4,
 "nbformat_minor": 2
}
