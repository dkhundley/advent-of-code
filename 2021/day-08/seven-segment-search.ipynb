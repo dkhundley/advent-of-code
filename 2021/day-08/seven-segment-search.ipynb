{
 "cells": [
  {
   "cell_type": "markdown",
   "id": "0fc88c12",
   "metadata": {},
   "source": [
    "# Day 8: Seven Segment Search!\n",
    "What's that coming out the gate? It's advent of code day 8! ([Link](https://adventofcode.com/2021/day/8))"
   ]
  },
  {
   "cell_type": "markdown",
   "id": "d92c7c93",
   "metadata": {},
   "source": [
    "## Part 1"
   ]
  },
  {
   "cell_type": "code",
   "execution_count": 1,
   "id": "3b1bdd96",
   "metadata": {},
   "outputs": [],
   "source": [
    "# Loading the jumbled signals from the input file\n",
    "with open('aoc-day8.txt') as f:\n",
    "    signals = f.readlines()"
   ]
  },
  {
   "cell_type": "code",
   "execution_count": 2,
   "id": "0c9182db",
   "metadata": {},
   "outputs": [],
   "source": [
    "# Parsing out only the output signals\n",
    "signals = [signal.replace('\\n', '').split(' | ')[1].split() for signal in signals]"
   ]
  },
  {
   "cell_type": "code",
   "execution_count": 3,
   "id": "93893669",
   "metadata": {},
   "outputs": [],
   "source": [
    "# Instantiating a counter to note how many times a 1, 4, 7, or 8 appears\n",
    "counter = 0"
   ]
  },
  {
   "cell_type": "code",
   "execution_count": 4,
   "id": "dbc2c708",
   "metadata": {},
   "outputs": [],
   "source": [
    "# Iterating through all the signals\n",
    "for signal in signals:\n",
    "    \n",
    "    # Iterating through each entry in each signal\n",
    "    for entry in signal:\n",
    "        \n",
    "        # Noting the length of the entry\n",
    "        entry_length = len(entry)\n",
    "        \n",
    "        # Incrementing counter if length of entry corresponds to a 1, 4, 7, or 8\n",
    "        if (entry_length == 2) or (entry_length == 4) or (entry_length == 3) or (entry_length == 7):\n",
    "            counter += 1"
   ]
  },
  {
   "cell_type": "code",
   "execution_count": 5,
   "id": "0c803919",
   "metadata": {},
   "outputs": [
    {
     "name": "stdout",
     "output_type": "stream",
     "text": [
      "Total number of 1s, 4s, 7s, and 8s: 397\n"
     ]
    }
   ],
   "source": [
    "# Printing final result\n",
    "print(f'Total number of 1s, 4s, 7s, and 8s: {counter}')"
   ]
  },
  {
   "cell_type": "markdown",
   "id": "70869af9",
   "metadata": {},
   "source": [
    "## Part 2"
   ]
  },
  {
   "cell_type": "code",
   "execution_count": 6,
   "id": "4068c405",
   "metadata": {},
   "outputs": [],
   "source": [
    "# Loading the jumbled signals from the input file\n",
    "with open('aoc-day8.txt') as f:\n",
    "    signals = f.readlines()"
   ]
  },
  {
   "cell_type": "code",
   "execution_count": 7,
   "id": "6946e2e5",
   "metadata": {},
   "outputs": [],
   "source": [
    "# Parsing the signals appropriately\n",
    "signals = [signal.replace('\\n', '').split(' | ') for signal in signals]"
   ]
  },
  {
   "cell_type": "code",
   "execution_count": 8,
   "id": "00c7e2a6",
   "metadata": {},
   "outputs": [],
   "source": [
    "# Instantiating a placeholder for the final sum\n",
    "final_sum = 0"
   ]
  },
  {
   "cell_type": "code",
   "execution_count": 9,
   "id": "01c989fd",
   "metadata": {},
   "outputs": [],
   "source": [
    "# Iterating through all signals\n",
    "for signal in signals:\n",
    "    \n",
    "    # Splitting the input and output digits\n",
    "    input_digits = signal[0].split()\n",
    "    output_digits = signal[1].split()\n",
    "    \n",
    "    # Creating a decoder dictionary to note how each number properly corresponds to the code\n",
    "    decoder_dict = {0: '', 1: '', 2: '', 3: '', 4: '', 5: '', 6: '', 7: '', 8: '', 9: ''}\n",
    "    \n",
    "    # Creating a display dictionary to denote which character value aligns to the proper segment\n",
    "    display_dict = {'top': '', 'top-left': '', 'top-right': '', 'middle': '', 'bottom-left': '', 'bottom-right': '', 'bottom': ''}\n",
    "    \n",
    "    # Creating a container for digits that aren't obvious from Part 1\n",
    "    remaining_digits = []\n",
    "    \n",
    "    # Getting all digits that are obvious from Part 1\n",
    "    for digit in input_digits:\n",
    "        # Marking any digit that corresponds to the number 1\n",
    "        if len(digit) == 2:\n",
    "            decoder_dict[1] = digit\n",
    "\n",
    "        # Marking any digit that corresponds to the number 4\n",
    "        elif len(digit) == 4:\n",
    "            decoder_dict[4] = digit\n",
    "\n",
    "        # Marking any digit that corresponds to the number 7\n",
    "        elif len(digit) == 3:\n",
    "            decoder_dict[7] = digit\n",
    "\n",
    "        # Marking any digit that corresponds to the number 8\n",
    "        elif len(digit) == 7:\n",
    "            decoder_dict[8] = digit\n",
    "\n",
    "        # Saving off remaining digits\n",
    "        else:\n",
    "            remaining_digits.append(digit)\n",
    "            \n",
    "    # Getting what we know to be the top value of the number display by analyzing the differences between numbers 1 and 7\n",
    "    display_dict['top'] = set(decoder_dict[7]).symmetric_difference(set(decoder_dict[1])).pop()\n",
    "    \n",
    "    # Locating the number 0 by checking if the remaining digits do not have both segments that aren't also in number 1 from number 4\n",
    "    top_right_and_middle = list(set(decoder_dict[4]).symmetric_difference(set(decoder_dict[1])))\n",
    "\n",
    "    for index_pos in range(len(remaining_digits)):\n",
    "        if len(remaining_digits[index_pos]) == 6:\n",
    "            if (top_right_and_middle[0] not in remaining_digits[index_pos]) or (top_right_and_middle[1] not in remaining_digits[index_pos]):\n",
    "                decoder_dict[0] = remaining_digits[index_pos]\n",
    "                if top_right_and_middle[0] not in remaining_digits[index_pos]:\n",
    "                    display_dict['middle'] = top_right_and_middle[0]\n",
    "                    display_dict['top-left'] = top_right_and_middle[1]\n",
    "                else:\n",
    "                    display_dict['middle'] = top_right_and_middle[1]\n",
    "                    display_dict['top-left'] = top_right_and_middle[0]\n",
    "\n",
    "                # Marking off number in remaining digits list\n",
    "                remaining_digits[index_pos] = 'X'\n",
    "                \n",
    "    # Locating the numbers 6 and 9\n",
    "    for index_pos in range(len(remaining_digits)):\n",
    "\n",
    "        # Skipping over irrelevant numbers\n",
    "        if (remaining_digits[index_pos] == 'X') or (len(remaining_digits[index_pos]) == 5):\n",
    "            continue\n",
    "\n",
    "        # Checking to see if segments for number 1 are present in remaining numbers as that will indicate what is a 6 vs a 9\n",
    "        one_segs = [char for char in decoder_dict[1]]\n",
    "\n",
    "        if (one_segs[0] not in remaining_digits[index_pos]) or (one_segs[1] not in remaining_digits[index_pos]):\n",
    "            decoder_dict[6] = remaining_digits[index_pos]\n",
    "            if one_segs[0] not in remaining_digits[index_pos]:\n",
    "                display_dict['top-right'] = one_segs[0]\n",
    "                display_dict['bottom-right'] = one_segs[1]\n",
    "            else:\n",
    "                display_dict['top-right'] = one_segs[1]\n",
    "                display_dict['bottom-right'] = one_segs[0]\n",
    "        else:\n",
    "            decoder_dict[9] = remaining_digits[index_pos]\n",
    "\n",
    "        # Marking off number in remaining digits list\n",
    "        remaining_digits[index_pos] = 'X'\n",
    "    \n",
    "    # Finding remaining segments by comparing numbers 8 and 9\n",
    "    display_dict['bottom-left'] = set(decoder_dict[8]).symmetric_difference(set(decoder_dict[9])).pop()\n",
    "    display_dict['bottom'] = set(decoder_dict[8]).symmetric_difference(set(''.join(list(display_dict.values())))).pop()\n",
    "    \n",
    "    # Finding the numbers 2, 3, and 5 using the help of line segments\n",
    "    decoder_dict[2] = display_dict['top'] + display_dict['top-right'] + display_dict['middle'] + display_dict['bottom-left'] + display_dict['bottom']\n",
    "    decoder_dict[3] = display_dict['top'] + display_dict['top-right'] + display_dict['middle'] + display_dict['bottom-right'] + display_dict['bottom']\n",
    "    decoder_dict[5] = display_dict['top'] + display_dict['top-left'] + display_dict['middle'] + display_dict['bottom-right'] + display_dict['bottom']\n",
    "    \n",
    "    # Adding decoded values to list\n",
    "    decoded_output = []\n",
    "    for digit in output_digits:\n",
    "        for key, value in decoder_dict.items():\n",
    "            if sorted(digit) == sorted(value):\n",
    "                decoded_output.append(key)\n",
    "                \n",
    "    # Joining values as single number\n",
    "    decoded_output = int(''.join([str(i) for i in decoded_output]))\n",
    "    \n",
    "    # Adding decoded output to the final sum\n",
    "    final_sum += decoded_output"
   ]
  },
  {
   "cell_type": "code",
   "execution_count": 10,
   "id": "78fb2200",
   "metadata": {},
   "outputs": [
    {
     "name": "stdout",
     "output_type": "stream",
     "text": [
      "Sum of the decoded outputs: 1027422\n"
     ]
    }
   ],
   "source": [
    "# Printing the final results\n",
    "print(f'Sum of the decoded outputs: {final_sum}')"
   ]
  }
 ],
 "metadata": {
  "kernelspec": {
   "display_name": "Python 3",
   "language": "python",
   "name": "python3"
  },
  "language_info": {
   "codemirror_mode": {
    "name": "ipython",
    "version": 3
   },
   "file_extension": ".py",
   "mimetype": "text/x-python",
   "name": "python",
   "nbconvert_exporter": "python",
   "pygments_lexer": "ipython3",
   "version": "3.8.8"
  }
 },
 "nbformat": 4,
 "nbformat_minor": 5
}
