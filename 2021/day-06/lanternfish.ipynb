{
 "cells": [
  {
   "cell_type": "markdown",
   "metadata": {},
   "source": [
    "# Day 6: Lanternfish!\n",
    "Need to get your coding fix? It's time for Advent of Code day six! ([Link](https://adventofcode.com/2021/day/6))"
   ]
  },
  {
   "cell_type": "markdown",
   "metadata": {},
   "source": [
    "## Part 1"
   ]
  },
  {
   "cell_type": "code",
   "execution_count": 1,
   "metadata": {},
   "outputs": [],
   "source": [
    "# Loading in the current lanternfish timers\n",
    "with open('aoc-day6.txt') as f:\n",
    "    lanternfish = f.readlines()"
   ]
  },
  {
   "cell_type": "code",
   "execution_count": 2,
   "metadata": {},
   "outputs": [],
   "source": [
    "# Converting input appropriately\n",
    "lanternfish = list(map(int, (lanternfish[0].replace('\\n', '').split(','))))"
   ]
  },
  {
   "cell_type": "code",
   "execution_count": 3,
   "metadata": {},
   "outputs": [],
   "source": [
    "# Iterating through the 80 day lifecycle\n",
    "for day in range(80):\n",
    "    \n",
    "    # Creating a container to hold new fish\n",
    "    new_fish = []\n",
    "    \n",
    "    # Iterating through all existing fish\n",
    "    for index_pos in range(len(lanternfish)):\n",
    "        \n",
    "        # Decrementing the day count if day still remaining\n",
    "        if lanternfish[index_pos] >= 1:\n",
    "            lanternfish[index_pos] -= 1\n",
    "        \n",
    "        # Restarting cycle for current fish and adding new fish if day count hits zero\n",
    "        elif lanternfish[index_pos] == 0:\n",
    "            lanternfish[index_pos] = 6\n",
    "            new_fish.append(8)\n",
    "            \n",
    "    # Joining new fish to current fish\n",
    "    lanternfish += new_fish"
   ]
  },
  {
   "cell_type": "code",
   "execution_count": 4,
   "metadata": {},
   "outputs": [
    {
     "name": "stdout",
     "output_type": "stream",
     "text": [
      "Total number of lanternfish: 362740\n"
     ]
    }
   ],
   "source": [
    "# Printing out the final result\n",
    "print(f'Total number of lanternfish: {len(lanternfish)}')"
   ]
  },
  {
   "cell_type": "markdown",
   "metadata": {},
   "source": [
    "## Part 2\n",
    "NOTE: Due to the computational complexity of this second part of the problem, the solution had to be re-worked entirely for part 2. This part 2 solution should work for part 1 as well, but for posterity's sake, I decided to leave part 2 unaltered.\n",
    "\n",
    "In order to get around the computational complexity, I had to get a hint from the subreddit. Without using anybody's code, the hint is conceptually this: we can analyze groupings of lanternfish all at once instead of individually. This drastically reduces the complexity of the problem above."
   ]
  },
  {
   "cell_type": "code",
   "execution_count": 5,
   "metadata": {},
   "outputs": [],
   "source": [
    "# Loading in the current lanternfish timers\n",
    "with open('aoc-day6.txt') as f:\n",
    "    inputs = f.readlines()"
   ]
  },
  {
   "cell_type": "code",
   "execution_count": 6,
   "metadata": {},
   "outputs": [],
   "source": [
    "# Converting input appropriately\n",
    "inputs = list(map(int, (inputs[0].replace('\\n', '').split(','))))"
   ]
  },
  {
   "cell_type": "code",
   "execution_count": 7,
   "metadata": {},
   "outputs": [],
   "source": [
    "# Creating a list of zeroes that we will increment to get a count of each of kind of fish per day\n",
    "lanternfish = [0] * 9"
   ]
  },
  {
   "cell_type": "code",
   "execution_count": 8,
   "metadata": {},
   "outputs": [],
   "source": [
    "# Getting the counts of fish and incrementing the index position approrpriately\n",
    "for index_pos in inputs:\n",
    "    lanternfish[index_pos] += 1"
   ]
  },
  {
   "cell_type": "code",
   "execution_count": 9,
   "metadata": {},
   "outputs": [],
   "source": [
    "# Iterating through all 256 days\n",
    "for day in range(256):\n",
    "    # Popping the first element value representing fish who are ready to restart their cycle and sliding over the other fish entries, decrementing their day in the process\n",
    "    new_fish = lanternfish.pop(0)\n",
    "    \n",
    "    # Restarting the fish's cycle as part of the seventh index slot representing Day 7\n",
    "    lanternfish[6] += new_fish\n",
    "    \n",
    "    # Also appending new fish value to the end of the array representing new fish starting their cycle on Day 8\n",
    "    lanternfish.append(new_fish)"
   ]
  },
  {
   "cell_type": "code",
   "execution_count": 10,
   "metadata": {},
   "outputs": [
    {
     "name": "stdout",
     "output_type": "stream",
     "text": [
      "Total number of lanternfish: 1644874076764\n"
     ]
    }
   ],
   "source": [
    "# Printing out the final result\n",
    "print(f'Total number of lanternfish: {sum(lanternfish)}')"
   ]
  },
  {
   "cell_type": "code",
   "execution_count": null,
   "metadata": {},
   "outputs": [],
   "source": []
  }
 ],
 "metadata": {
  "kernelspec": {
   "display_name": "Python 3",
   "language": "python",
   "name": "python3"
  },
  "language_info": {
   "codemirror_mode": {
    "name": "ipython",
    "version": 3
   },
   "file_extension": ".py",
   "mimetype": "text/x-python",
   "name": "python",
   "nbconvert_exporter": "python",
   "pygments_lexer": "ipython3",
   "version": "3.6.6+"
  }
 },
 "nbformat": 4,
 "nbformat_minor": 2
}
