{
 "cells": [
  {
   "metadata": {},
   "cell_type": "markdown",
   "source": "# 2024 Day 4: Ceres Search\n\n## Part 1\n\n\n\"Looks like the Chief's not here. Next!\" One of The Historians pulls out a device and pushes the only button on it. After a brief flash, you recognize the interior of the Ceres monitoring station!\n\nAs the search for the Chief continues, a small Elf who lives on the station tugs on your shirt; she'd like to know if you could help her with her word search (your puzzle input). She only has to find one word: XMAS.\n\nThis word search allows words to be horizontal, vertical, diagonal, written backwards, or even overlapping other words. It's a little unusual, though, as you don't merely need to find one instance of XMAS - you need to find all of them. Here are a few ways XMAS might appear, where irrelevant characters have been replaced with .:\n\n```\n..X...\n.SAMX.\n.A..A.\nXMAS.S\n.X....\n```\n\nThe actual word search will be full of letters instead. For example:\n\n```\nMMMSXXMASM\nMSAMXMSMSA\nAMXSXMAAMM\nMSAMASMSMX\nXMASAMXAMM\nXXAMMXXAMA\nSMSMSASXSS\nSAXAMASAAA\nMAMMMXMMMM\nMXMXAXMASX\n```\n\nIn this word search, XMAS occurs a total of 18 times; here's the same word search again, but where letters not involved in any XMAS have been replaced with .:\n\n```\n....XXMAS.\n.SAMXMS...\n...S..A...\n..A.A.MS.X\nXMASAMX.MM\nX.....XA.A\nS.S.S.S.SS\n.A.A.A.A.A\n..M.M.M.MM\n.X.X.XMASX\n```\n\nTake a look at the little Elf's word search. How many times does XMAS appear?"
  },
  {
   "metadata": {
    "trusted": true
   },
   "cell_type": "code",
   "source": "# Loading the word search (puzzle input) from file\nwith open('aoc-2024-day-04.txt') as f:\n    word_search = f.read().splitlines()\n    \n# Setting the sample data\nsample_data = '''MMMSXXMASM\nMSAMXMSMSA\nAMXSXMAAMM\nMSAMASMSMX\nXMASAMXAMM\nXXAMMXXAMA\nSMSMSASXSS\nSAXAMASAAA\nMAMMMXMMMM\nMXMXAXMASX'''.splitlines()\n\n# Overwriting the input for testing  purposes\n# (Note: Comment this line out when teady to use full sample input)\nword_search = sample_data",
   "execution_count": 1,
   "outputs": []
  },
  {
   "metadata": {
    "trusted": true
   },
   "cell_type": "code",
   "source": "def get_word_search_lines(word_search):\n    '''\n    Extracts all line types (rows, columns, up-right diagonals, down-right diagonals) from the word search\n    \n    Inputs:\n        - word_search (list): The word search itself\n        \n    Returns:\n        - all_ws_lines (list): All the various lines from each line type\n    '''\n    # Getting the number of rows and columns\n    rows = len(word_search)\n    cols = len(word_search[0])\n    \n    # Instantating the lists to each word search line type\n    ws_up_right_diagonals = []\n    ws_down_right_diagonals = []\n    \n    # Getting the word search row values\n    ws_rows = word_search.copy()\n    \n    # Getting the word search column values\n    raw_cols = list(map(list, zip(*word_search)))\n    ws_cols = [''.join(line) for line in raw_cols]\n    \n    # Iterating through the rows to get the down-right diagonals\n    for row in range(rows):\n        \n        # Instantiating a list to hold this iteration's diagonal values\n        diagonal = []\n        \n        # Setting positions that will increment per each diagonal value\n        i, j = row, 0\n        \n        # Getting the diagonal values\n        while i < rows and j < cols:\n            diagonal.append(word_search[i][j])\n            i += 1\n            j += 1\n        \n        # Appending the diagonal to down-right diagonals\n        ws_down_right_diagonals.append(''.join(diagonal))\n        \n    # Iterating through the columns to get more down-right diagonals\n    for col in range(1, cols):\n        \n        # Instantiating a list to hold this iteration's diagonal values\n        diagonal = []\n        \n        # Setting positions that will increment per each diagonal value\n        i, j = 0, col\n        \n        # Getting the diagonal values\n        while i < rows and j < cols:\n            diagonal.append(word_search[i][j])\n            i += 1\n            j += 1\n        \n        # Appending the diagonal to down-right diagonals\n        ws_down_right_diagonals.append(''.join(diagonal))\n        \n    # Iterating through the rows to get up-right diagonals\n    for row in range(rows - 1, -1, -1):\n        \n        # Instantiating a list to hold this iteration's diagonal values\n        diagonal = []\n        \n        # Setting positions that will increment per each diagonal value\n        i, j = row, 0\n        \n        # Getting the diagonal values\n        while i >= 0 and j < cols:\n            diagonal.append(word_search[i][j])\n            i -= 1\n            j += 1\n        \n        # Appending the diagonal to up-right diagonals\n        ws_up_right_diagonals.append(''.join(diagonal))\n        \n    # Iterating through the columsn to get more up-right diagonals\n    for col in range(1, cols):\n        \n        # Instantiating a list to hold this iteration's diagonal values\n        diagonal = []\n        \n        # Setting positions that will increment per each diagonal value\n        i, j = rows - 1, col\n        \n        # Getting the diagonal values\n        while i >= 0 and j < cols:\n            diagonal.append(word_search[i][j])\n            i -= 1\n            j += 1\n        # Appending the diagonal to up-right diagonals\n        ws_up_right_diagonals.append(''.join(diagonal))\n        \n    # Joining all the line types together\n    all_ws_lines = ws_rows + ws_cols + ws_up_right_diagonals + ws_down_right_diagonals\n        \n    return all_ws_lines",
   "execution_count": 2,
   "outputs": []
  },
  {
   "metadata": {
    "trusted": true
   },
   "cell_type": "code",
   "source": "# Getting all the line types from the word search\nall_ws_lines = get_word_search_lines(word_search)",
   "execution_count": 3,
   "outputs": []
  },
  {
   "metadata": {
    "trusted": true
   },
   "cell_type": "code",
   "source": "import re\n\n# Instantiating a value to represent the number of times XMAS is found\nnum_xmas = 0\n\n# Iterating over all the word search lines\nfor line in all_ws_lines:\n    \n    # Incrementing the number of XMASs found in the line\n    num_xmas += len(re.findall(r\"(XMAS|SAMX)\", line))\n    \nprint(f'Number of XMASs found: {num_xmas}')",
   "execution_count": 4,
   "outputs": [
    {
     "output_type": "stream",
     "text": "Number of XMASs found: 15\n",
     "name": "stdout"
    }
   ]
  },
  {
   "metadata": {
    "trusted": true
   },
   "cell_type": "code",
   "source": "all_ws_lines",
   "execution_count": 5,
   "outputs": [
    {
     "output_type": "execute_result",
     "execution_count": 5,
     "data": {
      "text/plain": "['MMMSXXMASM',\n 'MSAMXMSMSA',\n 'AMXSXMAAMM',\n 'MSAMASMSMX',\n 'XMASAMXAMM',\n 'XXAMMXXAMA',\n 'SMSMSASXSS',\n 'SAXAMASAAA',\n 'MAMMMXMMMM',\n 'MXMXAXMASX',\n 'MMAMXXSSMM',\n 'MSMSMXMAAX',\n 'MAXAAASXMM',\n 'SMSMSMMAMX',\n 'XXXAAMSMMA',\n 'XMMSMXAAXX',\n 'MSAMXXSSMM',\n 'AMASAAXAMA',\n 'SSMMMMSAMS',\n 'MAMXMASAMX',\n 'MAXMMMMASM',\n 'MASMASAMS',\n 'SMASAMSA',\n 'SXAMXMM',\n 'XMASXX',\n 'XSXMX',\n 'MMAS',\n 'ASM',\n 'MM',\n 'M',\n 'XMASXXSMA',\n 'MMMAXAMM',\n 'XMASAMX',\n 'AXSXMM',\n 'XMASA',\n 'MMAS',\n 'AMA',\n 'SM',\n 'X',\n 'MSXMAXSAMX',\n 'MMASMASMS',\n 'ASAMSAMA',\n 'MMAMMXM',\n 'XXSAMX',\n 'XMXMA',\n 'SAMX',\n 'SAM',\n 'MX',\n 'M',\n 'MASAMXXAM',\n 'MMXSXASA',\n 'SXMMAMS',\n 'XMASMA',\n 'XSAMM',\n 'MMMX',\n 'ASM',\n 'SA',\n 'M']"
     },
     "metadata": {}
    }
   ]
  },
  {
   "metadata": {
    "trusted": true
   },
   "cell_type": "code",
   "source": "",
   "execution_count": null,
   "outputs": []
  }
 ],
 "metadata": {
  "kernelspec": {
   "name": "python3",
   "display_name": "Python 3",
   "language": "python"
  },
  "language_info": {
   "name": "python",
   "version": "3.10.4",
   "mimetype": "text/x-python",
   "codemirror_mode": {
    "name": "ipython",
    "version": 3
   },
   "pygments_lexer": "ipython3",
   "nbconvert_exporter": "python",
   "file_extension": ".py"
  }
 },
 "nbformat": 4,
 "nbformat_minor": 2
}