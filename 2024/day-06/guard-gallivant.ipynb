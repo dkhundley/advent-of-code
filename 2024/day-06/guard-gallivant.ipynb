{
 "cells": [
  {
   "metadata": {
    "trusted": false
   },
   "cell_type": "markdown",
   "source": "# 2024 Day 6: Guard Gallivant\n\n## Part 1\n\n\nThe Historians use their fancy device again, this time to whisk you all away to the North Pole prototype suit manufacturing lab... in the year 1518! It turns out that having direct access to history is very convenient for a group of historians.\n\nYou still have to be careful of time paradoxes, and so it will be important to avoid anyone from 1518 while The Historians search for the Chief. Unfortunately, a single guard is patrolling this part of the lab.\n\nMaybe you can work out where the guard will go ahead of time so that The Historians can search safely?\n\nYou start by making a map (your puzzle input) of the situation. For example:\n\n```\n....#.....\n.........#\n..........\n..#.......\n.......#..\n..........\n.#..^.....\n........#.\n#.........\n......#...\n```\n\nThe map shows the current position of the guard with ^ (to indicate the guard is currently facing up from the perspective of the map). Any obstructions - crates, desks, alchemical reactors, etc. - are shown as #.\n\nLab guards in 1518 follow a very strict patrol protocol which involves repeatedly following these steps:\n\nIf there is something directly in front of you, turn right 90 degrees.\nOtherwise, take a step forward.\nFollowing the above protocol, the guard moves up several times until she reaches an obstacle (in this case, a pile of failed suit prototypes):\n\n```\n....#.....\n....^....#\n..........\n..#.......\n.......#..\n..........\n.#........\n........#.\n#.........\n......#...\n```\n\nBecause there is now an obstacle in front of the guard, she turns right before continuing straight in her new facing direction:\n\n```\n....#.....\n........>#\n..........\n..#.......\n.......#..\n..........\n.#........\n........#.\n#.........\n......#...\n```\n\nReaching another obstacle (a spool of several very long polymers), she turns right again and continues downward:\n\n```\n....#.....\n.........#\n..........\n..#.......\n.......#..\n..........\n.#......v.\n........#.\n#.........\n......#...\n```\n\nThis process continues for a while, but the guard eventually leaves the mapped area (after walking past a tank of universal solvent):\n\n```\n....#.....\n.........#\n..........\n..#.......\n.......#..\n..........\n.#........\n........#.\n#.........\n......#v..\n```\n\nBy predicting the guard's route, you can determine which specific positions in the lab will be in the patrol path. Including the guard's starting position, the positions visited by the guard before leaving the area are marked with an X:\n\n```\n....#.....\n....XXXXX#\n....X...X.\n..#.X...X.\n..XXXXX#X.\n..X.X.X.X.\n.#XXXXXXX.\n.XXXXXXX#.\n#XXXXXXX..\n......#X..\n```\n\nIn this example, the guard will visit 41 distinct positions on your map.\n\nPredict the path of the guard. How many distinct positions will the guard visit before leaving the mapped area?"
  },
  {
   "metadata": {
    "trusted": true
   },
   "cell_type": "code",
   "source": "",
   "execution_count": null,
   "outputs": []
  }
 ],
 "metadata": {
  "kernelspec": {
   "name": "python3",
   "display_name": "Python 3",
   "language": "python"
  },
  "language_info": {
   "name": "python",
   "version": "3.10.4",
   "mimetype": "text/x-python",
   "codemirror_mode": {
    "name": "ipython",
    "version": 3
   },
   "pygments_lexer": "ipython3",
   "nbconvert_exporter": "python",
   "file_extension": ".py"
  }
 },
 "nbformat": 4,
 "nbformat_minor": 2
}