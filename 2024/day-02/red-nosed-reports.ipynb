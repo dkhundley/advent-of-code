{
 "cells": [
  {
   "cell_type": "markdown",
   "metadata": {},
   "source": [
    "# 2024 Day 2: Red-Nosed Reports\n",
    "\n",
    "## Part 1\n",
    "Fortunately, the first location The Historians want to search isn't a long walk from the Chief Historian's office.\n",
    "\n",
    "While the Red-Nosed Reindeer nuclear fusion/fission plant appears to contain no sign of the Chief Historian, the engineers there run up to you as soon as they see you. Apparently, they still talk about the time Rudolph was saved through molecular synthesis from a single electron.\n",
    "\n",
    "They're quick to add that - since you're already here - they'd really appreciate your help analyzing some unusual data from the Red-Nosed reactor. You turn to check if The Historians are waiting for you, but they seem to have already divided into groups that are currently searching every corner of the facility. You offer to help with the unusual data.\n",
    "\n",
    "The unusual data (your puzzle input) consists of many reports, one report per line. Each report is a list of numbers called levels that are separated by spaces. For example:\n",
    "\n",
    "```\n",
    "7 6 4 2 1\n",
    "1 2 7 8 9\n",
    "9 7 6 2 1\n",
    "1 3 2 4 5\n",
    "8 6 4 4 1\n",
    "1 3 6 7 9\n",
    "```\n",
    "\n",
    "This example data contains six reports each containing five levels.\n",
    "\n",
    "The engineers are trying to figure out which reports are safe. The Red-Nosed reactor safety systems can only tolerate levels that are either gradually increasing or gradually decreasing. So, a report only counts as safe if both of the following are true:\n",
    "\n",
    "- The levels are either all increasing or all decreasing.\n",
    "- Any two adjacent levels differ by at least one and at most three.\n",
    "\n",
    "In the example above, the reports can be found safe or unsafe by checking those rules:\n",
    "\n",
    "- `7 6 4 2 1`: Safe because the levels are all decreasing by 1 or 2.\n",
    "- `1 2 7 8 9`: Unsafe because 2 7 is an increase of 5.\n",
    "- `9 7 6 2 1`: Unsafe because 6 2 is a decrease of 4.\n",
    "- `1 3 2 4 5`: Unsafe because 1 3 is increasing but 3 2 is decreasing.\n",
    "- `8 6 4 4 1`: Unsafe because 4 4 is neither an increase or a decrease.\n",
    "- `1 3 6 7 9`: Safe because the levels are all increasing by 1, 2, or 3.\n",
    "\n",
    "So, in this example, 2 reports are safe.\n",
    "\n",
    "Analyze the unusual data from the engineers. How many reports are safe?"
   ]
  },
  {
   "cell_type": "code",
   "execution_count": 1,
   "metadata": {
    "trusted": true
   },
   "outputs": [],
   "source": [
    "# Loading the puzzle input from file\n",
    "with open('aoc-2024-day-02.txt') as f:\n",
    "    raw_reactor_reports = f.read().splitlines()\n",
    "    \n",
    "# Setting the sample data\n",
    "sample_data = '''7 6 4 2 1\n",
    "1 2 7 8 9\n",
    "9 7 6 2 1\n",
    "1 3 2 4 5\n",
    "8 6 4 4 1\n",
    "1 3 6 7 9'''.splitlines()\n",
    "\n",
    "# Overwriting the input for testing  purposes\n",
    "# (Note: Comment this line out when teady to use full sample input)\n",
    "# raw_reactor_reports = sample_data"
   ]
  },
  {
   "cell_type": "code",
   "execution_count": 2,
   "metadata": {
    "trusted": true
   },
   "outputs": [],
   "source": [
    "# Parsing the raw reactor reports\n",
    "reactor_reports = []\n",
    "for line in raw_reactor_reports:\n",
    "    reactor_reports.append([int(char) for char in line.split(' ')])"
   ]
  },
  {
   "cell_type": "code",
   "execution_count": 3,
   "metadata": {
    "trusted": true
   },
   "outputs": [
    {
     "name": "stdout",
     "output_type": "stream",
     "text": [
      "Number of safe reports: 486\n"
     ]
    }
   ],
   "source": [
    "# Instantiating a number to indicate number of safe reports\n",
    "safe_reports = 0\n",
    "\n",
    "# Iterating over each report\n",
    "for report in reactor_reports:\n",
    "    \n",
    "    # Setting a boolean value to indicate if the report is safe\n",
    "    is_safe = True\n",
    "    \n",
    "    # Checking if the report is ascending or descending\n",
    "    if not (report == sorted(report) or report == sorted(report, reverse = True)):\n",
    "        continue\n",
    "    \n",
    "    # Iterating through the values of the report\n",
    "    for i in range(len(report)):\n",
    "        if i == len(report) - 1:\n",
    "            break\n",
    "        \n",
    "        # Getting the difference between the values\n",
    "        difference = abs(report[i + 1] - report[i])\n",
    "        \n",
    "        # Checking if the difference indicates safety\n",
    "        if difference == 0 or difference > 3:\n",
    "            is_safe = False\n",
    "    \n",
    "    # Incrementing the safe reports as needed\n",
    "    if is_safe:\n",
    "        safe_reports += 1\n",
    "        \n",
    "print(f'Number of safe reports: {safe_reports}')"
   ]
  },
  {
   "cell_type": "markdown",
   "metadata": {},
   "source": [
    "## Part 2\n",
    "\n",
    "The engineers are surprised by the low number of safe reports until they realize they forgot to tell you about the Problem Dampener.\n",
    "\n",
    "The Problem Dampener is a reactor-mounted module that lets the reactor safety systems tolerate a single bad level in what would otherwise be a safe report. It's like the bad level never happened!\n",
    "\n",
    "Now, the same rules apply as before, except if removing a single level from an unsafe report would make it safe, the report instead counts as safe.\n",
    "\n",
    "More of the above example's reports are now safe:\n",
    "\n",
    "- `7 6 4 2 1`: Safe without removing any level.\n",
    "- `1 2 7 8 9`: Unsafe regardless of which level is removed.\n",
    "- `9 7 6 2 1`: Unsafe regardless of which level is removed.\n",
    "- `1 3 2 4 5`: Safe by removing the second level, 3.\n",
    "- `8 6 4 4 1`: Safe by removing the third level, 4.\n",
    "- `1 3 6 7 9`: Safe without removing any level.\n",
    "\n",
    "Thanks to the Problem Dampener, 4 reports are actually safe!\n",
    "\n",
    "Update your analysis by handling situations where the Problem Dampener can remove a single level from unsafe reports. How many reports are now safe?"
   ]
  },
  {
   "cell_type": "code",
   "execution_count": 4,
   "metadata": {
    "trusted": true
   },
   "outputs": [
    {
     "name": "stdout",
     "output_type": "stream",
     "text": [
      "Number of safe reports: 540\n"
     ]
    }
   ],
   "source": [
    "# Instantiating a number to indicate number of safe reports\n",
    "safe_reports = 0\n",
    "\n",
    "# Instantiating a list for reports to recheck\n",
    "reports_to_recheck = []\n",
    "\n",
    "# Iterating over each report\n",
    "for report in reactor_reports:\n",
    "    \n",
    "    # Setting a boolean value to indicate if the report is safe\n",
    "    is_safe = True\n",
    "    \n",
    "    # Checking if the report is ascending or descending\n",
    "    if not (report == sorted(report) or report == sorted(report, reverse=True)):\n",
    "        reports_to_recheck.append(report)\n",
    "        continue\n",
    "    \n",
    "    # Iterating through the values of the report\n",
    "    for i in range(len(report) - 1):\n",
    "        # Getting the difference between the values\n",
    "        difference = abs(report[i + 1] - report[i])\n",
    "        \n",
    "        # Checking if the difference indicates safety\n",
    "        if difference == 0 or difference > 3:\n",
    "            is_safe = False\n",
    "            reports_to_recheck.append(report)\n",
    "            break\n",
    "    \n",
    "    # Incrementing the safe reports as needed\n",
    "    if is_safe:\n",
    "        safe_reports += 1\n",
    "\n",
    "# Iterating over the reports to recheck\n",
    "for report in reports_to_recheck:\n",
    "    \n",
    "    # Setting a value to indicate if the report is safe\n",
    "    is_safe = False\n",
    "    \n",
    "    # Iterating through each report with a removed element    \n",
    "    for i in range(len(report)):\n",
    "        \n",
    "        if is_safe:\n",
    "            break\n",
    "        \n",
    "        # Creating the truncated report\n",
    "        truncated_report = [char for j, char in enumerate(report) if j != i]\n",
    "        \n",
    "        # Checking if the report is ascending or descending\n",
    "        if not (truncated_report == sorted(truncated_report) or truncated_report == sorted(truncated_report, reverse=True)):\n",
    "            continue\n",
    "            \n",
    "        # Iterating through the values of the truncated report\n",
    "        for j in range(len(truncated_report) - 1):\n",
    "            # Calculating the difference between the values\n",
    "            difference = abs(truncated_report[j + 1] - truncated_report[j])\n",
    "            \n",
    "            # Checking if the distance is safe\n",
    "            if difference == 0 or difference > 3:\n",
    "                break\n",
    "        else:\n",
    "            is_safe = True\n",
    "            \n",
    "    if is_safe:\n",
    "        safe_reports += 1\n",
    "        \n",
    "print(f'Number of safe reports: {safe_reports}')\n"
   ]
  }
 ],
 "metadata": {
  "kernelspec": {
   "display_name": "Python 3",
   "language": "python",
   "name": "python3"
  },
  "language_info": {
   "codemirror_mode": {
    "name": "ipython",
    "version": 3
   },
   "file_extension": ".py",
   "mimetype": "text/x-python",
   "name": "python",
   "nbconvert_exporter": "python",
   "pygments_lexer": "ipython3",
   "version": "3.11.10"
  }
 },
 "nbformat": 4,
 "nbformat_minor": 2
}
