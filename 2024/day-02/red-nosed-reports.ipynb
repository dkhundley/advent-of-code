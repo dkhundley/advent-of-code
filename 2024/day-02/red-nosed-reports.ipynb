{
 "cells": [
  {
   "metadata": {},
   "cell_type": "markdown",
   "source": "# 2024 Day 2: Red-Nosed Reports\n\n## Part 1\nFortunately, the first location The Historians want to search isn't a long walk from the Chief Historian's office.\n\nWhile the Red-Nosed Reindeer nuclear fusion/fission plant appears to contain no sign of the Chief Historian, the engineers there run up to you as soon as they see you. Apparently, they still talk about the time Rudolph was saved through molecular synthesis from a single electron.\n\nThey're quick to add that - since you're already here - they'd really appreciate your help analyzing some unusual data from the Red-Nosed reactor. You turn to check if The Historians are waiting for you, but they seem to have already divided into groups that are currently searching every corner of the facility. You offer to help with the unusual data.\n\nThe unusual data (your puzzle input) consists of many reports, one report per line. Each report is a list of numbers called levels that are separated by spaces. For example:\n\n```\n7 6 4 2 1\n1 2 7 8 9\n9 7 6 2 1\n1 3 2 4 5\n8 6 4 4 1\n1 3 6 7 9\n```\n\nThis example data contains six reports each containing five levels.\n\nThe engineers are trying to figure out which reports are safe. The Red-Nosed reactor safety systems can only tolerate levels that are either gradually increasing or gradually decreasing. So, a report only counts as safe if both of the following are true:\n\n- The levels are either all increasing or all decreasing.\n- Any two adjacent levels differ by at least one and at most three.\n\nIn the example above, the reports can be found safe or unsafe by checking those rules:\n\n- `7 6 4 2 1`: Safe because the levels are all decreasing by 1 or 2.\n- `1 2 7 8 9`: Unsafe because 2 7 is an increase of 5.\n- `9 7 6 2 1`: Unsafe because 6 2 is a decrease of 4.\n- `1 3 2 4 5`: Unsafe because 1 3 is increasing but 3 2 is decreasing.\n- `8 6 4 4 1`: Unsafe because 4 4 is neither an increase or a decrease.\n- `1 3 6 7 9`: Safe because the levels are all increasing by 1, 2, or 3.\n\nSo, in this example, 2 reports are safe.\n\nAnalyze the unusual data from the engineers. How many reports are safe?"
  },
  {
   "metadata": {
    "trusted": false
   },
   "cell_type": "code",
   "source": "# Loading the puzzle input from file\nwith open('aoc-2024-day-02.txt') as f:\n    raw_reactor_reports = f.read().splitlines()\n    \n# Setting the sample data\nsample_data = '''7 6 4 2 1\n1 2 7 8 9\n9 7 6 2 1\n1 3 2 4 5\n8 6 4 4 1\n1 3 6 7 9'''.splitlines()\n\n# Overwriting the input for testing  purposes\n# (Note: Comment this line out when teady to use full sample input)\n# raw_reactor_reports = sample_data",
   "execution_count": 6,
   "outputs": []
  },
  {
   "metadata": {
    "trusted": false
   },
   "cell_type": "code",
   "source": "# Parsing the raw reactor reports\nreactor_reports = []\nfor line in raw_reactor_reports:\n    reactor_reports.append([int(char) for char in line.split(' ')])",
   "execution_count": 7,
   "outputs": []
  },
  {
   "metadata": {
    "trusted": false
   },
   "cell_type": "code",
   "source": "# Instantiating a number to indicate number of safe reports\nsafe_reports = 0\n\n# Iterating over each report\nfor report in reactor_reports:\n    \n    # Setting a boolean value to indicate if the report is safe\n    is_safe = True\n    \n    # Checking if the report is ascending or descending\n    if not (report == sorted(report) or report == sorted(report, reverse = True)):\n        continue\n    \n    # Iterating through the values of the report\n    for i in range(len(report)):\n        if i == len(report) - 1:\n            break\n        \n        # Getting the difference between the values\n        difference = abs(report[i + 1] - report[i])\n        \n        # Checking if the difference indicates safety\n        if difference == 0 or difference > 3:\n            is_safe = False\n    \n    # Incrementing the safe reports as needed\n    if is_safe:\n        safe_reports += 1\n        \nprint(f'Number of safe reports: {safe_reports}')",
   "execution_count": 8,
   "outputs": [
    {
     "output_type": "stream",
     "text": "Number of safe reports: 486\n",
     "name": "stdout"
    }
   ]
  },
  {
   "metadata": {},
   "cell_type": "markdown",
   "source": "## Part 2\n\nThe engineers are surprised by the low number of safe reports until they realize they forgot to tell you about the Problem Dampener.\n\nThe Problem Dampener is a reactor-mounted module that lets the reactor safety systems tolerate a single bad level in what would otherwise be a safe report. It's like the bad level never happened!\n\nNow, the same rules apply as before, except if removing a single level from an unsafe report would make it safe, the report instead counts as safe.\n\nMore of the above example's reports are now safe:\n\n- `7 6 4 2 1`: Safe without removing any level.\n- `1 2 7 8 9`: Unsafe regardless of which level is removed.\n- `9 7 6 2 1`: Unsafe regardless of which level is removed.\n- `1 3 2 4 5`: Safe by removing the second level, 3.\n- `8 6 4 4 1`: Safe by removing the third level, 4.\n- `1 3 6 7 9`: Safe without removing any level.\n\nThanks to the Problem Dampener, 4 reports are actually safe!\n\nUpdate your analysis by handling situations where the Problem Dampener can remove a single level from unsafe reports. How many reports are now safe?"
  },
  {
   "metadata": {
    "trusted": true
   },
   "cell_type": "code",
   "source": "# Instantiating a number to indicate number of safe reports\nsafe_reports = 0\n\n# Instantiating a list for reports to recheck\nreports_to_recheck = []\n\n# Iterating over each report\nfor report in reactor_reports:\n    \n    # Setting a boolean value to indicate if the report is safe\n    is_safe = False\n    \n    # Checking if the report is ascending or descending\n    if not (report == sorted(report) or report == sorted(report, reverse = True)):\n        reports_to_recheck.append(report)\n        continue\n    \n    # Iterating through the values of the report\n    for i in range(len(report)):\n        if i == len(report) - 1:\n            break\n        \n        # Getting the difference between the values\n        difference = abs(report[i + 1] - report[i])\n        \n        # Checking if the difference indicates safety\n        if difference == 0 or difference > 3:\n            is_safe = True\n    \n    # Incrementing the safe reports as needed\n    if is_safe:\n        safe_reports += 1\n    else:\n        reports_to_recheck.append(report)\n        \nprint(f'Current number of reports: {safe_reports}')\n        \n# Iterating over the reports to recheck\nfor report in reports_to_recheck:\n    \n    # Setting a value to indicate if the report is safe\n    is_safe = False\n    \n    # Iterating through each report with a removed element    \n    for i in range(len(report)):\n        \n        if is_safe:\n            break\n        \n        # Creating the truncated report\n        truncated_report = [char for j, char in enumerate(report) if j != i]\n        \n        # Checking if the report is ascending or descending\n        if not (truncated_report == sorted(truncated_report) or truncated_report == sorted(truncated_report, reverse = True)):\n            continue\n            \n        # Iterating through the values of the truncated report\n        for j in range(len(truncated_report)):\n            if j == len(truncated_report) - 1:\n                break\n            \n            # Calculating the differene between the values\n            difference = abs(truncated_report[j + 1] - truncated_report[j])\n            \n            # Checking if the distance is safe\n            if not (difference == 0 or difference > 3):\n                is_safe = True\n            \n    if is_safe:\n        safe_reports += 1\n        \nprint(f'Number of safe reports: {safe_reports}')",
   "execution_count": 1,
   "outputs": [
    {
     "output_type": "stream",
     "text": "Current number of reports: 263\nNumber of safe reports: 937\n",
     "name": "stdout"
    }
   ]
  },
  {
   "metadata": {
    "trusted": true
   },
   "cell_type": "code",
   "source": "len(reports_to_recheck)",
   "execution_count": 1,
   "outputs": [
    {
     "output_type": "execute_result",
     "execution_count": 1,
     "data": {
      "text/plain": "514"
     },
     "metadata": {}
    }
   ]
  },
  {
   "metadata": {
    "trusted": true
   },
   "cell_type": "code",
   "source": "def is_safe(row):\n    inc = [row[i + 1] - row[i] for i in range(len(row) - 1)]\n    if set(inc) <= {1, 2, 3} or set(inc) <= {-1, -2, -3}:\n        return True\n    return False\n\ndata = [[int(y) for y in x.split(' ')] for x in open('aoc-2024-day-02.txt').read().split('\\n')]\n\nsafe_count = sum([is_safe(row) for row in data])\nprint(safe_count)\n\nsafe_count = sum([any([is_safe(row[:i] + row[i + 1:]) for i in range(len(row))]) for row in data])\nprint(safe_count)",
   "execution_count": 1,
   "outputs": [
    {
     "output_type": "error",
     "ename": "ValueError",
     "evalue": "invalid literal for int() with base 10: ''",
     "traceback": [
      "\u001b[0;31m---------------------------------------------------------------------------\u001b[0m",
      "\u001b[0;31mValueError\u001b[0m                                Traceback (most recent call last)",
      "\u001b[0;32m<ipython-input-1-e43515329210>\u001b[0m in \u001b[0;36m<module>\u001b[0;34m\u001b[0m\n\u001b[1;32m      5\u001b[0m     \u001b[0;32mreturn\u001b[0m \u001b[0;32mFalse\u001b[0m\u001b[0;34m\u001b[0m\u001b[0;34m\u001b[0m\u001b[0m\n\u001b[1;32m      6\u001b[0m \u001b[0;34m\u001b[0m\u001b[0m\n\u001b[0;32m----> 7\u001b[0;31m \u001b[0mdata\u001b[0m \u001b[0;34m=\u001b[0m \u001b[0;34m[\u001b[0m\u001b[0;34m[\u001b[0m\u001b[0mint\u001b[0m\u001b[0;34m(\u001b[0m\u001b[0my\u001b[0m\u001b[0;34m)\u001b[0m \u001b[0;32mfor\u001b[0m \u001b[0my\u001b[0m \u001b[0;32min\u001b[0m \u001b[0mx\u001b[0m\u001b[0;34m.\u001b[0m\u001b[0msplit\u001b[0m\u001b[0;34m(\u001b[0m\u001b[0;34m' '\u001b[0m\u001b[0;34m)\u001b[0m\u001b[0;34m]\u001b[0m \u001b[0;32mfor\u001b[0m \u001b[0mx\u001b[0m \u001b[0;32min\u001b[0m \u001b[0mopen\u001b[0m\u001b[0;34m(\u001b[0m\u001b[0;34m'aoc-2024-day-02.txt'\u001b[0m\u001b[0;34m)\u001b[0m\u001b[0;34m.\u001b[0m\u001b[0mread\u001b[0m\u001b[0;34m(\u001b[0m\u001b[0;34m)\u001b[0m\u001b[0;34m.\u001b[0m\u001b[0msplit\u001b[0m\u001b[0;34m(\u001b[0m\u001b[0;34m'\\n'\u001b[0m\u001b[0;34m)\u001b[0m\u001b[0;34m]\u001b[0m\u001b[0;34m\u001b[0m\u001b[0;34m\u001b[0m\u001b[0m\n\u001b[0m\u001b[1;32m      8\u001b[0m \u001b[0;34m\u001b[0m\u001b[0m\n\u001b[1;32m      9\u001b[0m \u001b[0msafe_count\u001b[0m \u001b[0;34m=\u001b[0m \u001b[0msum\u001b[0m\u001b[0;34m(\u001b[0m\u001b[0;34m[\u001b[0m\u001b[0mis_safe\u001b[0m\u001b[0;34m(\u001b[0m\u001b[0mrow\u001b[0m\u001b[0;34m)\u001b[0m \u001b[0;32mfor\u001b[0m \u001b[0mrow\u001b[0m \u001b[0;32min\u001b[0m \u001b[0mdata\u001b[0m\u001b[0;34m]\u001b[0m\u001b[0;34m)\u001b[0m\u001b[0;34m\u001b[0m\u001b[0;34m\u001b[0m\u001b[0m\n",
      "\u001b[0;32m<ipython-input-1-e43515329210>\u001b[0m in \u001b[0;36m<listcomp>\u001b[0;34m(.0)\u001b[0m\n\u001b[1;32m      5\u001b[0m     \u001b[0;32mreturn\u001b[0m \u001b[0;32mFalse\u001b[0m\u001b[0;34m\u001b[0m\u001b[0;34m\u001b[0m\u001b[0m\n\u001b[1;32m      6\u001b[0m \u001b[0;34m\u001b[0m\u001b[0m\n\u001b[0;32m----> 7\u001b[0;31m \u001b[0mdata\u001b[0m \u001b[0;34m=\u001b[0m \u001b[0;34m[\u001b[0m\u001b[0;34m[\u001b[0m\u001b[0mint\u001b[0m\u001b[0;34m(\u001b[0m\u001b[0my\u001b[0m\u001b[0;34m)\u001b[0m \u001b[0;32mfor\u001b[0m \u001b[0my\u001b[0m \u001b[0;32min\u001b[0m \u001b[0mx\u001b[0m\u001b[0;34m.\u001b[0m\u001b[0msplit\u001b[0m\u001b[0;34m(\u001b[0m\u001b[0;34m' '\u001b[0m\u001b[0;34m)\u001b[0m\u001b[0;34m]\u001b[0m \u001b[0;32mfor\u001b[0m \u001b[0mx\u001b[0m \u001b[0;32min\u001b[0m \u001b[0mopen\u001b[0m\u001b[0;34m(\u001b[0m\u001b[0;34m'aoc-2024-day-02.txt'\u001b[0m\u001b[0;34m)\u001b[0m\u001b[0;34m.\u001b[0m\u001b[0mread\u001b[0m\u001b[0;34m(\u001b[0m\u001b[0;34m)\u001b[0m\u001b[0;34m.\u001b[0m\u001b[0msplit\u001b[0m\u001b[0;34m(\u001b[0m\u001b[0;34m'\\n'\u001b[0m\u001b[0;34m)\u001b[0m\u001b[0;34m]\u001b[0m\u001b[0;34m\u001b[0m\u001b[0;34m\u001b[0m\u001b[0m\n\u001b[0m\u001b[1;32m      8\u001b[0m \u001b[0;34m\u001b[0m\u001b[0m\n\u001b[1;32m      9\u001b[0m \u001b[0msafe_count\u001b[0m \u001b[0;34m=\u001b[0m \u001b[0msum\u001b[0m\u001b[0;34m(\u001b[0m\u001b[0;34m[\u001b[0m\u001b[0mis_safe\u001b[0m\u001b[0;34m(\u001b[0m\u001b[0mrow\u001b[0m\u001b[0;34m)\u001b[0m \u001b[0;32mfor\u001b[0m \u001b[0mrow\u001b[0m \u001b[0;32min\u001b[0m \u001b[0mdata\u001b[0m\u001b[0;34m]\u001b[0m\u001b[0;34m)\u001b[0m\u001b[0;34m\u001b[0m\u001b[0;34m\u001b[0m\u001b[0m\n",
      "\u001b[0;32m<ipython-input-1-e43515329210>\u001b[0m in \u001b[0;36m<listcomp>\u001b[0;34m(.0)\u001b[0m\n\u001b[1;32m      5\u001b[0m     \u001b[0;32mreturn\u001b[0m \u001b[0;32mFalse\u001b[0m\u001b[0;34m\u001b[0m\u001b[0;34m\u001b[0m\u001b[0m\n\u001b[1;32m      6\u001b[0m \u001b[0;34m\u001b[0m\u001b[0m\n\u001b[0;32m----> 7\u001b[0;31m \u001b[0mdata\u001b[0m \u001b[0;34m=\u001b[0m \u001b[0;34m[\u001b[0m\u001b[0;34m[\u001b[0m\u001b[0mint\u001b[0m\u001b[0;34m(\u001b[0m\u001b[0my\u001b[0m\u001b[0;34m)\u001b[0m \u001b[0;32mfor\u001b[0m \u001b[0my\u001b[0m \u001b[0;32min\u001b[0m \u001b[0mx\u001b[0m\u001b[0;34m.\u001b[0m\u001b[0msplit\u001b[0m\u001b[0;34m(\u001b[0m\u001b[0;34m' '\u001b[0m\u001b[0;34m)\u001b[0m\u001b[0;34m]\u001b[0m \u001b[0;32mfor\u001b[0m \u001b[0mx\u001b[0m \u001b[0;32min\u001b[0m \u001b[0mopen\u001b[0m\u001b[0;34m(\u001b[0m\u001b[0;34m'aoc-2024-day-02.txt'\u001b[0m\u001b[0;34m)\u001b[0m\u001b[0;34m.\u001b[0m\u001b[0mread\u001b[0m\u001b[0;34m(\u001b[0m\u001b[0;34m)\u001b[0m\u001b[0;34m.\u001b[0m\u001b[0msplit\u001b[0m\u001b[0;34m(\u001b[0m\u001b[0;34m'\\n'\u001b[0m\u001b[0;34m)\u001b[0m\u001b[0;34m]\u001b[0m\u001b[0;34m\u001b[0m\u001b[0;34m\u001b[0m\u001b[0m\n\u001b[0m\u001b[1;32m      8\u001b[0m \u001b[0;34m\u001b[0m\u001b[0m\n\u001b[1;32m      9\u001b[0m \u001b[0msafe_count\u001b[0m \u001b[0;34m=\u001b[0m \u001b[0msum\u001b[0m\u001b[0;34m(\u001b[0m\u001b[0;34m[\u001b[0m\u001b[0mis_safe\u001b[0m\u001b[0;34m(\u001b[0m\u001b[0mrow\u001b[0m\u001b[0;34m)\u001b[0m \u001b[0;32mfor\u001b[0m \u001b[0mrow\u001b[0m \u001b[0;32min\u001b[0m \u001b[0mdata\u001b[0m\u001b[0;34m]\u001b[0m\u001b[0;34m)\u001b[0m\u001b[0;34m\u001b[0m\u001b[0;34m\u001b[0m\u001b[0m\n",
      "\u001b[0;31mValueError\u001b[0m: invalid literal for int() with base 10: ''"
     ]
    }
   ]
  }
 ],
 "metadata": {
  "kernelspec": {
   "name": "python3",
   "display_name": "Python 3",
   "language": "python"
  },
  "language_info": {
   "name": "python",
   "version": "3.10.4",
   "mimetype": "text/x-python",
   "codemirror_mode": {
    "name": "ipython",
    "version": 3
   },
   "pygments_lexer": "ipython3",
   "nbconvert_exporter": "python",
   "file_extension": ".py"
  }
 },
 "nbformat": 4,
 "nbformat_minor": 2
}