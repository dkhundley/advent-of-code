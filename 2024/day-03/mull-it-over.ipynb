{
 "cells": [
  {
   "metadata": {},
   "cell_type": "markdown",
   "source": "# 2024 Day 3: Mull It Over\n\n## Part 1\n\n\"Our computers are having issues, so I have no idea if we have any Chief Historians in stock! You're welcome to check the warehouse, though,\" says the mildly flustered shopkeeper at the North Pole Toboggan Rental Shop. The Historians head out to take a look.\n\nThe shopkeeper turns to you. \"Any chance you can see why our computers are having issues again?\"\n\nThe computer appears to be trying to run a program, but its memory (your puzzle input) is corrupted. All of the instructions have been jumbled up!\n\nIt seems like the goal of the program is just to multiply some numbers. It does that with instructions like mul(X,Y), where X and Y are each 1-3 digit numbers. For instance, `mul(44,46)` multiplies 44 by 46 to get a result of 2024. Similarly, `mul(123,4)` would multiply 123 by 4.\n\nHowever, because the program's memory has been corrupted, there are also many invalid characters that should be ignored, even if they look like part of a mul instruction. Sequences like `mul(4*`, `mul(6,9!`, `?(12,34)`, or `mul ( 2 , 4 )` do nothing.\n\nFor example, consider the following section of corrupted memory:\n\n`xmul(2,4)%&mul[3,7]!@^do_not_mul(5,5)+mul(32,64]then(mul(11,8)mul(8,5))`\n\nOnly the four highlighted sections are real mul instructions. Adding up the result of each instruction produces 161 `(2*4 + 5*5 + 11*8 + 8*5)`.\n\nScan the corrupted memory for uncorrupted mul instructions. What do you get if you add up all of the results of the multiplications?\n\n"
  },
  {
   "metadata": {
    "trusted": false
   },
   "cell_type": "code",
   "source": "# Loading the raw computer memory puzzle input from file\nwith open('aoc-2024-day-02.txt') as f:\n    raw_computer_memory = f.read().splitlines()\n    \n# Setting the sample data\nsample_data = '''xmul(2,4)%&mul[3,7]!@^do_not_mul(5,5)+mul(32,64]then(mul(11,8)mul(8,5))'''.splitlines()\n\n# Overwriting the input for testing  purposes\n# (Note: Comment this line out when teady to use full sample input)\nraw_computer_memory = sample_data",
   "execution_count": null,
   "outputs": []
  }
 ],
 "metadata": {
  "kernelspec": {
   "name": "python3",
   "display_name": "Python 3",
   "language": "python"
  },
  "language_info": {
   "name": "python",
   "version": "3.10.4",
   "mimetype": "text/x-python",
   "codemirror_mode": {
    "name": "ipython",
    "version": 3
   },
   "pygments_lexer": "ipython3",
   "nbconvert_exporter": "python",
   "file_extension": ".py"
  }
 },
 "nbformat": 4,
 "nbformat_minor": 2
}