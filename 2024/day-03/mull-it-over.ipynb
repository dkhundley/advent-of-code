{
 "cells": [
  {
   "metadata": {},
   "cell_type": "markdown",
   "source": "# 2024 Day 3: Mull It Over\n\n## Part 1\n\n\"Our computers are having issues, so I have no idea if we have any Chief Historians in stock! You're welcome to check the warehouse, though,\" says the mildly flustered shopkeeper at the North Pole Toboggan Rental Shop. The Historians head out to take a look.\n\nThe shopkeeper turns to you. \"Any chance you can see why our computers are having issues again?\"\n\nThe computer appears to be trying to run a program, but its memory (your puzzle input) is corrupted. All of the instructions have been jumbled up!\n\nIt seems like the goal of the program is just to multiply some numbers. It does that with instructions like mul(X,Y), where X and Y are each 1-3 digit numbers. For instance, `mul(44,46)` multiplies 44 by 46 to get a result of 2024. Similarly, `mul(123,4)` would multiply 123 by 4.\n\nHowever, because the program's memory has been corrupted, there are also many invalid characters that should be ignored, even if they look like part of a mul instruction. Sequences like `mul(4*`, `mul(6,9!`, `?(12,34)`, or `mul ( 2 , 4 )` do nothing.\n\nFor example, consider the following section of corrupted memory:\n\n`xmul(2,4)%&mul[3,7]!@^do_not_mul(5,5)+mul(32,64]then(mul(11,8)mul(8,5))`\n\nOnly the four highlighted sections are real mul instructions. Adding up the result of each instruction produces 161 `(2*4 + 5*5 + 11*8 + 8*5)`.\n\nScan the corrupted memory for uncorrupted mul instructions. What do you get if you add up all of the results of the multiplications?\n\n"
  },
  {
   "metadata": {
    "trusted": true
   },
   "cell_type": "code",
   "source": "# Loading the computer memory puzzle input from file\nwith open('aoc-2024-day-03.txt') as f:\n    computer_memory = f.read().splitlines()\n    \n# Setting the sample data\nsample_data = '''xmul(2,4)%&mul[3,7]!@^do_not_mul(5,5)+mul(32,64]then(mul(11,8)mul(8,5))'''.splitlines()\n\n# Overwriting the input for testing  purposes\n# (Note: Comment this line out when teady to use full sample input)\n# computer_memory = sample_data",
   "execution_count": 7,
   "outputs": []
  },
  {
   "metadata": {
    "trusted": true
   },
   "cell_type": "code",
   "source": "import re\nimport math\n\n# Setting the regex pattern\nmul_regex_pattern = r'mul\\([1-9][0-9]*(?:,[1-9][0-9]*)*\\)'",
   "execution_count": 8,
   "outputs": []
  },
  {
   "metadata": {
    "trusted": true
   },
   "cell_type": "code",
   "source": "# Instantiating a value to represent the final score\nfinal_score = 0\n\n# Iterating through each line in the computer memory\nfor line in computer_memory:\n    \n    # Finding all matches with the regex pattern\n    matches = re.findall(mul_regex_pattern, line)\n    \n    # Iterating through each match\n    for match in matches:\n        \n        # Getting the numbers in the match\n        match_nums = [int(num) for num in match[4:-1].split(',')]\n        \n        # Adding the product of the match numbers to the final score\n        final_score += math.prod(match_nums)\n        \nprint(f'Final score: {final_score}')",
   "execution_count": 9,
   "outputs": [
    {
     "output_type": "stream",
     "text": "Final score: 175015740\n",
     "name": "stdout"
    }
   ]
  },
  {
   "metadata": {},
   "cell_type": "markdown",
   "source": "## Part 2\n\nAs you scan through the corrupted memory, you notice that some of the conditional statements are also still intact. If you handle some of the uncorrupted conditional statements in the program, you might be able to get an even more accurate result.\n\nThere are two new instructions you'll need to handle:\n\n- The do() instruction enables future mul instructions.\n- The don't() instruction disables future mul instructions.\n\nOnly the most recent do() or don't() instruction applies. At the beginning of the program, mul instructions are enabled.\n\nFor example:\n\n```\nxmul(2,4)&mul[3,7]!^don't()_mul(5,5)+mul(32,64](mul(11,8)undo()?mul(8,5))\n```\n\nThis corrupted memory is similar to the example from before, but this time the mul(5,5) and mul(11,8) instructions are disabled because there is a don't() instruction before them. The other mul instructions function normally, including the one at the end that gets re-enabled by a do() instruction.\n\nThis time, the sum of the results is 48 `(2*4 + 8*5)`.\n\nHandle the new instructions; what do you get if you add up all of the results of just the enabled multiplications?\n\n"
  },
  {
   "metadata": {
    "trusted": true
   },
   "cell_type": "code",
   "source": "",
   "execution_count": null,
   "outputs": []
  }
 ],
 "metadata": {
  "kernelspec": {
   "name": "python3",
   "display_name": "Python 3",
   "language": "python"
  },
  "language_info": {
   "name": "python",
   "version": "3.10.4",
   "mimetype": "text/x-python",
   "codemirror_mode": {
    "name": "ipython",
    "version": 3
   },
   "pygments_lexer": "ipython3",
   "nbconvert_exporter": "python",
   "file_extension": ".py"
  }
 },
 "nbformat": 4,
 "nbformat_minor": 2
}