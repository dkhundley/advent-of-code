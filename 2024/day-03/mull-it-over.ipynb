{
 "cells": [
  {
   "cell_type": "markdown",
   "metadata": {},
   "source": [
    "# 2024 Day 3: Mull It Over\n",
    "\n",
    "## Part 1\n",
    "\n",
    "\"Our computers are having issues, so I have no idea if we have any Chief Historians in stock! You're welcome to check the warehouse, though,\" says the mildly flustered shopkeeper at the North Pole Toboggan Rental Shop. The Historians head out to take a look.\n",
    "\n",
    "The shopkeeper turns to you. \"Any chance you can see why our computers are having issues again?\"\n",
    "\n",
    "The computer appears to be trying to run a program, but its memory (your puzzle input) is corrupted. All of the instructions have been jumbled up!\n",
    "\n",
    "It seems like the goal of the program is just to multiply some numbers. It does that with instructions like mul(X,Y), where X and Y are each 1-3 digit numbers. For instance, `mul(44,46)` multiplies 44 by 46 to get a result of 2024. Similarly, `mul(123,4)` would multiply 123 by 4.\n",
    "\n",
    "However, because the program's memory has been corrupted, there are also many invalid characters that should be ignored, even if they look like part of a mul instruction. Sequences like `mul(4*`, `mul(6,9!`, `?(12,34)`, or `mul ( 2 , 4 )` do nothing.\n",
    "\n",
    "For example, consider the following section of corrupted memory:\n",
    "\n",
    "`xmul(2,4)%&mul[3,7]!@^do_not_mul(5,5)+mul(32,64]then(mul(11,8)mul(8,5))`\n",
    "\n",
    "Only the four highlighted sections are real mul instructions. Adding up the result of each instruction produces 161 `(2*4 + 5*5 + 11*8 + 8*5)`.\n",
    "\n",
    "Scan the corrupted memory for uncorrupted mul instructions. What do you get if you add up all of the results of the multiplications?\n",
    "\n"
   ]
  },
  {
   "cell_type": "code",
   "execution_count": 1,
   "metadata": {
    "trusted": true
   },
   "outputs": [],
   "source": [
    "# Loading the computer memory puzzle input from file\n",
    "with open('aoc-2024-day-03.txt') as f:\n",
    "    computer_memory = f.read().splitlines()\n",
    "    \n",
    "# Setting the sample data\n",
    "sample_data = '''xmul(2,4)%&mul[3,7]!@^do_not_mul(5,5)+mul(32,64]then(mul(11,8)mul(8,5))'''.splitlines()\n",
    "\n",
    "# Overwriting the input for testing  purposes\n",
    "# (Note: Comment this line out when teady to use full sample input)\n",
    "# computer_memory = sample_data"
   ]
  },
  {
   "cell_type": "code",
   "execution_count": 2,
   "metadata": {
    "trusted": true
   },
   "outputs": [],
   "source": [
    "import re\n",
    "import math\n",
    "\n",
    "# Setting the regex pattern\n",
    "regex_pattern = r'mul\\([1-9][0-9]*(?:,[1-9][0-9]*)*\\)'"
   ]
  },
  {
   "cell_type": "code",
   "execution_count": 3,
   "metadata": {
    "trusted": true
   },
   "outputs": [
    {
     "name": "stdout",
     "output_type": "stream",
     "text": [
      "Final score: 175015740\n"
     ]
    }
   ],
   "source": [
    "# Instantiating a value to represent the final score\n",
    "final_score = 0\n",
    "\n",
    "# Iterating through each line in the computer memory\n",
    "for line in computer_memory:\n",
    "    \n",
    "    # Finding all matches with the regex pattern\n",
    "    matches = re.findall(regex_pattern, line)\n",
    "    \n",
    "    # Iterating through each match\n",
    "    for match in matches:\n",
    "        \n",
    "        # Getting the numbers in the match\n",
    "        match_nums = [int(num) for num in match[4:-1].split(',')]\n",
    "        \n",
    "        # Adding the product of the match numbers to the final score\n",
    "        final_score += math.prod(match_nums)\n",
    "        \n",
    "print(f'Final score: {final_score}')"
   ]
  },
  {
   "cell_type": "markdown",
   "metadata": {},
   "source": [
    "## Part 2\n",
    "\n",
    "As you scan through the corrupted memory, you notice that some of the conditional statements are also still intact. If you handle some of the uncorrupted conditional statements in the program, you might be able to get an even more accurate result.\n",
    "\n",
    "There are two new instructions you'll need to handle:\n",
    "\n",
    "- The do() instruction enables future mul instructions.\n",
    "- The don't() instruction disables future mul instructions.\n",
    "\n",
    "Only the most recent do() or don't() instruction applies. At the beginning of the program, mul instructions are enabled.\n",
    "\n",
    "For example:\n",
    "\n",
    "```\n",
    "xmul(2,4)&mul[3,7]!^don't()_mul(5,5)+mul(32,64](mul(11,8)undo()?mul(8,5))\n",
    "```\n",
    "\n",
    "This corrupted memory is similar to the example from before, but this time the mul(5,5) and mul(11,8) instructions are disabled because there is a don't() instruction before them. The other mul instructions function normally, including the one at the end that gets re-enabled by a do() instruction.\n",
    "\n",
    "This time, the sum of the results is 48 `(2*4 + 8*5)`.\n",
    "\n",
    "Handle the new instructions; what do you get if you add up all of the results of just the enabled multiplications?\n",
    "\n",
    "\n",
    "112508982 is too high\n"
   ]
  },
  {
   "cell_type": "code",
   "execution_count": 4,
   "metadata": {},
   "outputs": [],
   "source": [
    "# Loading the computer memory puzzle input from file\n",
    "with open('aoc-2024-day-03.txt') as f:\n",
    "    computer_memory = f.read().splitlines()\n",
    "    \n",
    "# Setting the sample data\n",
    "sample_data = '''xmul(2,4)&mul[3,7]!^don't()_mul(5,5)+mul(32,64](mul(11,8)undo()?mul(8,5))'''.splitlines()\n",
    "\n",
    "# Overwriting the input for testing  purposes\n",
    "# (Note: Comment this line out when teady to use full sample input)\n",
    "# computer_memory = sample_data"
   ]
  },
  {
   "cell_type": "code",
   "execution_count": 5,
   "metadata": {
    "trusted": true
   },
   "outputs": [],
   "source": [
    "# Setting a regex pattern for finding everything we need\n",
    "regex_pattern = r\"(?:mul\\((\\d+),(\\d+)\\))|(do\\(\\)|don't\\(\\))\""
   ]
  },
  {
   "cell_type": "code",
   "execution_count": 6,
   "metadata": {},
   "outputs": [
    {
     "name": "stdout",
     "output_type": "stream",
     "text": [
      "Final score: 112272912\n"
     ]
    }
   ],
   "source": [
    "# Instantiating a value to represent the final score\n",
    "final_score = 0\n",
    "\n",
    "# Instantiating a boolean to indicate do or don't\n",
    "is_do = True\n",
    "\n",
    "# Iterating through each line in the computer memory\n",
    "for line in computer_memory:\n",
    "\n",
    "    # Finding all matches with the regex pattern\n",
    "    matches = re.findall(regex_pattern, line)\n",
    "\n",
    "    # Iterating through all the matches\n",
    "    for match in matches:\n",
    "\n",
    "        # Updating the final score for any times where a match is found and is_do is True\n",
    "        if match[2] == \"\" and is_do:\n",
    "            final_score += int(match[0]) * int(match[1])\n",
    "\n",
    "        # Updating the is_do boolean\n",
    "        else:\n",
    "            if match[2] == \"do()\":\n",
    "                is_do = True\n",
    "            else:\n",
    "                is_do = False\n",
    "\n",
    "print(f'Final score: {final_score}')"
   ]
  }
 ],
 "metadata": {
  "kernelspec": {
   "display_name": "Python 3",
   "language": "python",
   "name": "python3"
  },
  "language_info": {
   "codemirror_mode": {
    "name": "ipython",
    "version": 3
   },
   "file_extension": ".py",
   "mimetype": "text/x-python",
   "name": "python",
   "nbconvert_exporter": "python",
   "pygments_lexer": "ipython3",
   "version": "3.11.10"
  }
 },
 "nbformat": 4,
 "nbformat_minor": 2
}
