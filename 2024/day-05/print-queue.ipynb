{
 "cells": [
  {
   "metadata": {},
   "cell_type": "markdown",
   "source": "# 2024 Day 5: Print Queue\n\n## Part 1\n\n\nSatisfied with their search on Ceres, the squadron of scholars suggests subsequently scanning the stationery stacks of sub-basement 17.\n\nThe North Pole printing department is busier than ever this close to Christmas, and while The Historians continue their search of this historically significant facility, an Elf operating a very familiar printer beckons you over.\n\nThe Elf must recognize you, because they waste no time explaining that the new sleigh launch safety manual updates won't print correctly. Failure to update the safety manuals would be dire indeed, so you offer your services.\n\nSafety protocols clearly indicate that new pages for the safety manuals must be printed in a very specific order. The notation X|Y means that if both page number X and page number Y are to be produced as part of an update, page number X must be printed at some point before page number Y.\n\nThe Elf has for you both the page ordering rules and the pages to produce in each update (your puzzle input), but can't figure out whether each update has the pages in the right order.\n\nFor example:\n\n```\n47|53\n97|13\n97|61\n97|47\n75|29\n61|13\n75|53\n29|13\n97|29\n53|29\n61|53\n97|53\n61|29\n47|13\n75|47\n97|75\n47|61\n75|61\n47|29\n75|13\n53|13\n\n75,47,61,53,29\n97,61,53,29,13\n75,29,13\n75,97,47,61,53\n61,13,29\n97,13,75,29,47\n```\n\nThe first section specifies the page ordering rules, one per line. The first rule, `47|53`, means that if an update includes both page number 47 and page number 53, then page number 47 must be printed at some point before page number 53. (47 doesn't necessarily need to be immediately before 53; other pages are allowed to be between them.)\n\nThe second section specifies the page numbers of each update. Because most safety manuals are different, the pages needed in the updates are different too. The first update, `75,47,61,53,29`, means that the update consists of page numbers 75, 47, 61, 53, and 29.\n\nTo get the printers going as soon as possible, start by identifying which updates are already in the right order.\n\nIn the above example, the first update `(75,47,61,53,29)` is in the right order:\n\n- 75 is correctly first because there are rules that put each other page after it: `75|47`, `75|61`, `75|53`, and `75|29`.\n- 47 is correctly second because 75 must be before it `(75|47)` and every other page must be after it according to 47|61, 47|53, and 47|29.\n- 61 is correctly in the middle because 75 and 47 are before it (`75|61` and `47|61`) and 53 and 29 are after it (`61|53` and `61|29`).\n- 53 is correctly fourth because it is before page number 29 (`53|29`).\n- 29 is the only page left and so is correctly last.\n\nBecause the first update does not include some page numbers, the ordering rules involving those missing page numbers are ignored.\n\nThe second and third updates are also in the correct order according to the rules. Like the first update, they also do not include every page number, and so only some of the ordering rules apply - within each update, the ordering rules that involve missing page numbers are not used.\n\nThe fourth update, `75,97,47,61,53`, is not in the correct order: it would print 75 before 97, which violates the rule 97|75.\n\nThe fifth update, `61,13,29`, is also not in the correct order, since it breaks the rule `29|13`.\n\nThe last update, `97,13,75,29,47`, is not in the correct order due to breaking several rules.\n\nFor some reason, the Elves also need to know the middle page number of each update being printed. Because you are currently only printing the correctly-ordered updates, you will need to find the middle page number of each correctly-ordered update. In the above example, the correctly-ordered updates are:\n\n```\n75,47,61,53,29\n97,61,53,29,13\n75,29,13\n```\n\nThese have middle page numbers of 61, 53, and 29 respectively. Adding these page numbers together gives 143.\n\nOf course, you'll need to be careful: the actual list of page ordering rules is bigger and more complicated than the above example.\n\nDetermine which updates are already in the correct order. What do you get if you add up the middle page number from those correctly-ordered updates?"
  },
  {
   "metadata": {
    "trusted": true
   },
   "cell_type": "code",
   "source": "# Loading the raw print instructions (puzzle input) from file\nwith open('aoc-2024-day-05.txt') as f:\n    raw_print_instructions = f.read().splitlines()\n    \n# Setting the sample data\nsample_data = '''47|53\n97|13\n97|61\n97|47\n75|29\n61|13\n75|53\n29|13\n97|29\n53|29\n61|53\n97|53\n61|29\n47|13\n75|47\n97|75\n47|61\n75|61\n47|29\n75|13\n53|13\n\n75,47,61,53,29\n97,61,53,29,13\n75,29,13\n75,97,47,61,53\n61,13,29\n97,13,75,29,47'''.splitlines()\n\n# Overwriting the input for testing  purposes\n# (Note: Comment this line out when teady to use full sample input)\n# raw_print_instructions = sample_data",
   "execution_count": 1,
   "outputs": []
  },
  {
   "metadata": {
    "trusted": true
   },
   "cell_type": "code",
   "source": "# Finding the empty string to split on\nsplit_pos = raw_print_instructions.index('')\n\n# Getting the raw print order rules and raw page updates\nraw_print_order_rules = raw_print_instructions[:split_pos]\nraw_page_updates = raw_print_instructions[split_pos + 1:]",
   "execution_count": 2,
   "outputs": []
  },
  {
   "metadata": {
    "trusted": true
   },
   "cell_type": "code",
   "source": "# Instantiating a list to hold the parsed print order rules\nprint_order_rules = []\n\n# Iterating over the raw print order rules\nfor rule in raw_print_order_rules:\n    \n    # Parsing the raw rule and adding it to the parsed list\n    print_order_rules.append((int(rule.split('|')[0]), int(rule.split('|')[1])))",
   "execution_count": 3,
   "outputs": []
  },
  {
   "metadata": {
    "trusted": true
   },
   "cell_type": "code",
   "source": "# Instantiating a list to hold the parsed page updates\npage_updates = []\n\n# Iterating through the raw page updates\nfor raw_page_update in raw_page_updates:\n    page_updates.append([int(page) for page in raw_page_update.split(',')])",
   "execution_count": 4,
   "outputs": []
  },
  {
   "metadata": {
    "trusted": true
   },
   "cell_type": "code",
   "source": "def check_correct_print_order(page_update, print_order_rules):\n    '''\n    Checking if the page update matches what is expected by the print order\n    \n    Inputs:\n        - page_update (list): The current order of page updates\n        - print_order_rules (list): The rules that dictate in which the pages should be printed\n    \n    Returns:\n        - (boolean): A boolean value indicating of the page update matches what is expected by the print order\n    '''\n    \n    # Instantiating a dictionary to represent an index of the pages in the current page update\n    page_update_index = {}\n    \n    # Adding all the current page update values to the page update index\n    for i, page in enumerate(page_update):\n        page_update_index[page] = i\n        \n    # Iterating through the rules\n    for page1, page2 in print_order_rules:\n        \n        # Checking if the page is in the expected order\n        if page1 in page_update_index and page2 in page_update_index and not page_update_index[page1] < page_update_index[page2]:\n            return False\n        \n    return True",
   "execution_count": 5,
   "outputs": []
  },
  {
   "metadata": {
    "trusted": true
   },
   "cell_type": "code",
   "source": "# Instantiating a value to represent the sum of the middle page values\nsum_middle_page_vals = 0\n\n# Iterating through the page updates\nfor page_update in page_updates:\n    \n    # Checking if the page update matches the print order\n    if check_correct_print_order(page_update, print_order_rules):\n        \n        # Incrementing the sum of the middle page values with the middle page of the current list\n        sum_middle_page_vals += page_update[len(page_update) // 2]\n        \nprint(f'Final sum of middle page values: {sum_middle_page_vals}')",
   "execution_count": 6,
   "outputs": [
    {
     "output_type": "stream",
     "text": "Final sum of middle page values: 4766\n",
     "name": "stdout"
    }
   ]
  },
  {
   "metadata": {},
   "cell_type": "markdown",
   "source": "## Part 2\n\nWhile the Elves get to work printing the correctly-ordered updates, you have a little time to fix the rest of them.\n\nFor each of the incorrectly-ordered updates, use the page ordering rules to put the page numbers in the right order. For the above example, here are the three incorrectly-ordered updates and their correct orderings:\n\n- `75,97,47,61,53` becomes `97,75,47,61,53`.\n- `61,13,29` becomes `61,29,13`.\n- `97,13,75,29,47` becomes `97,75,47,29,13`.\n\nAfter taking only the incorrectly-ordered updates and ordering them correctly, their middle page numbers are 47, 29, and 47. Adding these together produces 123.\n\nFind the updates which are not in the correct order. What do you get if you add up the middle page numbers after correctly ordering just those updates?"
  },
  {
   "metadata": {
    "trusted": true
   },
   "cell_type": "code",
   "source": "def correct_page_sorting(page_update, print_order_rules):\n    '''\n    Correctly sorts any page updates that are currently incorrectly ordered\n    \n    Inputs:\n        - page_update (list): The current order of page updates\n        - print_order_rules (list): The rules that dictate in which the pages should be printed\n        \n    Returns:\n        - page_update (list): The corrected page update sorting\n    '''\n    while True:\n        is_sorted = True\n        for i in range(len(page_update) - 1):\n            \n            if (page_update[i + 1], page_update[i]) in print_order_rules:\n                is_sorted = False\n                page_update[i], page_update[i + 1] = page_update[i + 1], page_update[i]\n                \n        \n        if is_sorted:\n            return page_update",
   "execution_count": 7,
   "outputs": []
  },
  {
   "metadata": {
    "trusted": true
   },
   "cell_type": "code",
   "source": "# Instantiating a value to represent the sum of the middle page values\nsum_middle_page_vals = 0\n\n# Iterating through the page updates\nfor page_update in page_updates:\n    \n    # Checking if the page update matches the print order\n    if not check_correct_print_order(page_update, print_order_rules):\n        \n        # Correcting the incorrectly ordered page updates\n        corrected_page_update = correct_page_sorting(page_update, print_order_rules)\n        # Incrementing the sum of the middle page values with the middle page of the current list\n        sum_middle_page_vals += corrected_page_update[len(page_update) // 2]\n        \nprint(f'Final sum of middle page values: {sum_middle_page_vals}')",
   "execution_count": 8,
   "outputs": [
    {
     "output_type": "stream",
     "text": "Final sum of middle page values: 6257\n",
     "name": "stdout"
    }
   ]
  },
  {
   "metadata": {
    "trusted": true
   },
   "cell_type": "code",
   "source": "",
   "execution_count": null,
   "outputs": []
  }
 ],
 "metadata": {
  "kernelspec": {
   "name": "python3",
   "display_name": "Python 3",
   "language": "python"
  },
  "language_info": {
   "name": "python",
   "version": "3.10.4",
   "mimetype": "text/x-python",
   "codemirror_mode": {
    "name": "ipython",
    "version": 3
   },
   "pygments_lexer": "ipython3",
   "nbconvert_exporter": "python",
   "file_extension": ".py"
  }
 },
 "nbformat": 4,
 "nbformat_minor": 2
}