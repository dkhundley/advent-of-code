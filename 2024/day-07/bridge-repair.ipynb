{
 "cells": [
  {
   "cell_type": "markdown",
   "metadata": {
    "trusted": false
   },
   "source": [
    "# 2024 Day 7: Bridge Repair\n",
    "\n",
    "## Part 1\n",
    "\n",
    "\n",
    "The Historians take you to a familiar rope bridge over a river in the middle of a jungle. The Chief isn't on this side of the bridge, though; maybe he's on the other side?\n",
    "\n",
    "When you go to cross the bridge, you notice a group of engineers trying to repair it. (Apparently, it breaks pretty frequently.) You won't be able to cross until it's fixed.\n",
    "\n",
    "You ask how long it'll take; the engineers tell you that it only needs final calibrations, but some young elephants were playing nearby and stole all the operators from their calibration equations! They could finish the calibrations if only someone could determine which test values could possibly be produced by placing any combination of operators into their calibration equations (your puzzle input).\n",
    "\n",
    "For example:\n",
    "\n",
    "```\n",
    "190: 10 19\n",
    "3267: 81 40 27\n",
    "83: 17 5\n",
    "156: 15 6\n",
    "7290: 6 8 6 15\n",
    "161011: 16 10 13\n",
    "192: 17 8 14\n",
    "21037: 9 7 18 13\n",
    "292: 11 6 16 20\n",
    "```\n",
    "\n",
    "Each line represents a single equation. The test value appears before the colon on each line; it is your job to determine whether the remaining numbers can be combined with operators to produce the test value.\n",
    "\n",
    "Operators are always evaluated left-to-right, not according to precedence rules. Furthermore, numbers in the equations cannot be rearranged. Glancing into the jungle, you can see elephants holding two different types of operators: add (+) and multiply (*).\n",
    "\n",
    "Only three of the above equations can be made true by inserting operators:\n",
    "\n",
    "- 190: 10 19 has only one position that accepts an operator: between 10 and 19. Choosing + would give 29, but choosing * would give the test value (10 * 19 = 190).\n",
    "- 3267: 81 40 27 has two positions for operators. Of the four possible configurations of the operators, two cause the right side to match the test value: 81 + 40 * 27 and 81 * 40 + 27 both equal 3267 (when evaluated left-to-right)!\n",
    "- 292: 11 6 16 20 can be solved in exactly one way: 11 + 6 * 16 + 20.\n",
    "\n",
    "The engineers just need the total calibration result, which is the sum of the test values from just the equations that could possibly be true. In the above example, the sum of the test values for the three equations listed above is 3749.\n",
    "\n",
    "Determine which equations could possibly be true. What is their total calibration result?"
   ]
  },
  {
   "cell_type": "code",
   "execution_count": 16,
   "metadata": {
    "trusted": true
   },
   "outputs": [],
   "source": [
    "# Loading the calibration equations (puzzle input) from file\n",
    "with open('aoc-2024-day-07.txt') as f:\n",
    "    calibration_equations = f.read().splitlines()\n",
    "    \n",
    "# Setting the sample data\n",
    "sample_data = '''190: 10 19\n",
    "3267: 81 40 27\n",
    "83: 17 5\n",
    "156: 15 6\n",
    "7290: 6 8 6 15\n",
    "161011: 16 10 13\n",
    "192: 17 8 14\n",
    "21037: 9 7 18 13\n",
    "292: 11 6 16 20'''.splitlines()\n",
    "\n",
    "# Overwriting the input for testing  purposes\n",
    "# (Note: Comment this line out when teady to use full sample input)\n",
    "# calibration_equations = sample_data"
   ]
  },
  {
   "cell_type": "code",
   "execution_count": 18,
   "metadata": {},
   "outputs": [],
   "source": [
    "import itertools\n",
    "\n",
    "def count_expressions_that_match(numbers, target):\n",
    "    '''\n",
    "    Counts the number of ways to insert + or * between the numbers\n",
    "    such that the left-to-right evaluation equals target.\n",
    "    \n",
    "    Inputs:\n",
    "        - numbers (list): List of integers to be combined with operators\n",
    "        - target (int): The target value to achieve\n",
    "        \n",
    "    Returns:\n",
    "        - count (int): Number of valid expressions that evaluate to target\n",
    "    '''\n",
    "    # Edge case: if there's only one number, just check if it equals target\n",
    "    if len(numbers) == 1:\n",
    "        return 1 if numbers[0] == target else 0\n",
    "\n",
    "    count = 0\n",
    "    # Generate all possible operator sequences of length (len(numbers) - 1)\n",
    "    for ops in itertools.product(['+', '*'], repeat=len(numbers) - 1):\n",
    "        # Evaluate left to right\n",
    "        result = numbers[0]\n",
    "        for i in range(1, len(numbers)):\n",
    "            if ops[i-1] == '+':\n",
    "                result += numbers[i]\n",
    "            else:  # ops[i-1] == '*'\n",
    "                result *= numbers[i]\n",
    "        # Check if this expression's value matches the target\n",
    "        if result == target:\n",
    "            count += 1\n",
    "    return count"
   ]
  },
  {
   "cell_type": "code",
   "execution_count": 19,
   "metadata": {},
   "outputs": [
    {
     "name": "stdout",
     "output_type": "stream",
     "text": [
      "Total number of possible combinations: 267566105056\n"
     ]
    }
   ],
   "source": [
    "# Instantiating a variable to store the total number of possible combinations\n",
    "possible_combinations = 0\n",
    "\n",
    "# Iterating over each of the calibration equations\n",
    "for calibration_equation in calibration_equations:\n",
    "    \n",
    "    # Parsing the target value and the list of numbers from the calibration equation\n",
    "    target = int(calibration_equation.split(':')[0])\n",
    "    numbers = list(map(int, calibration_equation.split(':')[1].split()))\n",
    "\n",
    "    # Adding the number of possible combinations to the total\n",
    "    possible_combinations += (target if count_expressions_that_match(numbers, target) > 0 else 0)\n",
    "\n",
    "print('Total number of possible combinations:', possible_combinations)"
   ]
  },
  {
   "cell_type": "markdown",
   "metadata": {},
   "source": [
    "## Part 2\n",
    "\n",
    "The engineers seem concerned; the total calibration result you gave them is nowhere close to being within safety tolerances. Just then, you spot your mistake: some well-hidden elephants are holding a third type of operator.\n",
    "\n",
    "The concatenation operator (||) combines the digits from its left and right inputs into a single number. For example, 12 || 345 would become 12345. All operators are still evaluated left-to-right.\n",
    "\n",
    "Now, apart from the three equations that could be made true using only addition and multiplication, the above example has three more equations that can be made true by inserting operators:\n",
    "\n",
    "- 156: 15 6 can be made true through a single concatenation: 15 || 6 = 156.\n",
    "- 7290: 6 8 6 15 can be made true using 6 * 8 || 6 * 15.\n",
    "- 192: 17 8 14 can be made true using 17 || 8 + 14.\n",
    "\n",
    "Adding up all six test values (the three that could be made before using only + and * plus the new three that can now be made by also using ||) produces the new total calibration result of 11387.\n",
    "\n",
    "Using your new knowledge of elephant hiding spots, determine which equations could possibly be true. What is their total calibration result?"
   ]
  },
  {
   "cell_type": "code",
   "execution_count": 21,
   "metadata": {},
   "outputs": [],
   "source": [
    "def count_expressions_that_match(numbers, target):\n",
    "    '''\n",
    "    Counts the number of ways to insert +, *, or || between the numbers\n",
    "    such that the left-to-right evaluation equals target.\n",
    "    \n",
    "    Inputs:\n",
    "        - numbers (list): List of integers to be combined with operators\n",
    "        - target (int): The target value to achieve\n",
    "        \n",
    "    Returns:\n",
    "        - count (int): Number of valid expressions that evaluate to target\n",
    "    '''\n",
    "    # Edge case: if there's only one number, just check if it equals target\n",
    "    if len(numbers) == 1:\n",
    "        return 1 if numbers[0] == target else 0\n",
    "\n",
    "    count = 0\n",
    "    # Generate all possible operator sequences of length (len(numbers) - 1)\n",
    "    for ops in itertools.product(['+', '*', '||'], repeat=len(numbers) - 1):\n",
    "        # Evaluate left to right\n",
    "        result = numbers[0]\n",
    "        for i in range(1, len(numbers)):\n",
    "            if ops[i-1] == '+':\n",
    "                result += numbers[i]\n",
    "            elif ops[i-1] == '*':\n",
    "                result *= numbers[i]\n",
    "            else:  # ops[i-1] == '||'\n",
    "                # Convert both numbers to strings, concatenate, then back to int\n",
    "                result = int(str(result) + str(numbers[i]))\n",
    "        # Check if this expression's value matches the target\n",
    "        if result == target:\n",
    "            count += 1\n",
    "    return count"
   ]
  },
  {
   "cell_type": "code",
   "execution_count": 22,
   "metadata": {},
   "outputs": [
    {
     "name": "stdout",
     "output_type": "stream",
     "text": [
      "Total number of possible combinations: 116094961956019\n"
     ]
    }
   ],
   "source": [
    "# Instantiating a variable to store the total number of possible combinations\n",
    "possible_combinations = 0\n",
    "\n",
    "# Iterating over each of the calibration equations\n",
    "for calibration_equation in calibration_equations:\n",
    "    \n",
    "    # Parsing the target value and the list of numbers from the calibration equation\n",
    "    target = int(calibration_equation.split(':')[0])\n",
    "    numbers = list(map(int, calibration_equation.split(':')[1].split()))\n",
    "\n",
    "    # Adding the number of possible combinations to the total\n",
    "    possible_combinations += (target if count_expressions_that_match(numbers, target) > 0 else 0)\n",
    "\n",
    "print('Total number of possible combinations:', possible_combinations)"
   ]
  },
  {
   "cell_type": "code",
   "execution_count": null,
   "metadata": {},
   "outputs": [],
   "source": []
  }
 ],
 "metadata": {
  "kernelspec": {
   "display_name": "Python 3",
   "language": "python",
   "name": "python3"
  },
  "language_info": {
   "codemirror_mode": {
    "name": "ipython",
    "version": 3
   },
   "file_extension": ".py",
   "mimetype": "text/x-python",
   "name": "python",
   "nbconvert_exporter": "python",
   "pygments_lexer": "ipython3",
   "version": "3.11.9"
  }
 },
 "nbformat": 4,
 "nbformat_minor": 2
}
