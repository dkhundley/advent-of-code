{
 "cells": [
  {
   "metadata": {},
   "cell_type": "markdown",
   "source": "# 2024 Day 1: Historian Hysteria\n\n## Part 1\nThe Chief Historian is always present for the big Christmas sleigh launch, but nobody has seen him in months! Last anyone heard, he was visiting locations that are historically significant to the North Pole; a group of Senior Historians has asked you to accompany them as they check the places they think he was most likely to visit.\n\nAs each location is checked, they will mark it on their list with a star. They figure the Chief Historian must be in one of the first fifty places they'll look, so in order to save Christmas, you need to help them get fifty stars on their list before Santa takes off on December 25th.\n\nCollect stars by solving puzzles. Two puzzles will be made available on each day in the Advent calendar; the second puzzle is unlocked when you complete the first. Each puzzle grants one star. Good luck!\n\nYou haven't even left yet and the group of Elvish Senior Historians has already hit a problem: their list of locations to check is currently empty. Eventually, someone decides that the best place to check first would be the Chief Historian's office.\n\nUpon pouring into the office, everyone confirms that the Chief Historian is indeed nowhere to be found. Instead, the Elves discover an assortment of notes and lists of historically significant locations! This seems to be the planning the Chief Historian was doing before he left. Perhaps these notes can be used to determine which locations to search?\n\nThroughout the Chief's office, the historically significant locations are listed not by name but by a unique number called the location ID. To make sure they don't miss anything, The Historians split into two groups, each searching the office and trying to create their own complete list of location IDs.\n\nThere's just one problem: by holding the two lists up side by side (your puzzle input), it quickly becomes clear that the lists aren't very similar. Maybe you can help The Historians reconcile their lists?\n\nFor example:\n```\n3   4\n4   3\n2   5\n1   3\n3   9\n3   3\n```\nMaybe the lists are only off by a small amount! To find out, pair up the numbers and measure how far apart they are. Pair up the smallest number in the left list with the smallest number in the right list, then the second-smallest left number with the second-smallest right number, and so on.\n\nWithin each pair, figure out how far apart the two numbers are; you'll need to add up all of those distances. For example, if you pair up a 3 from the left list with a 7 from the right list, the distance apart is 4; if you pair up a 9 with a 3, the distance apart is 6.\n\nIn the example list above, the pairs and distances would be as follows:\n\n- The smallest number in the left list is 1, and the smallest number in the right list is 3. The distance between them is 2.\n- The second-smallest number in the left list is 2, and the second-smallest number in the right list is another 3. The distance between them is 1.\n- The third-smallest number in both lists is 3, so the distance between them is 0.\nThe next numbers to pair up are 3 and 4, a distance of 1.\n- The fifth-smallest numbers in each list are 3 and 5, a distance of 2.\n- Finally, the largest number in the left list is 4, while the largest number in the right list is 9; these are a distance 5 apart.\n\nTo find the total distance between the left list and the right list, add up the distances between all of the pairs you found. In the example above, this is 2 + 1 + 0 + 1 + 2 + 5, a total distance of 11!\n\nYour actual left and right lists contain many location IDs. What is the total distance between your lists?"
  },
  {
   "metadata": {
    "trusted": true
   },
   "cell_type": "code",
   "source": "# Loading the puzzle input from file\nwith open('aoc-2024-day-01.txt') as f:\n    raw_location_id_pairs = f.read().splitlines()\n    \n# Setting the sample data\nsample_data = '''3   4\n4   3\n2   5\n1   3\n3   9\n3   3'''.splitlines()\n\n# Overwriting the input for  testing  purposes\n# (Note: Comment this line out when teady to use full sample input)\n# raw_location_id_pairs = sample_data",
   "execution_count": 1,
   "outputs": []
  },
  {
   "metadata": {
    "trusted": true
   },
   "cell_type": "code",
   "source": "# Parsing the raw location ID pairs\nlocation_id_pairs = []\nfor pair in raw_location_id_pairs:\n    location_id_pairs.append([int(location_id) for location_id in pair.split()])",
   "execution_count": 2,
   "outputs": []
  },
  {
   "metadata": {
    "trusted": true
   },
   "cell_type": "code",
   "source": "# Instantiating thr left and right lists\nleft_list = []\nright_list = []\n\n# Populating the left and right lists\nfor pair in location_id_pairs:\n    left_list.append(pair[0])\n    right_list.append(pair[1])",
   "execution_count": 3,
   "outputs": []
  },
  {
   "metadata": {
    "trusted": true
   },
   "cell_type": "code",
   "source": "# Sorting the left and right lists in ascending order\nleft_list.sort()\nright_list.sort()",
   "execution_count": 4,
   "outputs": []
  },
  {
   "metadata": {
    "trusted": true
   },
   "cell_type": "code",
   "source": "# Initializing a value to represent the sum of the distances\ndistances_sum = 0\n\n# Iterating over the sorted pairs\nfor i in range(len(left_list)):\n    distances_sum += (abs(left_list[i] - right_list[i]))\n    \nprint(f'Sum of the distances: {distances_sum}')",
   "execution_count": 5,
   "outputs": [
    {
     "output_type": "stream",
     "text": "Sum of the distances: 936063\n",
     "name": "stdout"
    }
   ]
  },
  {
   "metadata": {},
   "cell_type": "markdown",
   "source": "## Part 2\n\nYour analysis only confirmed what everyone feared: the two lists of location IDs are indeed very different.\n\nOr are they?\n\nThe Historians can't agree on which group made the mistakes or how to read most of the Chief's handwriting, but in the commotion you notice an interesting detail: a lot of location IDs appear in both lists! Maybe the other numbers aren't location IDs at all but rather misinterpreted handwriting.\n\nThis time, you'll need to figure out exactly how often each number from the left list appears in the right list. Calculate a total similarity score by adding up each number in the left list after multiplying it by the number of times that number appears in the right list.\n\nHere are the same example lists again:\n```\n3   4\n4   3\n2   5\n1   3\n3   9\n3   3\n```\n\nFor these example lists, here is the process of finding the similarity score:\n\n- The first number in the left list is 3. It appears in the right list three times, so the similarity score increases by 3 * 3 = 9.\n- The second number in the left list is 4. It appears in the right list once, so the similarity score increases by 4 * 1 = 4.\n- The third number in the left list is 2. It does not appear in the right list, so the similarity score does not increase (2 * 0 = 0).\n- The fourth number, 1, also does not appear in the right list.\n- The fifth number, 3, appears in the right list three times; the similarity score increases by 9.\n- The last number, 3, appears in the right list three times; the similarity score again increases by 9.\n\nSo, for these example lists, the similarity score at the end of this process is 31 (9 + 4 + 0 + 0 + 9 + 9).\n\nOnce again consider your left and right lists. What is their similarity score?"
  },
  {
   "metadata": {
    "trusted": true
   },
   "cell_type": "code",
   "source": "# Instantiatiang the similarity score\nsimilarity_score = 0\n\n# Iterating over the values of the left list\nfor left_num in left_list:\n    \n    # Incrementing the similarity score by the appropriate calculation \n    similarity_score += left_num * right_list.count(left_num)\n\nprint(f'Similariry score: {similarity_score}')",
   "execution_count": 6,
   "outputs": [
    {
     "output_type": "stream",
     "text": "Similariry score: 23150395\n",
     "name": "stdout"
    }
   ]
  },
  {
   "metadata": {
    "trusted": true
   },
   "cell_type": "code",
   "source": "",
   "execution_count": null,
   "outputs": []
  }
 ],
 "metadata": {
  "kernelspec": {
   "name": "python3",
   "display_name": "Python 3",
   "language": "python"
  },
  "language_info": {
   "name": "python",
   "version": "3.10.4",
   "mimetype": "text/x-python",
   "codemirror_mode": {
    "name": "ipython",
    "version": 3
   },
   "pygments_lexer": "ipython3",
   "nbconvert_exporter": "python",
   "file_extension": ".py"
  }
 },
 "nbformat": 4,
 "nbformat_minor": 2
}