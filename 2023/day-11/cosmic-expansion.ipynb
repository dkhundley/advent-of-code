{
 "cells": [
  {
   "cell_type": "markdown",
   "metadata": {},
   "source": [
    "# 2023 Day 10: Cosmic Expansion\n",
    "\n",
    "## Part 1\n",
    "\n",
    "You continue following signs for \"Hot Springs\" and eventually come across an observatory. The Elf within turns out to be a researcher studying cosmic expansion using the giant telescope here.\n",
    "\n",
    "He doesn't know anything about the missing machine parts; he's only visiting for this research project. However, he confirms that the hot springs are the next-closest area likely to have people; he'll even take you straight there once he's done with today's observation analysis.\n",
    "\n",
    "Maybe you can help him with the analysis to speed things up?\n",
    "\n",
    "The researcher has collected a bunch of data and compiled the data into a single giant image (your puzzle input). The image includes empty space (.) and galaxies (#). For example:\n",
    "\n",
    "```\n",
    "...#......\n",
    ".......#..\n",
    "#.........\n",
    "..........\n",
    "......#...\n",
    ".#........\n",
    ".........#\n",
    "..........\n",
    ".......#..\n",
    "#...#.....\n",
    "```\n",
    "\n",
    "The researcher is trying to figure out the sum of the lengths of the shortest path between every pair of galaxies. However, there's a catch: the universe expanded in the time it took the light from those galaxies to reach the observatory.\n",
    "\n",
    "Due to something involving gravitational effects, only some space expands. In fact, the result is that any rows or columns that contain no galaxies should all actually be twice as big.\n",
    "\n",
    "In the above example, three columns and two rows contain no galaxies:\n",
    "\n",
    "```\n",
    "   v  v  v\n",
    " ...#......\n",
    " .......#..\n",
    " #.........\n",
    ">..........<\n",
    " ......#...\n",
    " .#........\n",
    " .........#\n",
    ">..........<\n",
    " .......#..\n",
    " #...#.....\n",
    "   ^  ^  ^\n",
    "```\n",
    "\n",
    "These rows and columns need to be twice as big; the result of cosmic expansion therefore looks like this:\n",
    "\n",
    "```\n",
    "....#........\n",
    ".........#...\n",
    "#............\n",
    ".............\n",
    ".............\n",
    "........#....\n",
    ".#...........\n",
    "............#\n",
    ".............\n",
    ".............\n",
    ".........#...\n",
    "#....#.......\n",
    "```\n",
    "\n",
    "Equipped with this expanded universe, the shortest path between every pair of galaxies can be found. It can help to assign every galaxy a unique number:\n",
    "\n",
    "```\n",
    "....1........\n",
    ".........2...\n",
    "3............\n",
    ".............\n",
    ".............\n",
    "........4....\n",
    ".5...........\n",
    "............6\n",
    ".............\n",
    ".............\n",
    ".........7...\n",
    "8....9.......\n",
    "```\n",
    "\n",
    "In these 9 galaxies, there are 36 pairs. Only count each pair once; order within the pair doesn't matter. For each pair, find any shortest path between the two galaxies using only steps that move up, down, left, or right exactly one . or # at a time. (The shortest path between two galaxies is allowed to pass through another galaxy.)\n",
    "\n",
    "For example, here is one of the shortest paths between galaxies 5 and 9:\n",
    "\n",
    "```\n",
    "....1........\n",
    ".........2...\n",
    "3............\n",
    ".............\n",
    ".............\n",
    "........4....\n",
    ".5...........\n",
    ".##.........6\n",
    "..##.........\n",
    "...##........\n",
    "....##...7...\n",
    "8....9.......\n",
    "```\n",
    "\n",
    "This path has length 9 because it takes a minimum of nine steps to get from galaxy 5 to galaxy 9 (the eight locations marked # plus the step onto galaxy 9 itself). Here are some other example shortest path lengths:\n",
    "\n",
    "- Between galaxy 1 and galaxy 7: 15\n",
    "- Between galaxy 3 and galaxy 6: 17\n",
    "- Between galaxy 8 and galaxy 9: 5\n",
    "\n",
    "In this example, after expanding the universe, the sum of the shortest path between all 36 pairs of galaxies is 374.\n",
    "\n",
    "Expand the universe, then find the length of the shortest path between every pair of galaxies. What is the sum of these lengths?"
   ]
  },
  {
   "cell_type": "code",
   "execution_count": 1,
   "metadata": {},
   "outputs": [],
   "source": [
    "# Loading the galaxy map (puzzle input) from file\n",
    "with open('aoc-2023-day-11.txt', 'r') as f:\n",
    "    galaxy_map = f.read().splitlines()\n",
    "\n",
    "# Setting up the sample data\n",
    "sample_data = '''...#......\n",
    ".......#..\n",
    "#.........\n",
    "..........\n",
    "......#...\n",
    ".#........\n",
    ".........#\n",
    "..........\n",
    ".......#..\n",
    "#...#.....'''.splitlines()\n",
    "\n",
    "# Overwriting the galaxy map with the sample data for testing\n",
    "galaxy_map = sample_data"
   ]
  },
  {
   "cell_type": "code",
   "execution_count": 15,
   "metadata": {},
   "outputs": [
    {
     "data": {
      "text/plain": [
       "{1: (0, 3),\n",
       " 2: (1, 7),\n",
       " 3: (2, 0),\n",
       " 4: (4, 6),\n",
       " 5: (5, 1),\n",
       " 6: (6, 9),\n",
       " 7: (8, 7),\n",
       " 8: (9, 0),\n",
       " 9: (9, 4)}"
      ]
     },
     "execution_count": 15,
     "metadata": {},
     "output_type": "execute_result"
    }
   ],
   "source": [
    "# Getting the galaxy locations\n",
    "galaxy_locations = {}\n",
    "galaxy_counter = 1\n",
    "for i, line in enumerate(galaxy_map):\n",
    "    for j, char in enumerate(line):\n",
    "        if char == '#':\n",
    "            galaxy_locations[galaxy_counter] = (i, j)\n",
    "            galaxy_counter += 1\n",
    "\n",
    "galaxy_locations"
   ]
  },
  {
   "cell_type": "code",
   "execution_count": 21,
   "metadata": {},
   "outputs": [
    {
     "name": "stdout",
     "output_type": "stream",
     "text": [
      "Point A: (0, 3)\n",
      "Point B: (8, 7)\n",
      "Manhattan distance: 12\n"
     ]
    }
   ],
   "source": [
    "point_a = galaxy_locations[1]\n",
    "point_b = galaxy_locations[7]\n",
    "\n",
    "print(f'Point A: {point_a}')\n",
    "print(f'Point B: {point_b}')\n",
    "\n",
    "# Calculating the Manhattan distance between the two points\n",
    "manhattan_distance = abs(point_a[0] - point_b[0]) + abs(point_a[1] - point_b[1])\n",
    "print(f'Manhattan distance: {manhattan_distance}')"
   ]
  },
  {
   "cell_type": "code",
   "execution_count": 9,
   "metadata": {},
   "outputs": [
    {
     "name": "stdout",
     "output_type": "stream",
     "text": [
      "5\n"
     ]
    }
   ],
   "source": [
    "print(point5[0])"
   ]
  },
  {
   "cell_type": "code",
   "execution_count": null,
   "metadata": {},
   "outputs": [
    {
     "name": "stdout",
     "output_type": "stream",
     "text": [
      "374\n"
     ]
    }
   ],
   "source": []
  },
  {
   "cell_type": "code",
   "execution_count": null,
   "metadata": {},
   "outputs": [],
   "source": []
  }
 ],
 "metadata": {
  "kernelspec": {
   "display_name": "Python 3",
   "language": "python",
   "name": "python3"
  },
  "language_info": {
   "codemirror_mode": {
    "name": "ipython",
    "version": 3
   },
   "file_extension": ".py",
   "mimetype": "text/x-python",
   "name": "python",
   "nbconvert_exporter": "python",
   "pygments_lexer": "ipython3",
   "version": "3.11.10"
  }
 },
 "nbformat": 4,
 "nbformat_minor": 2
}
