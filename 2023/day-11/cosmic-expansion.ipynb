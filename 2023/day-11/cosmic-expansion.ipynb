{
 "cells": [
  {
   "metadata": {},
   "cell_type": "markdown",
   "source": "# 2023 Day 11: Cosmic Expansion\n\n## Part 1\n\nYou continue following signs for \"Hot Springs\" and eventually come across an observatory. The Elf within turns out to be a researcher studying cosmic expansion using the giant telescope here.\n\nHe doesn't know anything about the missing machine parts; he's only visiting for this research project. However, he confirms that the hot springs are the next-closest area likely to have people; he'll even take you straight there once he's done with today's observation analysis.\n\nMaybe you can help him with the analysis to speed things up?\n\nThe researcher has collected a bunch of data and compiled the data into a single giant image (your puzzle input). The image includes empty space (.) and galaxies (#). For example:\n\n```\n...#......\n.......#..\n#.........\n..........\n......#...\n.#........\n.........#\n..........\n.......#..\n#...#.....\n```\n\nThe researcher is trying to figure out the sum of the lengths of the shortest path between every pair of galaxies. However, there's a catch: the universe expanded in the time it took the light from those galaxies to reach the observatory.\n\nDue to something involving gravitational effects, only some space expands. In fact, the result is that any rows or columns that contain no galaxies should all actually be twice as big.\n\nIn the above example, three columns and two rows contain no galaxies:\n\n```\n   v  v  v\n ...#......\n .......#..\n #.........\n>..........<\n ......#...\n .#........\n .........#\n>..........<\n .......#..\n #...#.....\n   ^  ^  ^\n```\n\nThese rows and columns need to be twice as big; the result of cosmic expansion therefore looks like this:\n\n```\n....#........\n.........#...\n#............\n.............\n.............\n........#....\n.#...........\n............#\n.............\n.............\n.........#...\n#....#.......\n```\n\nEquipped with this expanded universe, the shortest path between every pair of galaxies can be found. It can help to assign every galaxy a unique number:\n\n```\n....1........\n.........2...\n3............\n.............\n.............\n........4....\n.5...........\n............6\n.............\n.............\n.........7...\n8....9.......\n```\n\nIn these 9 galaxies, there are 36 pairs. Only count each pair once; order within the pair doesn't matter. For each pair, find any shortest path between the two galaxies using only steps that move up, down, left, or right exactly one . or # at a time. (The shortest path between two galaxies is allowed to pass through another galaxy.)\n\nFor example, here is one of the shortest paths between galaxies 5 and 9:\n\n```\n....1........\n.........2...\n3............\n.............\n.............\n........4....\n.5...........\n.##.........6\n..##.........\n...##........\n....##...7...\n8....9.......\n```\n\nThis path has length 9 because it takes a minimum of nine steps to get from galaxy 5 to galaxy 9 (the eight locations marked # plus the step onto galaxy 9 itself). Here are some other example shortest path lengths:\n\n- Between galaxy 1 and galaxy 7: 15\n- Between galaxy 3 and galaxy 6: 17\n- Between galaxy 8 and galaxy 9: 5\n\nIn this example, after expanding the universe, the sum of the shortest path between all 36 pairs of galaxies is 374.\n\nExpand the universe, then find the length of the shortest path between every pair of galaxies. What is the sum of these lengths?"
  },
  {
   "metadata": {
    "trusted": true
   },
   "cell_type": "code",
   "source": "# Loading the galaxy map (puzzle input) from file\nwith open('aoc-2023-day-11.txt', 'r') as f:\n    galaxy_map = f.read().splitlines()\n\n# Setting up the sample data\nsample_data = '''...#......\n.......#..\n#.........\n..........\n......#...\n.#........\n.........#\n..........\n.......#..\n#...#.....'''.splitlines()\n\n# Overwriting the galaxy map with the sample data for testing\n# galaxy_map = sample_data",
   "execution_count": 1,
   "outputs": []
  },
  {
   "metadata": {
    "trusted": true
   },
   "cell_type": "code",
   "source": "# Getting the galaxy locations\ngalaxy_locations = {}\ngalaxy_counter = 0\nfor i, line in enumerate(galaxy_map):\n    for j, char in enumerate(line):\n        if char == '#':\n            galaxy_locations[galaxy_counter] = (i, j)\n            galaxy_counter += 1",
   "execution_count": 2,
   "outputs": []
  },
  {
   "metadata": {
    "trusted": true
   },
   "cell_type": "code",
   "source": "# Instantiating lists to hold the empty rows and columns\nempty_rows = []\nempty_columns = []\n\n# Finding all the empty rows\nfor i, row in enumerate(galaxy_map):\n    if all(char == '.' for char in row):\n        empty_rows.append(i)\n        \n# Finding all the empty columns\nfor j in range(len(galaxy_map[0])):\n    is_empty = True\n    for row in galaxy_map:\n        if row[j] != '.':\n            is_empty = False\n            break\n    if is_empty:\n        empty_columns.append(j)\n    \nprint(f'Empty rows: {empty_rows}')\nprint(f'Empty columns: {empty_columns}')",
   "execution_count": 3,
   "outputs": [
    {
     "output_type": "stream",
     "text": "Empty rows: [16, 19, 30, 34, 60, 63, 72, 75, 115, 119, 135]\nEmpty columns: [26, 51, 53, 78, 84, 91, 111]\n",
     "name": "stdout"
    }
   ]
  },
  {
   "metadata": {
    "trusted": true
   },
   "cell_type": "code",
   "source": "def calculate_galaxy_distances(galaxy_locations, empty_rows, empty_columns, empty_galaxy_distance = 2):\n    '''\n    Calculates the distance between galaxies\n    \n    Inputs:\n        - galaxy_locations (dict): A dictionary noting the location of all the galaxies\n        - empty_rows (list): A list of the empty rows in space\n        - empty_columns (list): A list of empty columns in space\n        - empty_galaxy_distance (int): The distance of empty galaxy rows / columns\n        \n    Returns:\n        - final_distance (int): The final distance\n    '''\n    \n    # Instantiating a value to represent the final distance\n    final_distance = 0\n    \n    # Iterating over each of the galaxies\n    for i in range(len(galaxy_locations)):\n        \n        # Getting the current galaxy number and coordinates\n        current_galaxy_num = i\n        current_galaxy_coords = galaxy_locations[i]\n        \n        # Iterating through the galaxies to compare distances\n        for j in range(i + 1, len(galaxy_locations)):\n            \n            # Getting the far galaxy number and coordinates\n            far_galaxy_num = j\n            far_galaxy_coords = galaxy_locations[far_galaxy_num]\n    \n            # Calculating the manhattan distance between the current and far galaxies\n            galaxy_distance = abs(current_galaxy_coords[0] - far_galaxy_coords[0]) + abs(current_galaxy_coords[1] - far_galaxy_coords[1])\n        \n            # Accounting for any empty rows\n            for row in range(min(current_galaxy_coords[0], far_galaxy_coords[0]), max(current_galaxy_coords[0], far_galaxy_coords[0])):\n                if row in empty_rows:\n                    galaxy_distance += empty_galaxy_distance - 1\n                       \n            # Accounting for any empty columns\n            for col in range(min(current_galaxy_coords[1], far_galaxy_coords[1]), max(current_galaxy_coords[1], far_galaxy_coords[1])):\n                if col in empty_columns:\n                    galaxy_distance += empty_galaxy_distance - 1\n            \n            # Incrementing the final distance\n            final_distance += galaxy_distance\n\n    return final_distance",
   "execution_count": 4,
   "outputs": []
  },
  {
   "metadata": {
    "trusted": true
   },
   "cell_type": "code",
   "source": "# Calculating the distances\nfinal_distance = calculate_galaxy_distances(galaxy_locations, empty_rows, empty_columns)\nprint(f'Final distance: {final_distance}')",
   "execution_count": 5,
   "outputs": [
    {
     "output_type": "stream",
     "text": "Final distance: 9214785\n",
     "name": "stdout"
    }
   ]
  },
  {
   "metadata": {},
   "cell_type": "markdown",
   "source": "## Part 2\nThe galaxies are much older (and thus much farther apart) than the researcher initially estimated.\n\nNow, instead of the expansion you did before, make each empty row or column one million times larger. That is, each empty row should be replaced with 1000000 empty rows, and each empty column should be replaced with 1000000 empty columns.\n\n(In the example above, if each empty row or column were merely 10 times larger, the sum of the shortest paths between every pair of galaxies would be 1030. If each empty row or column were merely 100 times larger, the sum of the shortest paths between every pair of galaxies would be 8410. However, your universe will need to expand far beyond these values.)\n\nStarting with the same initial image, expand the universe according to these new rules, then find the length of the shortest path between every pair of galaxies. What is the sum of these lengths?"
  },
  {
   "metadata": {
    "trusted": true
   },
   "cell_type": "code",
   "source": "# Calculating the distances\nfinal_distance = calculate_galaxy_distances(galaxy_locations, empty_rows, empty_columns, empty_galaxy_distance = 1000000)\nprint(f'Final distance: {final_distance}')",
   "execution_count": 6,
   "outputs": [
    {
     "output_type": "stream",
     "text": "Final distance: 613686987427\n",
     "name": "stdout"
    }
   ]
  },
  {
   "metadata": {
    "trusted": true
   },
   "cell_type": "code",
   "source": "",
   "execution_count": null,
   "outputs": []
  }
 ],
 "metadata": {
  "kernelspec": {
   "name": "python3",
   "display_name": "Python 3",
   "language": "python"
  },
  "language_info": {
   "name": "python",
   "version": "3.10.4",
   "mimetype": "text/x-python",
   "codemirror_mode": {
    "name": "ipython",
    "version": 3
   },
   "pygments_lexer": "ipython3",
   "nbconvert_exporter": "python",
   "file_extension": ".py"
  }
 },
 "nbformat": 4,
 "nbformat_minor": 2
}