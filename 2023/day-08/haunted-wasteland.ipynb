{
 "cells": [
  {
   "cell_type": "markdown",
   "metadata": {},
   "source": [
    "# 2023 Day 8: Haunted Wasteland\n",
    "\n",
    "## Part 1\n",
    "You're still riding a camel across Desert Island when you spot a sandstorm quickly approaching. When you turn to warn the Elf, she disappears before your eyes! To be fair, she had just finished warning you about ghosts a few minutes ago.\n",
    "\n",
    "One of the camel's pouches is labeled \"maps\" - sure enough, it's full of documents (your puzzle input) about how to navigate the desert. At least, you're pretty sure that's what they are; one of the documents contains a list of left/right instructions, and the rest of the documents seem to describe some kind of network of labeled nodes.\n",
    "\n",
    "It seems like you're meant to use the left/right instructions to navigate the network. Perhaps if you have the camel follow the same instructions, you can escape the haunted wasteland!\n",
    "\n",
    "After examining the maps for a bit, two nodes stick out: AAA and ZZZ. You feel like AAA is where you are now, and you have to follow the left/right instructions until you reach ZZZ.\n",
    "\n",
    "This format defines each node of the network individually. For example:\n",
    "```\n",
    "RL\n",
    "\n",
    "AAA = (BBB, CCC)\n",
    "BBB = (DDD, EEE)\n",
    "CCC = (ZZZ, GGG)\n",
    "DDD = (DDD, DDD)\n",
    "EEE = (EEE, EEE)\n",
    "GGG = (GGG, GGG)\n",
    "ZZZ = (ZZZ, ZZZ)\n",
    "```\n",
    "\n",
    "Starting with AAA, you need to look up the next element based on the next left/right instruction in your input. In this example, start with AAA and go right (R) by choosing the right element of AAA, CCC. Then, L means to choose the left element of CCC, ZZZ. By following the left/right instructions, you reach ZZZ in 2 steps.\n",
    "\n",
    "Of course, you might not find ZZZ right away. If you run out of left/right instructions, repeat the whole sequence of instructions as necessary: RL really means RLRLRLRLRLRLRLRL... and so on. For example, here is a situation that takes 6 steps to reach ZZZ:\n",
    "\n",
    "```\n",
    "LLR\n",
    "\n",
    "AAA = (BBB, BBB)\n",
    "BBB = (AAA, ZZZ)\n",
    "ZZZ = (ZZZ, ZZZ)\n",
    "```\n",
    "Starting at AAA, follow the left/right instructions. How many steps are required to reach ZZZ?"
   ]
  },
  {
   "cell_type": "code",
   "execution_count": 1,
   "metadata": {},
   "outputs": [],
   "source": [
    "# Loading the camel card hands (puzzle input) from file\n",
    "with open('aoc-2023-day-08.txt', 'r') as f:\n",
    "    raw_instructions = f.read().splitlines()\n",
    "\n",
    "# Setting up the sample data\n",
    "sample_data = '''LLR\n",
    "\n",
    "AAA = (BBB, CCC)\n",
    "BBB = (DDD, EEE)\n",
    "CCC = (ZZZ, GGG)\n",
    "DDD = (DDD, DDD)\n",
    "EEE = (EEE, EEE)\n",
    "GGG = (GGG, GGG)\n",
    "ZZZ = (ZZZ, ZZZ)'''.splitlines()\n",
    "\n",
    "# Overwriting the raw_instructions with the sample data for testing\n",
    "# raw_instructions = sample_data"
   ]
  },
  {
   "cell_type": "code",
   "execution_count": 2,
   "metadata": {},
   "outputs": [],
   "source": [
    "# Extracting the left-right steps\n",
    "lr_steps = raw_instructions[0]\n",
    "\n",
    "# Instantiating a dictionary to hold the nodes\n",
    "nodes = {}\n",
    "\n",
    "# Extracting the nodes from the raw instructions\n",
    "for unprocessed_node in raw_instructions[2:]:\n",
    "    \n",
    "    # Splitting the node into the key and value\n",
    "    key, value = unprocessed_node.split(' = ')\n",
    "    \n",
    "    # Splitting the value into the left and right nodes\n",
    "    left, right = value[1:-1].split(', ')\n",
    "    \n",
    "    # Adding the nodes to the dictionary\n",
    "    nodes[key] = (left, right)"
   ]
  },
  {
   "cell_type": "code",
   "execution_count": 3,
   "metadata": {},
   "outputs": [
    {
     "name": "stdout",
     "output_type": "stream",
     "text": [
      "Number of steps: 16531\n"
     ]
    }
   ],
   "source": [
    "# Instantiating the variables for the current node and the number of steps\n",
    "num_steps = 0\n",
    "current_node = 'AAA'\n",
    "\n",
    "def travel_nodes(lr_steps, current_node, num_steps):\n",
    "    '''\n",
    "    A recursive function to travel the nodes\n",
    "\n",
    "    Inputs:\n",
    "        - lr_steps (str): The left-right steps to take\n",
    "        - current_node (str): The current node\n",
    "        - num_steps (int): The number of steps taken so far\n",
    "\n",
    "    Returns:\n",
    "        - current_node (str): The current node\n",
    "        - num_steps (int): The number of steps taken\n",
    "    '''\n",
    "    \n",
    "    # Stepping through the left-right steps\n",
    "    for lr_step in lr_steps:\n",
    "        num_steps += 1\n",
    "        \n",
    "        # Taking the next step\n",
    "        if lr_step == 'L':\n",
    "            current_node = nodes[current_node][0]\n",
    "        elif lr_step == 'R':\n",
    "            current_node = nodes[current_node][1]\n",
    "\n",
    "        if current_node == 'ZZZ':\n",
    "            break\n",
    "\n",
    "    return current_node, num_steps\n",
    "\n",
    "while current_node != 'ZZZ':\n",
    "    current_node, num_steps = travel_nodes(lr_steps, current_node, num_steps)\n",
    " \n",
    "print(f'Number of steps: {num_steps}')"
   ]
  },
  {
   "cell_type": "code",
   "execution_count": null,
   "metadata": {},
   "outputs": [],
   "source": []
  },
  {
   "cell_type": "code",
   "execution_count": null,
   "metadata": {},
   "outputs": [],
   "source": []
  },
  {
   "cell_type": "code",
   "execution_count": null,
   "metadata": {},
   "outputs": [],
   "source": []
  }
 ],
 "metadata": {
  "kernelspec": {
   "display_name": "Python 3",
   "language": "python",
   "name": "python3"
  },
  "language_info": {
   "codemirror_mode": {
    "name": "ipython",
    "version": 3
   },
   "file_extension": ".py",
   "mimetype": "text/x-python",
   "name": "python",
   "nbconvert_exporter": "python",
   "pygments_lexer": "ipython3",
   "version": "3.11.9"
  }
 },
 "nbformat": 4,
 "nbformat_minor": 2
}
