{
 "cells": [
  {
   "cell_type": "markdown",
   "metadata": {},
   "source": [
    "# 2023 Day 8: Haunted Wasteland\n",
    "\n",
    "## Part 1\n",
    "You're still riding a camel across Desert Island when you spot a sandstorm quickly approaching. When you turn to warn the Elf, she disappears before your eyes! To be fair, she had just finished warning you about ghosts a few minutes ago.\n",
    "\n",
    "One of the camel's pouches is labeled \"maps\" - sure enough, it's full of documents (your puzzle input) about how to navigate the desert. At least, you're pretty sure that's what they are; one of the documents contains a list of left/right instructions, and the rest of the documents seem to describe some kind of network of labeled nodes.\n",
    "\n",
    "It seems like you're meant to use the left/right instructions to navigate the network. Perhaps if you have the camel follow the same instructions, you can escape the haunted wasteland!\n",
    "\n",
    "After examining the maps for a bit, two nodes stick out: AAA and ZZZ. You feel like AAA is where you are now, and you have to follow the left/right instructions until you reach ZZZ.\n",
    "\n",
    "This format defines each node of the network individually. For example:\n",
    "```\n",
    "RL\n",
    "\n",
    "AAA = (BBB, CCC)\n",
    "BBB = (DDD, EEE)\n",
    "CCC = (ZZZ, GGG)\n",
    "DDD = (DDD, DDD)\n",
    "EEE = (EEE, EEE)\n",
    "GGG = (GGG, GGG)\n",
    "ZZZ = (ZZZ, ZZZ)\n",
    "```\n",
    "\n",
    "Starting with AAA, you need to look up the next element based on the next left/right instruction in your input. In this example, start with AAA and go right (R) by choosing the right element of AAA, CCC. Then, L means to choose the left element of CCC, ZZZ. By following the left/right instructions, you reach ZZZ in 2 steps.\n",
    "\n",
    "Of course, you might not find ZZZ right away. If you run out of left/right instructions, repeat the whole sequence of instructions as necessary: RL really means RLRLRLRLRLRLRLRL... and so on. For example, here is a situation that takes 6 steps to reach ZZZ:\n",
    "\n",
    "```\n",
    "LLR\n",
    "\n",
    "AAA = (BBB, BBB)\n",
    "BBB = (AAA, ZZZ)\n",
    "ZZZ = (ZZZ, ZZZ)\n",
    "```\n",
    "Starting at AAA, follow the left/right instructions. How many steps are required to reach ZZZ?"
   ]
  },
  {
   "cell_type": "code",
   "execution_count": 1,
   "metadata": {},
   "outputs": [],
   "source": [
    "# Loading the camel card hands (puzzle input) from file\n",
    "with open('aoc-2023-day-08.txt', 'r') as f:\n",
    "    raw_instructions = f.read().splitlines()\n",
    "\n",
    "# Setting up the sample data\n",
    "sample_data = '''LLR\n",
    "\n",
    "AAA = (BBB, CCC)\n",
    "BBB = (DDD, EEE)\n",
    "CCC = (ZZZ, GGG)\n",
    "DDD = (DDD, DDD)\n",
    "EEE = (EEE, EEE)\n",
    "GGG = (GGG, GGG)\n",
    "ZZZ = (ZZZ, ZZZ)'''.splitlines()\n",
    "\n",
    "# Overwriting the raw_instructions with the sample data for testing\n",
    "# raw_instructions = sample_data"
   ]
  },
  {
   "cell_type": "code",
   "execution_count": 2,
   "metadata": {},
   "outputs": [],
   "source": [
    "# Extracting the left-right steps\n",
    "lr_steps = raw_instructions[0]\n",
    "\n",
    "# Instantiating a dictionary to hold the nodes\n",
    "nodes = {}\n",
    "\n",
    "# Extracting the nodes from the raw instructions\n",
    "for unprocessed_node in raw_instructions[2:]:\n",
    "    \n",
    "    # Splitting the node into the key and value\n",
    "    key, value = unprocessed_node.split(' = ')\n",
    "    \n",
    "    # Splitting the value into the left and right nodes\n",
    "    left, right = value[1:-1].split(', ')\n",
    "    \n",
    "    # Adding the nodes to the dictionary\n",
    "    nodes[key] = (left, right)"
   ]
  },
  {
   "cell_type": "code",
   "execution_count": 3,
   "metadata": {},
   "outputs": [
    {
     "name": "stdout",
     "output_type": "stream",
     "text": [
      "Number of steps: 16531\n"
     ]
    }
   ],
   "source": [
    "# Instantiating the variables for the current node and the number of steps\n",
    "num_steps = 0\n",
    "current_node = 'AAA'\n",
    "\n",
    "def travel_nodes(lr_steps, current_node, num_steps):\n",
    "    '''\n",
    "    A recursive function to travel the nodes\n",
    "\n",
    "    Inputs:\n",
    "        - lr_steps (str): The left-right steps to take\n",
    "        - current_node (str): The current node\n",
    "        - num_steps (int): The number of steps taken so far\n",
    "\n",
    "    Returns:\n",
    "        - current_node (str): The current node\n",
    "        - num_steps (int): The number of steps taken\n",
    "    '''\n",
    "    \n",
    "    # Stepping through the left-right steps\n",
    "    for lr_step in lr_steps:\n",
    "        num_steps += 1\n",
    "        \n",
    "        # Taking the next step\n",
    "        if lr_step == 'L':\n",
    "            current_node = nodes[current_node][0]\n",
    "        elif lr_step == 'R':\n",
    "            current_node = nodes[current_node][1]\n",
    "\n",
    "        if current_node == 'ZZZ':\n",
    "            break\n",
    "\n",
    "    return current_node, num_steps\n",
    "\n",
    "while current_node != 'ZZZ':\n",
    "    current_node, num_steps = travel_nodes(lr_steps, current_node, num_steps)\n",
    " \n",
    "print(f'Number of steps: {num_steps}')"
   ]
  },
  {
   "cell_type": "markdown",
   "metadata": {},
   "source": [
    "## Part 2\n",
    "\n",
    "The sandstorm is upon you and you aren't any closer to escaping the wasteland. You had the camel follow the instructions, but you've barely left your starting position. It's going to take significantly more steps to escape!\n",
    "\n",
    "What if the map isn't for people - what if the map is for ghosts? Are ghosts even bound by the laws of spacetime? Only one way to find out.\n",
    "\n",
    "After examining the maps a bit longer, your attention is drawn to a curious fact: the number of nodes with names ending in A is equal to the number ending in Z! If you were a ghost, you'd probably just start at every node that ends with A and follow all of the paths at the same time until they all simultaneously end up at nodes that end with Z.\n",
    "\n",
    "For example:\n",
    "\n",
    "```\n",
    "LR\n",
    "\n",
    "11A = (11B, XXX)\n",
    "11B = (XXX, 11Z)\n",
    "11Z = (11B, XXX)\n",
    "22A = (22B, XXX)\n",
    "22B = (22C, 22C)\n",
    "22C = (22Z, 22Z)\n",
    "22Z = (22B, 22B)\n",
    "XXX = (XXX, XXX)\n",
    "```\n",
    "\n",
    "Here, there are two starting nodes, 11A and 22A (because they both end with A). As you follow each left/right instruction, use that instruction to simultaneously navigate away from both nodes you're currently on. Repeat this process until all of the nodes you're currently on end with Z. (If only some of the nodes you're on end with Z, they act like any other node and you continue as normal.) In this example, you would proceed as follows:\n",
    "\n",
    "- Step 0: You are at 11A and 22A.\n",
    "- Step 1: You choose all of the left paths, leading you to 11B and 22B.\n",
    "- Step 2: You choose all of the right paths, leading you to 11Z and 22C.\n",
    "- Step 3: You choose all of the left paths, leading you to 11B and 22Z.\n",
    "- Step 4: You choose all of the right paths, leading you to 11Z and 22B.\n",
    "- Step 5: You choose all of the left paths, leading you to 11B and 22C.\n",
    "- Step 6: You choose all of the right paths, leading you to 11Z and 22Z.\n",
    "\n",
    "So, in this example, you end up entirely on nodes that end in Z after 6 steps.\n",
    "\n",
    "Simultaneously start on every node that ends with A. How many steps does it take before you're only on nodes that end with Z?"
   ]
  },
  {
   "cell_type": "code",
   "execution_count": 4,
   "metadata": {},
   "outputs": [],
   "source": [
    "# Loading the camel card hands (puzzle input) from file\n",
    "with open('aoc-2023-day-08.txt', 'r') as f:\n",
    "    raw_instructions = f.read().splitlines()\n",
    "\n",
    "# Setting up the sample data\n",
    "sample_data = '''LR\n",
    "\n",
    "11A = (11B, XXX)\n",
    "11B = (XXX, 11Z)\n",
    "11Z = (11B, XXX)\n",
    "22A = (22B, XXX)\n",
    "22B = (22C, 22C)\n",
    "22C = (22Z, 22Z)\n",
    "22Z = (22B, 22B)\n",
    "XXX = (XXX, XXX)'''.splitlines()\n",
    "\n",
    "# Overwriting the raw_instructions with the sample data for testing\n",
    "# raw_instructions = sample_data"
   ]
  },
  {
   "cell_type": "code",
   "execution_count": 5,
   "metadata": {},
   "outputs": [],
   "source": [
    "# Extracting the left-right steps\n",
    "lr_steps = raw_instructions[0]\n",
    "\n",
    "# Instantiating a dictionary to hold the nodes\n",
    "nodes = {}\n",
    "\n",
    "# Extracting the nodes from the raw instructions\n",
    "for unprocessed_node in raw_instructions[2:]:\n",
    "    \n",
    "    # Splitting the node into the key and value\n",
    "    key, value = unprocessed_node.split(' = ')\n",
    "    \n",
    "    # Splitting the value into the left and right nodes\n",
    "    left, right = value[1:-1].split(', ')\n",
    "    \n",
    "    # Adding the nodes to the dictionary\n",
    "    nodes[key] = (left, right)"
   ]
  },
  {
   "cell_type": "code",
   "execution_count": 6,
   "metadata": {},
   "outputs": [
    {
     "name": "stdout",
     "output_type": "stream",
     "text": [
      "Nodes ending in A:\n",
      "['MLA', 'BQA', 'MJA', 'AAA', 'TGA', 'BJA']\n",
      "\n",
      "Nodes ending in Z:\n",
      "['RFZ', 'KPZ', 'GNZ', 'TMZ', 'ZZZ', 'BDZ']\n",
      "\n"
     ]
    }
   ],
   "source": [
    "# Extracting all nodes that end in 'A'\n",
    "nodes_a = [node for node in nodes.keys() if node.endswith('A')]\n",
    "\n",
    "# Extracting all nodes that end in 'Z'\n",
    "nodes_z = [node for node in nodes.keys() if node.endswith('Z')]\n",
    "nodes_z\n",
    "\n",
    "print(f'Nodes ending in A:\\n{nodes_a}\\n')\n",
    "print(f'Nodes ending in Z:\\n{nodes_z}\\n')"
   ]
  },
  {
   "cell_type": "code",
   "execution_count": 7,
   "metadata": {},
   "outputs": [],
   "source": [
    "def travel_ghost_nodes(lr_steps, current_nodes, num_steps):\n",
    "    '''\n",
    "    A recursive function to travel the nodes in the manner of the ghost\n",
    "\n",
    "    Inputs:\n",
    "        - lr_steps (str): The left-right steps to take\n",
    "        - current_node (str): The current node\n",
    "        - num_steps (int): The number of steps taken so far\n",
    "\n",
    "    Returns:\n",
    "        - current_node (str): The current node\n",
    "        - num_steps (int): The number of steps taken\n",
    "    '''\n",
    "    # Stepping through the left-right steps\n",
    "    for lr_step in lr_steps:\n",
    "        num_steps += 1\n",
    "        \n",
    "        # Taking the next step\n",
    "        if lr_step == 'L':\n",
    "            current_node = nodes[current_node][0]\n",
    "        elif lr_step == 'R':\n",
    "            current_node = nodes[current_node][1]\n",
    "\n",
    "    return current_nodes, num_steps"
   ]
  },
  {
   "cell_type": "code",
   "execution_count": 8,
   "metadata": {},
   "outputs": [],
   "source": [
    "# Setting the current status to False\n",
    "current_status = False\n",
    "\n",
    "# Instantiating list of steps\n",
    "all_steps = []\n",
    "\n",
    "# Iterating through all nodes ending in 'A'\n",
    "for current_node in nodes_a:\n",
    "\n",
    "    # Instantiating the number of steps\n",
    "    num_steps = 0\n",
    "\n",
    "    # Traveling the nodes\n",
    "    while current_node not in nodes_z:\n",
    "        current_node, num_steps = travel_nodes(lr_steps, current_node, num_steps)\n",
    "\n",
    "    # Appending the number of steps to the list of steps\n",
    "    all_steps.append(num_steps)"
   ]
  },
  {
   "cell_type": "code",
   "execution_count": 9,
   "metadata": {},
   "outputs": [
    {
     "name": "stdout",
     "output_type": "stream",
     "text": [
      "Least common multiple of all steps: 24035773251517\n"
     ]
    }
   ],
   "source": [
    "import math\n",
    "\n",
    "# Printing the least common multiple of all steps\n",
    "print(f'Least common multiple of all steps: {math.lcm(*all_steps)}')"
   ]
  }
 ],
 "metadata": {
  "kernelspec": {
   "display_name": "Python 3",
   "language": "python",
   "name": "python3"
  },
  "language_info": {
   "codemirror_mode": {
    "name": "ipython",
    "version": 3
   },
   "file_extension": ".py",
   "mimetype": "text/x-python",
   "name": "python",
   "nbconvert_exporter": "python",
   "pygments_lexer": "ipython3",
   "version": "3.11.9"
  }
 },
 "nbformat": 4,
 "nbformat_minor": 2
}
