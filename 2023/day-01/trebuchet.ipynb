{
 "cells": [
  {
   "cell_type": "markdown",
   "metadata": {},
   "source": [
    "# 2023 Day 1: Trebuchet?!\n",
    "\n",
    "## Part 1\n",
    "\n",
    "Something is wrong with global snow production, and you've been selected to take a look. The Elves have even given you a map; on it, they've used stars to mark the top fifty locations that are likely to be having problems.\n",
    "\n",
    "You've been doing this long enough to know that to restore snow operations, you need to check all fifty stars by December 25th.\n",
    "\n",
    "Collect stars by solving puzzles. Two puzzles will be made available on each day in the Advent calendar; the second puzzle is unlocked when you complete the first. Each puzzle grants one star. Good luck!\n",
    "\n",
    "You try to ask why they can't just use a weather machine (\"not powerful enough\") and where they're even sending you (\"the sky\") and why your map looks mostly blank (\"you sure ask a lot of questions\") and hang on did you just say the sky (\"of course, where do you think snow comes from\") when you realize that the Elves are already loading you into a trebuchet (\"please hold still, we need to strap you in\").\n",
    "\n",
    "As they're making the final adjustments, they discover that their calibration document (your puzzle input) has been amended by a very young Elf who was apparently just excited to show off her art skills. Consequently, the Elves are having trouble reading the values on the document.\n",
    "\n",
    "The newly-improved calibration document consists of lines of text; each line originally contained a specific calibration value that the Elves now need to recover. On each line, the calibration value can be found by combining the first digit and the last digit (in that order) to form a single two-digit number.\n",
    "\n",
    "For example:\n",
    "```\n",
    "1abc2\n",
    "pqr3stu8vwx\n",
    "a1b2c3d4e5f\n",
    "treb7uchet\n",
    "```\n",
    "In this example, the calibration values of these four lines are 12, 38, 15, and 77. Adding these together produces 142.\n",
    "\n",
    "Consider your entire calibration document. What is the sum of all of the calibration values?"
   ]
  },
  {
   "cell_type": "code",
   "execution_count": 1,
   "metadata": {},
   "outputs": [],
   "source": [
    "# Setting the sample input\n",
    "sample_calibration_values = '''1abc2\n",
    "pqr3stu8vwx\n",
    "a1b2c3d4e5f\n",
    "treb7uchet'''\n",
    "\n",
    "sample_calibration_values = sample_calibration_values.split('\\n')"
   ]
  },
  {
   "cell_type": "code",
   "execution_count": 58,
   "metadata": {},
   "outputs": [],
   "source": [
    "# Loading the actual input file\n",
    "with open('input.txt', 'r') as f:\n",
    "    calibration_values = f.read().splitlines()\n",
    "\n",
    "# calibration_values = sample_calibration_values"
   ]
  },
  {
   "cell_type": "code",
   "execution_count": 3,
   "metadata": {},
   "outputs": [
    {
     "data": {
      "text/plain": [
       "'nine92jnhgqzctpgbcbpz'"
      ]
     },
     "execution_count": 3,
     "metadata": {},
     "output_type": "execute_result"
    }
   ],
   "source": [
    "calibration_line = calibration_values[0]\n",
    "calibration_line"
   ]
  },
  {
   "cell_type": "code",
   "execution_count": 4,
   "metadata": {},
   "outputs": [
    {
     "name": "stdout",
     "output_type": "stream",
     "text": [
      "Final sum: 54601\n"
     ]
    }
   ],
   "source": [
    "calibration_digits = []\n",
    "\n",
    "for calibration_line in calibration_values:\n",
    "\n",
    "    # Getting the first digit\n",
    "    for char in calibration_line:\n",
    "        if char.isdigit():\n",
    "            first_digit = char\n",
    "            break\n",
    "\n",
    "    # Getting the second digit\n",
    "    for char in calibration_line[::-1]:\n",
    "        if char.isdigit():\n",
    "            second_digit = char\n",
    "            break\n",
    "\n",
    "    # Combining the digits\n",
    "    combined_digits = int(first_digit + second_digit)\n",
    "\n",
    "    # Adding the digits to calibration digits\n",
    "    calibration_digits.append(combined_digits)\n",
    "\n",
    "\n",
    "print(f'Final sum: {sum(calibration_digits)}')"
   ]
  },
  {
   "cell_type": "markdown",
   "metadata": {},
   "source": [
    "## Part 2\n",
    "\n",
    "Your calculation isn't quite right. It looks like some of the digits are actually spelled out with letters: one, two, three, four, five, six, seven, eight, and nine also count as valid \"digits\".\n",
    "\n",
    "Equipped with this new information, you now need to find the real first and last digit on each line. For example:\n",
    "```\n",
    "two1nine\n",
    "eightwothree\n",
    "abcone2threexyz\n",
    "xtwone3four\n",
    "4nineeightseven2\n",
    "zoneight234\n",
    "7pqrstsixteen\n",
    "```\n",
    "In this example, the calibration values are 29, 83, 13, 24, 42, 14, and 76. Adding these together produces 281.\n",
    "\n",
    "What is the sum of all of the calibration values?"
   ]
  },
  {
   "cell_type": "code",
   "execution_count": 9,
   "metadata": {},
   "outputs": [
    {
     "data": {
      "text/plain": [
       "['two1nine',\n",
       " 'eightwothree',\n",
       " 'abcone2threexyz',\n",
       " 'xtwone3four',\n",
       " '4nineeightseven2',\n",
       " 'zoneight234',\n",
       " '7pqrstsixteen']"
      ]
     },
     "execution_count": 9,
     "metadata": {},
     "output_type": "execute_result"
    }
   ],
   "source": [
    "# Setting the sample input\n",
    "sample_calibration_values = '''two1nine\n",
    "eightwothree\n",
    "abcone2threexyz\n",
    "xtwone3four\n",
    "4nineeightseven2\n",
    "zoneight234\n",
    "7pqrstsixteen'''\n",
    "\n",
    "sample_calibration_values = sample_calibration_values.split('\\n')\n",
    "\n",
    "sample_calibration_values"
   ]
  },
  {
   "cell_type": "code",
   "execution_count": 10,
   "metadata": {},
   "outputs": [],
   "source": [
    "calibration_values = sample_calibration_values"
   ]
  },
  {
   "cell_type": "code",
   "execution_count": 11,
   "metadata": {},
   "outputs": [
    {
     "data": {
      "text/plain": [
       "'two1nine'"
      ]
     },
     "execution_count": 11,
     "metadata": {},
     "output_type": "execute_result"
    }
   ],
   "source": [
    "calibration_line = calibration_values[0]\n",
    "calibration_line"
   ]
  },
  {
   "cell_type": "code",
   "execution_count": 20,
   "metadata": {},
   "outputs": [],
   "source": [
    "numbers_as_words = {\n",
    "    'one': 1,\n",
    "    'two': 2,\n",
    "    'three': 3,\n",
    "    'four': 4,\n",
    "    'five': 5,\n",
    "    'six': 6,\n",
    "    'seven': 7,\n",
    "    'eight': 8,\n",
    "    'nine': 9\n",
    "}"
   ]
  },
  {
   "cell_type": "code",
   "execution_count": 21,
   "metadata": {},
   "outputs": [
    {
     "data": {
      "text/plain": [
       "dict_keys(['one', 'two', 'three', 'four', 'five', 'six', 'seven', 'eight', 'nine'])"
      ]
     },
     "execution_count": 21,
     "metadata": {},
     "output_type": "execute_result"
    }
   ],
   "source": [
    "numbers_as_words.keys()"
   ]
  },
  {
   "cell_type": "code",
   "execution_count": 46,
   "metadata": {},
   "outputs": [],
   "source": [
    "starting_chars = ['o', 't', 'f', 's', 'e', 'n']\n",
    "calibration_digits = []\n",
    "\n",
    "# Iterating over all the calibration lines\n",
    "for calibration_line in calibration_values:\n",
    "\n",
    "    number_word = ''\n",
    "    new_calibration_row = []\n",
    "    \n",
    "    for char in calibration_line:\n",
    "\n",
    "        if char.isdigit():\n",
    "            new_calibration_row.append(int(char))\n",
    "            number_word = ''\n",
    "\n",
    "\n",
    "        elif number_word == '':\n",
    "            if not char.isdigit():\n",
    "\n",
    "                if char in starting_chars:\n",
    "                    number_word += char\n",
    "        \n",
    "        elif len(number_word) > 0:\n",
    "\n",
    "            number_word += char\n",
    "\n",
    "            if number_word in numbers_as_words.keys():\n",
    "                new_calibration_row.append(numbers_as_words[number_word])\n",
    "                \n",
    "                if number_word[-1] in ['t', 'e', 'o']:\n",
    "                    number_word = number_word[-1]\n",
    "                else:\n",
    "                    number_word = ''\n",
    "\n",
    "    first_digit = new_calibration_row[0]\n",
    "    second_digit = new_calibration_row[-1]\n",
    "\n",
    "    combined_digits = int(str(first_digit) + str(second_digit))\n",
    "\n",
    "    calibration_digits.append(combined_digits)"
   ]
  },
  {
   "cell_type": "code",
   "execution_count": null,
   "metadata": {},
   "outputs": [],
   "source": [
    "found_words = []\n",
    "length = len(calibration_line)\n",
    "for i in range(length):\n",
    "    for j in range(i + 1, length + 1)"
   ]
  },
  {
   "cell_type": "code",
   "execution_count": 30,
   "metadata": {},
   "outputs": [
    {
     "name": "stdout",
     "output_type": "stream",
     "text": [
      "3\n",
      "3\n"
     ]
    }
   ],
   "source": [
    "# 29, 83, 13, 24, 42, 14, and 76\n",
    "# if any(word in 'some one long two phrase three' for word in list_):"
   ]
  },
  {
   "cell_type": "code",
   "execution_count": 63,
   "metadata": {},
   "outputs": [],
   "source": [
    "def extract_words_and_numbers(jumbled_string, dictionary):\n",
    "    found_items = []\n",
    "    length = len(jumbled_string)\n",
    "    i = 0\n",
    "\n",
    "    while i < length:\n",
    "        # Check for number\n",
    "        if jumbled_string[i].isdigit():\n",
    "            found_items.append(jumbled_string[i])\n",
    "            i += 1\n",
    "            continue\n",
    "\n",
    "        # Check for words\n",
    "        for j in range(i+1, length+1):\n",
    "            substring = jumbled_string[i:j]\n",
    "            if substring in dictionary.keys():\n",
    "                found_items.append(dictionary[substring])\n",
    "                i = j - 1\n",
    "                break\n",
    "        i += 1\n",
    "\n",
    "    return found_items\n",
    "\n",
    "# # Example usage\n",
    "# jumbled_string = \"4your23jumbled5string\"\n",
    "# word_dictionary = set([\"your\", \"jumble\", \"bled\", \"string\"])\n",
    "# extracted_items = extract_words_and_numbers(jumbled_string, word_dictionary)\n",
    "# print(extracted_items)\n"
   ]
  },
  {
   "cell_type": "code",
   "execution_count": 64,
   "metadata": {},
   "outputs": [],
   "source": [
    "calibration_digits = []\n",
    "\n",
    "for calibration_line in calibration_values:\n",
    "\n",
    "    found_items = extract_words_and_numbers(calibration_line, numbers_as_words)\n",
    "\n",
    "    \n",
    "    first_digit = found_items[0]\n",
    "    second_digit = found_items[-1]\n",
    "\n",
    "    combined_digits = int(str(first_digit) + str(second_digit))\n",
    "\n",
    "    calibration_digits.append(combined_digits)"
   ]
  },
  {
   "cell_type": "code",
   "execution_count": null,
   "metadata": {},
   "outputs": [],
   "source": [
    "# 29, 83, 13, 24, 42, 14, and 76"
   ]
  },
  {
   "cell_type": "code",
   "execution_count": 65,
   "metadata": {},
   "outputs": [
    {
     "data": {
      "text/plain": [
       "54093"
      ]
     },
     "execution_count": 65,
     "metadata": {},
     "output_type": "execute_result"
    }
   ],
   "source": [
    "sum(calibration_digits)"
   ]
  },
  {
   "cell_type": "code",
   "execution_count": null,
   "metadata": {},
   "outputs": [],
   "source": []
  }
 ],
 "metadata": {
  "kernelspec": {
   "display_name": "Python 3",
   "language": "python",
   "name": "python3"
  },
  "language_info": {
   "codemirror_mode": {
    "name": "ipython",
    "version": 3
   },
   "file_extension": ".py",
   "mimetype": "text/x-python",
   "name": "python",
   "nbconvert_exporter": "python",
   "pygments_lexer": "ipython3",
   "version": "3.12.0"
  }
 },
 "nbformat": 4,
 "nbformat_minor": 2
}
