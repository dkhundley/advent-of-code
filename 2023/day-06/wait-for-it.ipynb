{
 "cells": [
  {
   "cell_type": "markdown",
   "metadata": {
    "trusted": false
   },
   "source": [
    "# 2023 Day 6: Wait for It\n",
    "\n",
    "The ferry quickly brings you across Island Island. After asking around, you discover that there is indeed normally a large pile of sand somewhere near here, but you don't see anything besides lots of water and the small island where the ferry has docked.\n",
    "\n",
    "As you try to figure out what to do next, you notice a poster on a wall near the ferry dock. \"Boat races! Open to the public! Grand prize is an all-expenses-paid trip to Desert Island!\" That must be where the sand comes from! Best of all, the boat races are starting in just a few minutes.\n",
    "\n",
    "You manage to sign up as a competitor in the boat races just in time. The organizer explains that it's not really a traditional race - instead, you will get a fixed amount of time during which your boat has to travel as far as it can, and you win if your boat goes the farthest.\n",
    "\n",
    "As part of signing up, you get a sheet of paper (your puzzle input) that lists the time allowed for each race and also the best distance ever recorded in that race. To guarantee you win the grand prize, you need to make sure you go farther in each race than the current record holder.\n",
    "\n",
    "The organizer brings you over to the area where the boat races are held. The boats are much smaller than you expected - they're actually toy boats, each with a big button on top. Holding down the button charges the boat, and releasing the button allows the boat to move. Boats move faster if their button was held longer, but time spent holding the button counts against the total race time. You can only hold the button at the start of the race, and boats don't move until the button is released.\n",
    "\n",
    "For example:\n",
    "\n",
    "```\n",
    "Time:      7  15   30\n",
    "Distance:  9  40  200\n",
    "```\n",
    "\n",
    "This document describes three races:\n",
    "\n",
    "- The first race lasts 7 milliseconds. The record distance in this race is 9 millimeters.\n",
    "- The second race lasts 15 milliseconds. The record distance in this race is 40 millimeters.\n",
    "- The third race lasts 30 milliseconds. The record distance in this race is 200 millimeters.\n",
    "\n",
    "Your toy boat has a starting speed of zero millimeters per millisecond. For each whole millisecond you spend at the beginning of the race holding down the button, the boat's speed increases by one millimeter per millisecond.\n",
    "\n",
    "So, because the first race lasts 7 milliseconds, you only have a few options:\n",
    "\n",
    "- Don't hold the button at all (that is, hold it for 0 milliseconds) at the start of the race. The boat won't move; it will have traveled 0 millimeters by the end of the race.\n",
    "- Hold the button for 1 millisecond at the start of the race. Then, the boat will travel at a speed of 1 millimeter per millisecond for 6 milliseconds, reaching a total distance traveled of 6 millimeters.\n",
    "- Hold the button for 2 milliseconds, giving the boat a speed of 2 millimeters per millisecond. It will then get 5 milliseconds to move, reaching a total distance of 10 millimeters.\n",
    "- Hold the button for 3 milliseconds. After its remaining 4 milliseconds of travel time, the boat will have gone 12 millimeters.\n",
    "- Hold the button for 4 milliseconds. After its remaining 3 milliseconds of travel time, the boat will have gone 12 millimeters.\n",
    "- Hold the button for 5 milliseconds, causing the boat to travel a total of 10 millimeters.\n",
    "- Hold the button for 6 milliseconds, causing the boat to travel a total of 6 millimeters.\n",
    "- Hold the button for 7 milliseconds. That's the entire duration of the race. You never let go of the button. The boat can't move until you let go of the button. Please make sure you let go of the button so the boat gets to move. 0 millimeters.\n",
    "\n",
    "Since the current record for this race is 9 millimeters, there are actually 4 different ways you could win: you could hold the button for 2, 3, 4, or 5 milliseconds at the start of the race.\n",
    "\n",
    "In the second race, you could hold the button for at least 4 milliseconds and at most 11 milliseconds and beat the record, a total of 8 different ways to win.\n",
    "\n",
    "In the third race, you could hold the button for at least 11 milliseconds and no more than 19 milliseconds and still beat the record, a total of 9 ways you could win.\n",
    "\n",
    "To see how much margin of error you have, determine the number of ways you can beat the record in each race; in this example, if you multiply these values together, you get 288 (4 * 8 * 9).\n",
    "\n",
    "Determine the number of ways you could beat the record in each race. What do you get if you multiply these numbers together?"
   ]
  },
  {
   "cell_type": "code",
   "execution_count": 1,
   "metadata": {
    "trusted": true
   },
   "outputs": [],
   "source": [
    "# Loading the race history (puzzle input) from file\n",
    "with open('aoc-2023-day-06.txt', 'r') as f:\n",
    "    raw_race_history = f.read().splitlines()"
   ]
  },
  {
   "cell_type": "code",
   "execution_count": 2,
   "metadata": {},
   "outputs": [],
   "source": [
    "# Creating a dictionary to hold the parsed race history\n",
    "race_history = {}\n",
    "\n",
    "# Iterating over each of the times in the raw race history\n",
    "for i, time in enumerate(raw_race_history[0].split()):\n",
    "    \n",
    "    # Skipping over the label\n",
    "    if i == 0:\n",
    "        continue\n",
    "\n",
    "    # Initializing the dictionary for each race\n",
    "    race_history[f'race_{i}'] = {}\n",
    "\n",
    "    # Adding race time to the race history dictionary\n",
    "    race_history[f'race_{i}']['time'] = int(time)\n",
    "\n",
    "# Iterating over each of the record distances in the raw race history\n",
    "for i, record_distance in enumerate(raw_race_history[1].split()):\n",
    "    \n",
    "    # Skipping over the label\n",
    "    if i == 0:\n",
    "        continue\n",
    "\n",
    "    # Adding record distance to the race history dictionary\n",
    "    race_history[f'race_{i}']['record_distance'] = int(record_distance)"
   ]
  },
  {
   "cell_type": "code",
   "execution_count": 3,
   "metadata": {},
   "outputs": [],
   "source": [
    "# Setting some sample data for testing\n",
    "sample_data = {\n",
    "    'race_1': {\n",
    "        'time': 7,\n",
    "        'record_distance': 9\n",
    "    },\n",
    "    'race_2': {\n",
    "        'time': 15,\n",
    "        'record_distance': 40\n",
    "    },\n",
    "    'race_3': {\n",
    "        'time': 30,\n",
    "        'record_distance': 200\n",
    "    }\n",
    "}"
   ]
  },
  {
   "cell_type": "code",
   "execution_count": 4,
   "metadata": {},
   "outputs": [],
   "source": [
    "# Setting the sample data as the race history for testing\n",
    "# race_history = sample_data"
   ]
  },
  {
   "cell_type": "code",
   "execution_count": 5,
   "metadata": {},
   "outputs": [
    {
     "name": "stdout",
     "output_type": "stream",
     "text": [
      "Number of ways to win: 861300\n"
     ]
    }
   ],
   "source": [
    "# Initializing the ways to win\n",
    "ways_to_win = []\n",
    "\n",
    "# Iterating over each race and race details\n",
    "for race_number, race_details in race_history.items():\n",
    "\n",
    "    # Initializing the ways to win for this given race\n",
    "    race_ways_to_win = 0\n",
    "\n",
    "    # Extracting just the race number\n",
    "    race_number = int(race_number[-1])\n",
    "    \n",
    "    # Extracting the time and record distance from the race details\n",
    "    time = race_details['time']\n",
    "    record_distance = race_details['record_distance']\n",
    "\n",
    "    # Iterating over each millisecond up to the allotted time\n",
    "    for current_millisecond in range(time + 1):\n",
    "\n",
    "        # Instantiating the distance travelled\n",
    "        distance_travelled = 0\n",
    "\n",
    "        # Skipping over the boat that doesn't move!\n",
    "        if current_millisecond == 0:\n",
    "            continue\n",
    "        \n",
    "        time_left_for_travel = time - current_millisecond\n",
    "\n",
    "        distance_travelled += time_left_for_travel * current_millisecond\n",
    "\n",
    "        if distance_travelled > record_distance:\n",
    "            race_ways_to_win += 1\n",
    "\n",
    "    ways_to_win.append(race_ways_to_win)\n",
    "\n",
    "# Printing the ways to win for  \n",
    "product_of_ways_to_win = 1\n",
    "for ways in ways_to_win:\n",
    "    product_of_ways_to_win *= ways\n",
    "\n",
    "print(f'Number of ways to win: {product_of_ways_to_win}')"
   ]
  },
  {
   "cell_type": "markdown",
   "metadata": {},
   "source": [
    "## Part 2\n",
    "\n",
    "As the race is about to start, you realize the piece of paper with race times and record distances you got earlier actually just has very bad kerning. There's really only one race - ignore the spaces between the numbers on each line.\n",
    "\n",
    "So, the example from before:\n",
    "\n",
    "```\n",
    "Time:      7  15   30\n",
    "Distance:  9  40  200\n",
    "```\n",
    "\n",
    "...now instead means this:\n",
    "```\n",
    "Time:      71530\n",
    "Distance:  940200\n",
    "```\n",
    "Now, you have to figure out how many ways there are to win this single race. In this example, the race lasts for 71530 milliseconds and the record distance you need to beat is 940200 millimeters. You could hold the button anywhere from 14 to 71516 milliseconds and beat the record, a total of 71503 ways!\n",
    "\n",
    "How many ways can you beat the record in this one much longer race?"
   ]
  },
  {
   "cell_type": "code",
   "execution_count": 6,
   "metadata": {},
   "outputs": [],
   "source": [
    "# Creating new sample data for testing\n",
    "new_sample_data = {\n",
    "    'race_1': {\n",
    "        'time': 71530,\n",
    "        'record_distance': 940200\n",
    "    }\n",
    "}\n",
    "\n",
    "# Manually setting the new race history\n",
    "race_history = {\n",
    "    'race_1': {\n",
    "        'time': 40817772,\n",
    "        'record_distance': 219101213651089\n",
    "    }\n",
    "}"
   ]
  },
  {
   "cell_type": "code",
   "execution_count": 7,
   "metadata": {},
   "outputs": [],
   "source": [
    "# Setting the new sample data as the race history for testing\n",
    "# race_history = new_sample_data"
   ]
  },
  {
   "cell_type": "code",
   "execution_count": 8,
   "metadata": {},
   "outputs": [
    {
     "name": "stdout",
     "output_type": "stream",
     "text": [
      "Number of ways to win: 28101347\n"
     ]
    }
   ],
   "source": [
    "# Initializing the ways to win\n",
    "ways_to_win = []\n",
    "\n",
    "# Iterating over each race and race details\n",
    "for race_number, race_details in race_history.items():\n",
    "\n",
    "    # Initializing the ways to win for this given race\n",
    "    race_ways_to_win = 0\n",
    "\n",
    "    # Extracting just the race number\n",
    "    race_number = int(race_number[-1])\n",
    "    \n",
    "    # Extracting the time and record distance from the race details\n",
    "    time = race_details['time']\n",
    "    record_distance = race_details['record_distance']\n",
    "\n",
    "    # Iterating over each millisecond up to the allotted time\n",
    "    for current_millisecond in range(time + 1):\n",
    "\n",
    "        # Instantiating the distance travelled\n",
    "        distance_travelled = 0\n",
    "\n",
    "        # Skipping over the boat that doesn't move!\n",
    "        if current_millisecond == 0:\n",
    "            continue\n",
    "        \n",
    "        time_left_for_travel = time - current_millisecond\n",
    "\n",
    "        distance_travelled += time_left_for_travel * current_millisecond\n",
    "\n",
    "        if distance_travelled > record_distance:\n",
    "            race_ways_to_win += 1\n",
    "\n",
    "    ways_to_win.append(race_ways_to_win)\n",
    "\n",
    "# Printing the ways to win for  \n",
    "product_of_ways_to_win = 1\n",
    "for ways in ways_to_win:\n",
    "    product_of_ways_to_win *= ways\n",
    "\n",
    "print(f'Number of ways to win: {product_of_ways_to_win}')"
   ]
  },
  {
   "cell_type": "code",
   "execution_count": null,
   "metadata": {},
   "outputs": [],
   "source": []
  }
 ],
 "metadata": {
  "kernelspec": {
   "display_name": "Python 3",
   "language": "python",
   "name": "python3"
  },
  "language_info": {
   "codemirror_mode": {
    "name": "ipython",
    "version": 3
   },
   "file_extension": ".py",
   "mimetype": "text/x-python",
   "name": "python",
   "nbconvert_exporter": "python",
   "pygments_lexer": "ipython3",
   "version": "3.11.10"
  }
 },
 "nbformat": 4,
 "nbformat_minor": 2
}
