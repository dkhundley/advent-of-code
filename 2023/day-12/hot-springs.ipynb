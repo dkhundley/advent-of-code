{
 "cells": [
  {
   "metadata": {},
   "cell_type": "markdown",
   "source": "# 2023 Day 12: Hot Springs\n\n## Part 1\n\nYou finally reach the hot springs! You can see steam rising from secluded areas attached to the primary, ornate building.\n\nAs you turn to enter, the researcher stops you. \"Wait - I thought you were looking for the hot springs, weren't you?\" You indicate that this definitely looks like hot springs to you.\n\n\"Oh, sorry, common mistake! This is actually the onsen! The hot springs are next door.\"\n\nYou look in the direction the researcher is pointing and suddenly notice the massive metal helixes towering overhead. \"This way!\"\n\nIt only takes you a few more steps to reach the main gate of the massive fenced-off area containing the springs. You go through the gate and into a small administrative building.\n\n\"Hello! What brings you to the hot springs today? Sorry they're not very hot right now; we're having a lava shortage at the moment.\" You ask about the missing machine parts for Desert Island.\n\n\"Oh, all of Gear Island is currently offline! Nothing is being manufactured at the moment, not until we get more lava to heat our forges. And our springs. The springs aren't very springy unless they're hot!\"\n\n\"Say, could you go up and see why the lava stopped flowing? The springs are too cold for normal operation, but we should be able to find one springy enough to launch you up there!\"\n\nThere's just one problem - many of the springs have fallen into disrepair, so they're not actually sure which springs would even be safe to use! Worse yet, their condition records of which springs are damaged (your puzzle input) are also damaged! You'll need to help them repair the damaged records.\n\nIn the giant field just outside, the springs are arranged into rows. For each row, the condition records show every spring and whether it is operational (.) or damaged (#). This is the part of the condition records that is itself damaged; for some springs, it is simply unknown (?) whether the spring is operational or damaged.\n\nHowever, the engineer that produced the condition records also duplicated some of this information in a different format! After the list of springs for a given row, the size of each contiguous group of damaged springs is listed in the order those groups appear in the row. This list always accounts for every damaged spring, and each number is the entire size of its contiguous group (that is, groups are always separated by at least one operational spring: #### would always be 4, never 2,2).\n\nSo, condition records with no unknown spring conditions might look like this:\n\n```\n#.#.### 1,1,3\n.#...#....###. 1,1,3\n.#.###.#.###### 1,3,1,6\n####.#...#... 4,1,1\n#....######..#####. 1,6,5\n.###.##....# 3,2,1\n```\n\nHowever, the condition records are partially damaged; some of the springs' conditions are actually unknown (?). For example:\n\n```\n???.### 1,1,3\n.??..??...?##. 1,1,3\n?#?#?#?#?#?#?#? 1,3,1,6\n????.#...#... 4,1,1\n????.######..#####. 1,6,5\n?###???????? 3,2,1\n```\n\nEquipped with this information, it is your job to figure out how many different arrangements of operational and broken springs fit the given criteria in each row.\n\nIn the first line `(???.### 1,1,3)`, there is exactly one way separate groups of one, one, and three broken springs (in that order) can appear in that row: the first three unknown springs must be broken, then operational, then broken (#.#), making the whole row #.#.###.\n\nThe second line is more interesting: `.??..??...?##. 1,1,3` could be a total of four different arrangements. The last ? must always be broken (to satisfy the final contiguous group of three broken springs), and each ?? must hide exactly one of the two broken springs. (Neither ?? could be both broken springs or they would form a single contiguous group of two; if that were true, the numbers afterward would have been 2,3 instead.) Since each ?? can either be #. or .#, there are four possible arrangements of springs.\n\nThe last line is actually consistent with ten different arrangements! Because the first number is 3, the first and second ? must both be . (if either were #, the first number would have to be 4 or higher). However, the remaining run of unknown spring conditions have many different ways they could hold groups of two and one broken springs:\n\n```\n?###???????? 3,2,1\n.###.##.#...\n.###.##..#..\n.###.##...#.\n.###.##....#\n.###..##.#..\n.###..##..#.\n.###..##...#\n.###...##.#.\n.###...##..#\n.###....##.#\n```\n\nIn this example, the number of possible arrangements for each row is:\n\n- `???.### 1,1,3` - 1 arrangement\n- `.??..??...?##. 1,1,3` - 4 arrangements\n- `?#?#?#?#?#?#?#? 1,3,1,6` - 1 arrangement\n- `????.#...#... 4,1,1` - 1 arrangement\n- `????.######..#####. 1,6,5` - 4 arrangements\n- `?###???????? 3,2,1` - 10 arrangements\n\nAdding all of the possible arrangement counts together produces a total of 21 arrangements.\n\nFor each row, count all of the different arrangements of operational and broken springs that meet the given criteria. What is the sum of those counts?"
  },
  {
   "metadata": {
    "trusted": true
   },
   "cell_type": "code",
   "source": "# Loading the hot spring records (puzzle input) from file\nwith open('aoc-2023-day-12.txt', 'r') as f:\n    raw_hot_spring_records = f.read().splitlines()\n\n# Setting up the sample data\nsample_data = '''???.### 1,1,3\n.??..??...?##. 1,1,3\n?#?#?#?#?#?#?#? 1,3,1,6\n????.#...#... 4,1,1\n????.######..#####. 1,6,5\n?###???????? 3,2,1'''.splitlines()\n\n# Overwriting the hot spring records with the sample data for testing\n# raw_hot_spring_records = sample_data",
   "execution_count": 1,
   "outputs": []
  },
  {
   "metadata": {
    "trusted": true
   },
   "cell_type": "code",
   "source": "# Instantiating a list to hold the parsed hot spring records\nhot_spring_records = []\n\n# Iterating over the raw hot spring records\nfor line in raw_hot_spring_records:\n    schematic = line.split(' ')[0]\n    broken_spring_groups = [int(i) for i in line.split(' ')[1].split(',')]\n    hot_spring_records.append([schematic, broken_spring_groups])",
   "execution_count": 2,
   "outputs": []
  },
  {
   "metadata": {
    "trusted": true
   },
   "cell_type": "code",
   "source": "from itertools import product\n\ndef generate_spring_combinations(schematic):\n    '''\n    Generates all possible combinations for the input schematic\n    \n    Inputs:\n        - schematic (str): The schematic with obscured values\n    \n    Returns:\n        - spring_combinations (list): All possible combinations the schematic can take on\n    '''\n\n    # Finding positions of question marks in the string\n    positions = [i for i, char in enumerate(schematic) if char == '?']\n\n    # Generating all combinations of replacements for the question marks\n    replacement_options = ['.', '#']\n    replacements = list(product(replacement_options, repeat=len(positions)))\n\n    # Listing to store the resulting combinations\n    spring_combinations = []\n\n    # Replacing question marks with each combination of replacements\n    for replacement in replacements:\n    \n        # Converting the schematic to a list\n        schematic_list = list(schematic)\n    \n        # Replacing each of the question marks with this round's combination\n        for idx, pos in enumerate(positions):\n            schematic_list[pos] = replacement[idx]\n        \n        # Appending the new results\n        spring_combinations.append(''.join(schematic_list))\n        \n    return spring_combinations",
   "execution_count": 3,
   "outputs": []
  },
  {
   "metadata": {
    "trusted": true
   },
   "cell_type": "code",
   "source": "def count_broken_spring_groups(schematic):\n    '''\n    Counts the number of broken spring groups in a schematic\n    \n    Inputs:\n        - schematic (str): The current schematic of periods and pound signs\n        \n    Return:\n        - broken_spring_groups (list): A list of values representing the contiguous broken springs\n    '''\n    # Instantiating a list to hold the number of broken spring groups\n    broken_spring_groups = []\n    \n    # Instantiating a value to represent the current length of the broken spring group\n    current_length = 0\n    \n    # Instantiating a boolean value to see if the last value is part of a group\n    in_group = False\n\n    # Iterating over each character in the schematic to count the broken springs (aka pound signs)\n    for char in schematic:\n        if char == '#':\n            if in_group:\n                current_length += 1\n            else:\n                in_group = True\n                current_length = 1\n        else:\n            if in_group:\n                broken_spring_groups.append(current_length)\n                in_group = False\n                current_length = 0\n\n    # Check if the last character was part of a group\n    if in_group:\n        broken_spring_groups.append(current_length)\n\n    return broken_spring_groups",
   "execution_count": 4,
   "outputs": []
  },
  {
   "metadata": {
    "trusted": true
   },
   "cell_type": "code",
   "source": "# Instantiating a value to represent the possible arrangements\npossible_arrangements = 0\n\n# Iterating through all the schematics\nfor hot_spring_record in hot_spring_records:\n    \n    # Getting the schematic and broken spring group numbers from the record\n    schematic = hot_spring_record[0]\n    broken_spring_groups = hot_spring_record[1]\n    \n    # Getting all possible combinations based on current schematics\n    spring_combinations = generate_spring_combinations(schematic)\n    \n    # Iterating over all the combinations\n    for combo in spring_combinations:\n        \n        # Getting the number of broken spring groups in this current combination\n        current_broken_spring_groups = count_broken_spring_groups(combo)\n        \n        # Checking if this is a possible arrangement that works\n        if current_broken_spring_groups == broken_spring_groups:\n            possible_arrangements += 1\n\nprint(f'Number of possible arrangements: {possible_arrangements}')",
   "execution_count": 5,
   "outputs": [
    {
     "output_type": "stream",
     "text": "Number of possible arrangements: 6488\n",
     "name": "stdout"
    }
   ]
  },
  {
   "metadata": {
    "trusted": true
   },
   "cell_type": "code",
   "source": "",
   "execution_count": null,
   "outputs": []
  }
 ],
 "metadata": {
  "kernelspec": {
   "name": "python3",
   "display_name": "Python 3",
   "language": "python"
  },
  "language_info": {
   "name": "python",
   "version": "3.10.4",
   "mimetype": "text/x-python",
   "codemirror_mode": {
    "name": "ipython",
    "version": 3
   },
   "pygments_lexer": "ipython3",
   "nbconvert_exporter": "python",
   "file_extension": ".py"
  }
 },
 "nbformat": 4,
 "nbformat_minor": 2
}