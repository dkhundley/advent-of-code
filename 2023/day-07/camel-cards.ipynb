{
 "cells": [
  {
   "cell_type": "markdown",
   "metadata": {},
   "source": [
    "# 2023 Day 7: Camel Cards\n",
    "\n",
    "## Part 1\n",
    "\n",
    "Your all-expenses-paid trip turns out to be a one-way, five-minute ride in an airship. (At least it's a cool airship!) It drops you off at the edge of a vast desert and descends back to Island Island.\n",
    "\n",
    "\"Did you bring the parts?\"\n",
    "\n",
    "You turn around to see an Elf completely covered in white clothing, wearing goggles, and riding a large camel.\n",
    "\n",
    "\"Did you bring the parts?\" she asks again, louder this time. You aren't sure what parts she's looking for; you're here to figure out why the sand stopped.\n",
    "\n",
    "\"The parts! For the sand, yes! Come with me; I will show you.\" She beckons you onto the camel.\n",
    "\n",
    "After riding a bit across the sands of Desert Island, you can see what look like very large rocks covering half of the horizon. The Elf explains that the rocks are all along the part of Desert Island that is directly above Island Island, making it hard to even get there. Normally, they use big machines to move the rocks and filter the sand, but the machines have broken down because Desert Island recently stopped receiving the parts they need to fix the machines.\n",
    "\n",
    "You've already assumed it'll be your job to figure out why the parts stopped when she asks if you can help. You agree automatically.\n",
    "\n",
    "Because the journey will take a few days, she offers to teach you the game of Camel Cards. Camel Cards is sort of similar to poker except it's designed to be easier to play while riding a camel.\n",
    "\n",
    "In Camel Cards, you get a list of hands, and your goal is to order them based on the strength of each hand. A hand consists of five cards labeled one of A, K, Q, J, T, 9, 8, 7, 6, 5, 4, 3, or 2. The relative strength of each card follows this order, where A is the highest and 2 is the lowest.\n",
    "\n",
    "Every hand is exactly one type. From strongest to weakest, they are:\n",
    "\n",
    "- Five of a kind, where all five cards have the same label: AAAAA\n",
    "- Four of a kind, where four cards have the same label and one card has a different label: AA8AA\n",
    "- Full house, where three cards have the same label, and the remaining two cards share a different label: 23332\n",
    "- Three of a kind, where three cards have the same label, and the remaining two cards are each different from any other card in the hand: TTT98\n",
    "- Two pair, where two cards share one label, two other cards share a second label, and the remaining card has a third label: 23432\n",
    "- One pair, where two cards share one label, and the other three cards have a different label from the pair and each other: A23A4\n",
    "- High card, where all cards' labels are distinct: 23456\n",
    "\n",
    "\n",
    "Hands are primarily ordered based on type; for example, every full house is stronger than any three of a kind.\n",
    "\n",
    "If two hands have the same type, a second ordering rule takes effect. Start by comparing the first card in each hand. If these cards are different, the hand with the stronger first card is considered stronger. If the first card in each hand have the same label, however, then move on to considering the second card in each hand. If they differ, the hand with the higher second card wins; otherwise, continue with the third card in each hand, then the fourth, then the fifth.\n",
    "\n",
    "So, 33332 and 2AAAA are both four of a kind hands, but 33332 is stronger because its first card is stronger. Similarly, 77888 and 77788 are both a full house, but 77888 is stronger because its third card is stronger (and both hands have the same first and second card).\n",
    "\n",
    "To play Camel Cards, you are given a list of hands and their corresponding bid (your puzzle input). For example:\n",
    "\n",
    "```\n",
    "32T3K 765\n",
    "T55J5 684\n",
    "KK677 28\n",
    "KTJJT 220\n",
    "QQQJA 483\n",
    "```\n",
    "\n",
    "This example shows five hands; each hand is followed by its bid amount. Each hand wins an amount equal to its bid multiplied by its rank, where the weakest hand gets rank 1, the second-weakest hand gets rank 2, and so on up to the strongest hand. Because there are five hands in this example, the strongest hand will have rank 5 and its bid will be multiplied by 5.\n",
    "\n",
    "So, the first step is to put the hands in order of strength:\n",
    "\n",
    "- 32T3K is the only one pair and the other hands are all a stronger type, so it gets rank 1.\n",
    "- KK677 and KTJJT are both two pair. Their first cards both have the same label, but the second card of KK677 is stronger (K vs T), so KTJJT gets rank 2 and KK677 gets rank 3.\n",
    "- T55J5 and QQQJA are both three of a kind. QQQJA has a stronger first card, so it gets rank 5 and T55J5 gets rank 4.\n",
    "\n",
    "Now, you can determine the total winnings of this set of hands by adding up the result of multiplying each hand's bid with its rank (765 * 1 + 220 * 2 + 28 * 3 + 684 * 4 + 483 * 5). So the total winnings in this example are 6440.\n",
    "\n",
    "Find the rank of every hand in your set. What are the total winnings?"
   ]
  },
  {
   "cell_type": "code",
   "execution_count": 1,
   "metadata": {},
   "outputs": [],
   "source": [
    "# Loading the camel card hands (puzzle input) from file\n",
    "with open('aoc-2023-day-07.txt', 'r') as f:\n",
    "    raw_camel_card_hands = f.read().splitlines()"
   ]
  },
  {
   "cell_type": "code",
   "execution_count": 2,
   "metadata": {},
   "outputs": [],
   "source": [
    "# Setting up the sample data\n",
    "sample_data = '''32T3K 765\n",
    "T55J5 684\n",
    "KK677 28\n",
    "KTJJT 220\n",
    "QQQJA 483'''.splitlines()"
   ]
  },
  {
   "cell_type": "code",
   "execution_count": 3,
   "metadata": {},
   "outputs": [],
   "source": [
    "# Overwriting the raw_camel_cards with the sample data for testing\n",
    "raw_camel_card_hands = sample_data"
   ]
  },
  {
   "cell_type": "code",
   "execution_count": 4,
   "metadata": {},
   "outputs": [],
   "source": [
    "card_strength = ['A', 'K', 'Q', 'J', 'T', '9', '8', '7', '6', '5', '4', '3', '2']"
   ]
  },
  {
   "cell_type": "code",
   "execution_count": 5,
   "metadata": {},
   "outputs": [],
   "source": [
    "# Initializing the camel cards list\n",
    "camel_cards_hands = []\n",
    "\n",
    "# Iterating over the raw camel cards and creating a list of dictionaries\n",
    "for hand in raw_camel_card_hands:\n",
    "\n",
    "    # Appending the camel cards list with a dictionary of the card and the bid\n",
    "    camel_cards_hands.append({\n",
    "        'hand': hand.split()[0],\n",
    "        'bid': int(hand.split()[1])\n",
    "    })"
   ]
  },
  {
   "cell_type": "code",
   "execution_count": 6,
   "metadata": {},
   "outputs": [
    {
     "data": {
      "text/plain": [
       "[{'hand': '32T3K', 'bid': 765},\n",
       " {'hand': 'T55J5', 'bid': 684},\n",
       " {'hand': 'KK677', 'bid': 28},\n",
       " {'hand': 'KTJJT', 'bid': 220},\n",
       " {'hand': 'QQQJA', 'bid': 483}]"
      ]
     },
     "execution_count": 6,
     "metadata": {},
     "output_type": "execute_result"
    }
   ],
   "source": [
    "camel_cards_hands"
   ]
  },
  {
   "cell_type": "code",
   "execution_count": 7,
   "metadata": {},
   "outputs": [],
   "source": [
    "def determine_hand_type(hand):\n",
    "    '''\n",
    "    Determines the type of hand being played\n",
    "\n",
    "    Inputs:\n",
    "        - hand (str): The hand being played\n",
    "\n",
    "    Returns:\n",
    "        - \n",
    "    '''\n",
    "    "
   ]
  }
 ],
 "metadata": {
  "kernelspec": {
   "display_name": "Python 3",
   "language": "python",
   "name": "python3"
  },
  "language_info": {
   "codemirror_mode": {
    "name": "ipython",
    "version": 3
   },
   "file_extension": ".py",
   "mimetype": "text/x-python",
   "name": "python",
   "nbconvert_exporter": "python",
   "pygments_lexer": "ipython3",
   "version": "3.11.10"
  }
 },
 "nbformat": 4,
 "nbformat_minor": 2
}
