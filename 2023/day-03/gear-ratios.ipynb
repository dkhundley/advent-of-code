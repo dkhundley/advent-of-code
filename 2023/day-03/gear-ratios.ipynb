{
 "cells": [
  {
   "cell_type": "markdown",
   "metadata": {},
   "source": [
    "# 2023 Day 3: Gear Ratios\n",
    "\n",
    "## Part 1\n",
    "\n",
    "\n",
    "You and the Elf eventually reach a gondola lift station; he says the gondola lift will take you up to the water source, but this is as far as he can bring you. You go inside.\n",
    "\n",
    "It doesn't take long to find the gondolas, but there seems to be a problem: they're not moving.\n",
    "\n",
    "\"Aaah!\"\n",
    "\n",
    "You turn around to see a slightly-greasy Elf with a wrench and a look of surprise. \"Sorry, I wasn't expecting anyone! The gondola lift isn't working right now; it'll still be a while before I can fix it.\" You offer to help.\n",
    "\n",
    "The engineer explains that an engine part seems to be missing from the engine, but nobody can figure out which one. If you can add up all the part numbers in the engine schematic, it should be easy to work out which part is missing.\n",
    "\n",
    "The engine schematic (your puzzle input) consists of a visual representation of the engine. There are lots of numbers and symbols you don't really understand, but apparently any number adjacent to a symbol, even diagonally, is a \"part number\" and should be included in your sum. (Periods (.) do not count as a symbol.)\n",
    "\n",
    "Here is an example engine schematic:\n",
    "\n",
    "```\n",
    "467..114..\n",
    "...*......\n",
    "..35..633.\n",
    "......#...\n",
    "617*......\n",
    ".....+.58.\n",
    "..592.....\n",
    "......755.\n",
    "...$.*....\n",
    ".664.598..\n",
    "```\n",
    "\n",
    "In this schematic, two numbers are not part numbers because they are not adjacent to a symbol: 114 (top right) and 58 (middle right). Every other number is adjacent to a symbol and so is a part number; their sum is 4361.\n",
    "\n",
    "Of course, the actual engine schematic is much larger. What is the sum of all of the part numbers in the engine schematic?"
   ]
  },
  {
   "cell_type": "code",
   "execution_count": 1,
   "metadata": {
    "trusted": true
   },
   "outputs": [
    {
     "data": {
      "text/plain": [
       "['467..114..',\n",
       " '...*......',\n",
       " '..35..633.',\n",
       " '......#...',\n",
       " '617*......',\n",
       " '.....+.58.',\n",
       " '..592.....',\n",
       " '......755.',\n",
       " '...$.*....',\n",
       " '.664.598..']"
      ]
     },
     "execution_count": 1,
     "metadata": {},
     "output_type": "execute_result"
    }
   ],
   "source": [
    "# Setting the sample input\n",
    "sample_input = '''467..114..\n",
    "...*......\n",
    "..35..633.\n",
    "......#...\n",
    "617*......\n",
    ".....+.58.\n",
    "..592.....\n",
    "......755.\n",
    "...$.*....\n",
    ".664.598..'''.split('\\n')\n",
    "\n",
    "sample_input"
   ]
  },
  {
   "cell_type": "code",
   "execution_count": 2,
   "metadata": {
    "trusted": true
   },
   "outputs": [],
   "source": [
    "# Loading the full input\n",
    "with open('aoc-2023-day-03.txt', 'r') as f:\n",
    "    engine_schematic = f.read().splitlines()"
   ]
  },
  {
   "cell_type": "code",
   "execution_count": 3,
   "metadata": {
    "trusted": true
   },
   "outputs": [],
   "source": [
    "# Setting the sample input as the engine schematic for testing purposes\n",
    "engine_schematic = sample_input"
   ]
  },
  {
   "cell_type": "code",
   "execution_count": 4,
   "metadata": {
    "trusted": true
   },
   "outputs": [
    {
     "name": "stdout",
     "output_type": "stream",
     "text": [
      "{'#', '*', '$', '+'}\n"
     ]
    }
   ],
   "source": [
    "# Instantiating a set to hold all of the special characters\n",
    "special_chars = set()\n",
    "\n",
    "# Extracting all the special characters\n",
    "for row in engine_schematic:\n",
    "    \n",
    "    # Iterating over all the characters in the row\n",
    "    for char in list(row):\n",
    "        \n",
    "        # Checking if the character is a digit or a period\n",
    "        if not (char == '.' or char.isdigit()):\n",
    "            special_chars.add(char)\n",
    "            \n",
    "print(special_chars)"
   ]
  },
  {
   "cell_type": "code",
   "execution_count": 5,
   "metadata": {
    "trusted": true
   },
   "outputs": [],
   "source": [
    "def check_adjacency(row_number, starting_pos, ending_pos):\n",
    "    '''\n",
    "    Checks if the number is adjacent to any special characters\n",
    "    \n",
    "    Inputs:\n",
    "        - row_number (int): The current row we are working in\n",
    "        - starting_pos (int): The starting index position of the number we are currently working with\n",
    "        - ending_pos (int): The ending index position of the number we are currently working with\n",
    "        \n",
    "    Returns:\n",
    "        - (boolean): A boolean indicator where \"True\" means it is adjacent and \"False\" means it is not\n",
    "    '''\n",
    "    \n",
    "    # Referencing the full engine schematic and special characters as global variables\n",
    "    global engine_schematic\n",
    "    global special_chars\n",
    "    \n",
    "    # Iterating over all the characters within the starting and ending positions\n",
    "    for current_pos in range(starting_pos, ending_pos + 1):\n",
    "        \n",
    "        # Wrapping everything in a try-except block to catch out-of-bounds errors\n",
    "        try:\n",
    "        \n",
    "            # Checking the top left adjacency\n",
    "            if engine_schematic[row_number - 1][current_pos - 1] in special_chars:\n",
    "                return True\n",
    "\n",
    "            # Checking top adjacency\n",
    "            if engine_schematic[row_number - 1][current_pos] in special_chars:\n",
    "                return True\n",
    "\n",
    "            # Checking top right adjacency\n",
    "            if engine_schematic[row_number - 1][current_pos + 1] in special_chars:\n",
    "                return True\n",
    "\n",
    "            # Checking left adjacency\n",
    "            if engine_schematic[row_number][current_pos - 1] in special_chars:\n",
    "                return True\n",
    "\n",
    "            # Checking right adjacency\n",
    "            if engine_schematic[row_number][current_pos + 1] in special_chars:\n",
    "                return True\n",
    "\n",
    "            # Checking bottom left adjacency\n",
    "            if engine_schematic[row_number + 1][current_pos - 1] in special_chars:\n",
    "                return True\n",
    "\n",
    "            # Checking bottom adjacency\n",
    "            if engine_schematic[row_number + 1][current_pos] in special_chars:\n",
    "                return True\n",
    "\n",
    "            # Checking bottom right adjacency\n",
    "            if engine_schematic[row_number + 1][current_pos + 1] in special_chars:\n",
    "                return True\n",
    "        \n",
    "        # Continuing past any errors related to out-of-bounds concerns\n",
    "        except IndexError:\n",
    "            continue\n",
    "    \n",
    "    # Returning False if no adjacent characters found \n",
    "    return False"
   ]
  },
  {
   "cell_type": "code",
   "execution_count": 6,
   "metadata": {
    "trusted": true
   },
   "outputs": [
    {
     "name": "stdout",
     "output_type": "stream",
     "text": [
      "Final sum: 4361\n"
     ]
    }
   ],
   "source": [
    "# Instantiating a value to represent the final sum\n",
    "final_sum = 0\n",
    "\n",
    "# Instantiating a value to represent the row number\n",
    "row_number = 0\n",
    "\n",
    "# Iterating over all the lines in the engine schematic\n",
    "while row_number < len(engine_schematic):\n",
    "    \n",
    "    # Getting the current row\n",
    "    current_row = engine_schematic[row_number]\n",
    "\n",
    "    # Converting the string to a list of values\n",
    "    row_list = list(current_row)\n",
    "\n",
    "    # Instantiating a value to represent the index position\n",
    "    i = 0\n",
    "\n",
    "    # Instantiating values to represent starting and ending positions of numbers\n",
    "    starting_pos = -1\n",
    "    ending_pos = -1\n",
    "\n",
    "    # Iterating over each character in the row\n",
    "    while i < len(row_list):\n",
    "\n",
    "        # Getting the current character in the row\n",
    "        current_char = row_list[i]\n",
    "\n",
    "        # Checking if the current character is a digit and is the new starting position\n",
    "        if current_char.isdigit() and starting_pos == -1:\n",
    "\n",
    "            # Setting the current position as the starting position\n",
    "            starting_pos = i\n",
    "            \n",
    "            # Checking if this is a single digit\n",
    "            if not engine_schematic[row_number][starting_pos + 1].isdigit() or i == len(row_list) - 1:\n",
    "                \n",
    "                # Checking if the single number is adjacent to any special characters\n",
    "                is_adjacent = check_adjacency(row_number, starting_pos, starting_pos + 1)\n",
    "                \n",
    "                # Incrementing the final sum for any numbers adjacent to a special character\n",
    "                if is_adjacent:\n",
    "                    final_sum += int(engine_schematic[row_number][starting_pos])\n",
    "                    \n",
    "                # Resetting the starting position\n",
    "                starting_pos = -1\n",
    "\n",
    "        # Checking if this is a digit at the end of a row\n",
    "        elif current_char.isdigit() and i == len(row_list) - 1:\n",
    "\n",
    "            # Setting the current position as the ending position\n",
    "            ending_pos = i\n",
    "            \n",
    "            # Checking if this number is adjacent to any special characters\n",
    "            is_adjacent = check_adjacency(row_number, starting_pos, ending_pos)\n",
    "            \n",
    "            # Incrementing the final sum for any numbers adjacent to a special character\n",
    "            if is_adjacent:\n",
    "                final_sum += int(engine_schematic[row_number][starting_pos:ending_pos + 1])\n",
    "            \n",
    "            # Resetting the starting and ending positions\n",
    "            starting_pos = -1\n",
    "            ending_pos = -1\n",
    "\n",
    "        # Checking if this is a digit that isn't in the starting position but also not at the end of the row\n",
    "        elif current_char.isdigit() and starting_pos != -1 and (engine_schematic[row_number][i + 1] == '.' or engine_schematic[row_number][i + 1] in special_chars):\n",
    "            \n",
    "            # Setting the current position as the ending position\n",
    "            ending_pos = i\n",
    "            \n",
    "            # Checking if this number is adjacent to any special characters\n",
    "            is_adjacent = check_adjacency(row_number, starting_pos, ending_pos)\n",
    "            \n",
    "            # Incrementing the final sum for any numbers adjacent to a special character\n",
    "            if is_adjacent:\n",
    "                final_sum += int(engine_schematic[row_number][starting_pos:ending_pos + 1])\n",
    "            \n",
    "            # Resetting the starting and ending positions\n",
    "            starting_pos = -1\n",
    "            ending_pos = -1\n",
    "\n",
    "        # Incrementing the index position\n",
    "        i += 1\n",
    "        \n",
    "    # Moving to the next row\n",
    "    row_number += 1\n",
    "    \n",
    "# Printing the final sum\n",
    "print(f'Final sum: {final_sum}')"
   ]
  },
  {
   "cell_type": "markdown",
   "metadata": {},
   "source": [
    "## Part 2\n",
    "\n",
    "The engineer finds the missing part and installs it in the engine! As the engine springs to life, you jump in the closest gondola, finally ready to ascend to the water source.\n",
    "\n",
    "You don't seem to be going very fast, though. Maybe something is still wrong? Fortunately, the gondola has a phone labeled \"help\", so you pick it up and the engineer answers.\n",
    "\n",
    "Before you can explain the situation, she suggests that you look out the window. There stands the engineer, holding a phone in one hand and waving with the other. You're going so slowly that you haven't even left the station. You exit the gondola.\n",
    "\n",
    "The missing part wasn't the only issue - one of the gears in the engine is wrong. A gear is any * symbol that is adjacent to exactly two part numbers. Its gear ratio is the result of multiplying those two numbers together.\n",
    "\n",
    "This time, you need to find the gear ratio of every gear and add them all up so that the engineer can figure out which gear needs to be replaced.\n",
    "\n",
    "Consider the same engine schematic again:\n",
    "```\n",
    "467..114..\n",
    "...*......\n",
    "..35..633.\n",
    "......#...\n",
    "617*......\n",
    ".....+.58.\n",
    "..592.....\n",
    "......755.\n",
    "...$.*....\n",
    ".664.598..\n",
    "```\n",
    "In this schematic, there are two gears. The first is in the top left; it has part numbers 467 and 35, so its gear ratio is 16345. The second gear is in the lower right; its gear ratio is 451490. (The * adjacent to 617 is not a gear because it is only adjacent to one part number.) Adding up all of the gear ratios produces 467835.\n",
    "\n",
    "What is the sum of all of the gear ratios in your engine schematic?"
   ]
  },
  {
   "cell_type": "code",
   "execution_count": 8,
   "metadata": {
    "trusted": true
   },
   "outputs": [],
   "source": [
    "import re"
   ]
  },
  {
   "cell_type": "code",
   "execution_count": 14,
   "metadata": {
    "trusted": true
   },
   "outputs": [],
   "source": [
    "def extract_numbers_with_positions(input_string):\n",
    "    '''\n",
    "    Extracts all the numbers from a string along with their positions\n",
    "\n",
    "    Inputs:\n",
    "        - input_string (str): The input string we are working with\n",
    "\n",
    "    Returns:\n",
    "        - results (list): A list of tuples where each tuple contains the number, starting position, and ending position\n",
    "    '''\n",
    "    # Setting regular expression pattern to match consecutive digits\n",
    "    pattern = r'\\d+'\n",
    "    \n",
    "    # Finding all matches in the input string\n",
    "    matches = re.finditer(pattern, input_string)\n",
    "    \n",
    "    # Instantiating list to store results\n",
    "    results = []\n",
    "    \n",
    "    # Processing each match\n",
    "    for match in matches:\n",
    "        number = int(match.group())  # Storing the matched number as an integer\n",
    "        start = match.start()   # Start index of the match\n",
    "        end = match.end()       # End index of the match\n",
    "        results.append((number, start, end))\n",
    "    \n",
    "    return results"
   ]
  },
  {
   "cell_type": "code",
   "execution_count": 15,
   "metadata": {
    "trusted": true
   },
   "outputs": [
    {
     "data": {
      "text/plain": [
       "[(467, 0, 3), (114, 5, 8)]"
      ]
     },
     "execution_count": 15,
     "metadata": {},
     "output_type": "execute_result"
    }
   ],
   "source": [
    "extract_numbers_with_positions(engine_schematic[0])"
   ]
  },
  {
   "cell_type": "code",
   "execution_count": 2,
   "metadata": {},
   "outputs": [],
   "source": [
    "test = {\n",
    "    0: [(1, 2, 3), (2, 4, 5), (3, 6, 7)],\n",
    "    1: [(4, 2, 3), (5, 4, 5), (6, 6, 7)],\n",
    "    2: [(7, 2, 3), (8, 4, 5), (9, 6, 7)]\n",
    "}"
   ]
  },
  {
   "cell_type": "code",
   "execution_count": 3,
   "metadata": {},
   "outputs": [
    {
     "data": {
      "text/plain": [
       "[(1, 2, 3), (2, 4, 5), (3, 6, 7)]"
      ]
     },
     "execution_count": 3,
     "metadata": {},
     "output_type": "execute_result"
    }
   ],
   "source": [
    "test[0]"
   ]
  },
  {
   "cell_type": "code",
   "execution_count": null,
   "metadata": {},
   "outputs": [],
   "source": []
  }
 ],
 "metadata": {
  "kernelspec": {
   "display_name": "Python 3",
   "language": "python",
   "name": "python3"
  },
  "language_info": {
   "codemirror_mode": {
    "name": "ipython",
    "version": 3
   },
   "file_extension": ".py",
   "mimetype": "text/x-python",
   "name": "python",
   "nbconvert_exporter": "python",
   "pygments_lexer": "ipython3",
   "version": "3.11.10"
  }
 },
 "nbformat": 4,
 "nbformat_minor": 2
}
